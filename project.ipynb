{
 "cells": [
  {
   "cell_type": "code",
   "execution_count": null,
   "id": "08d44a3d-6cfb-4537-9e3d-6e4b6df0d110",
   "metadata": {},
   "outputs": [],
   "source": [
    "# Loading Data"
   ]
  },
  {
   "cell_type": "code",
   "execution_count": 6,
   "id": "0c914e05-0863-4d94-8216-9e4de6c565c3",
   "metadata": {},
   "outputs": [
    {
     "data": {
      "text/html": [
       "<div>\n",
       "<style scoped>\n",
       "    .dataframe tbody tr th:only-of-type {\n",
       "        vertical-align: middle;\n",
       "    }\n",
       "\n",
       "    .dataframe tbody tr th {\n",
       "        vertical-align: top;\n",
       "    }\n",
       "\n",
       "    .dataframe thead th {\n",
       "        text-align: right;\n",
       "    }\n",
       "</style>\n",
       "<table border=\"1\" class=\"dataframe\">\n",
       "  <thead>\n",
       "    <tr style=\"text-align: right;\">\n",
       "      <th></th>\n",
       "      <th>hotel</th>\n",
       "      <th>is_canceled</th>\n",
       "      <th>lead_time</th>\n",
       "      <th>arrival_date_year</th>\n",
       "      <th>arrival_date_month</th>\n",
       "      <th>arrival_date_week_number</th>\n",
       "      <th>arrival_date_day_of_month</th>\n",
       "      <th>stays_in_weekend_nights</th>\n",
       "      <th>stays_in_week_nights</th>\n",
       "      <th>adults</th>\n",
       "      <th>children</th>\n",
       "      <th>babies</th>\n",
       "      <th>meal</th>\n",
       "      <th>country</th>\n",
       "      <th>market_segment</th>\n",
       "      <th>distribution_channel</th>\n",
       "      <th>is_repeated_guest</th>\n",
       "      <th>previous_cancellations</th>\n",
       "      <th>previous_bookings_not_canceled</th>\n",
       "      <th>reserved_room_type</th>\n",
       "      <th>assigned_room_type</th>\n",
       "      <th>booking_changes</th>\n",
       "      <th>deposit_type</th>\n",
       "      <th>agent</th>\n",
       "      <th>company</th>\n",
       "      <th>days_in_waiting_list</th>\n",
       "      <th>customer_type</th>\n",
       "      <th>adr</th>\n",
       "      <th>required_car_parking_spaces</th>\n",
       "      <th>total_of_special_requests</th>\n",
       "      <th>reservation_status</th>\n",
       "      <th>reservation_status_date</th>\n",
       "    </tr>\n",
       "  </thead>\n",
       "  <tbody>\n",
       "    <tr>\n",
       "      <th>0</th>\n",
       "      <td>Resort Hotel</td>\n",
       "      <td>0</td>\n",
       "      <td>342</td>\n",
       "      <td>2015</td>\n",
       "      <td>July</td>\n",
       "      <td>27</td>\n",
       "      <td>1</td>\n",
       "      <td>0</td>\n",
       "      <td>0</td>\n",
       "      <td>2</td>\n",
       "      <td>0.0</td>\n",
       "      <td>0</td>\n",
       "      <td>BB</td>\n",
       "      <td>PRT</td>\n",
       "      <td>Direct</td>\n",
       "      <td>Direct</td>\n",
       "      <td>0</td>\n",
       "      <td>0</td>\n",
       "      <td>0</td>\n",
       "      <td>C</td>\n",
       "      <td>C</td>\n",
       "      <td>3</td>\n",
       "      <td>No Deposit</td>\n",
       "      <td>NaN</td>\n",
       "      <td>NaN</td>\n",
       "      <td>0</td>\n",
       "      <td>Transient</td>\n",
       "      <td>0.00</td>\n",
       "      <td>0</td>\n",
       "      <td>0</td>\n",
       "      <td>Check-Out</td>\n",
       "      <td>2015-07-01</td>\n",
       "    </tr>\n",
       "    <tr>\n",
       "      <th>1</th>\n",
       "      <td>Resort Hotel</td>\n",
       "      <td>0</td>\n",
       "      <td>737</td>\n",
       "      <td>2015</td>\n",
       "      <td>July</td>\n",
       "      <td>27</td>\n",
       "      <td>1</td>\n",
       "      <td>0</td>\n",
       "      <td>0</td>\n",
       "      <td>2</td>\n",
       "      <td>0.0</td>\n",
       "      <td>0</td>\n",
       "      <td>BB</td>\n",
       "      <td>PRT</td>\n",
       "      <td>Direct</td>\n",
       "      <td>Direct</td>\n",
       "      <td>0</td>\n",
       "      <td>0</td>\n",
       "      <td>0</td>\n",
       "      <td>C</td>\n",
       "      <td>C</td>\n",
       "      <td>4</td>\n",
       "      <td>No Deposit</td>\n",
       "      <td>NaN</td>\n",
       "      <td>NaN</td>\n",
       "      <td>0</td>\n",
       "      <td>Transient</td>\n",
       "      <td>0.00</td>\n",
       "      <td>0</td>\n",
       "      <td>0</td>\n",
       "      <td>Check-Out</td>\n",
       "      <td>2015-07-01</td>\n",
       "    </tr>\n",
       "    <tr>\n",
       "      <th>2</th>\n",
       "      <td>Resort Hotel</td>\n",
       "      <td>0</td>\n",
       "      <td>7</td>\n",
       "      <td>2015</td>\n",
       "      <td>July</td>\n",
       "      <td>27</td>\n",
       "      <td>1</td>\n",
       "      <td>0</td>\n",
       "      <td>1</td>\n",
       "      <td>1</td>\n",
       "      <td>0.0</td>\n",
       "      <td>0</td>\n",
       "      <td>BB</td>\n",
       "      <td>GBR</td>\n",
       "      <td>Direct</td>\n",
       "      <td>Direct</td>\n",
       "      <td>0</td>\n",
       "      <td>0</td>\n",
       "      <td>0</td>\n",
       "      <td>A</td>\n",
       "      <td>C</td>\n",
       "      <td>0</td>\n",
       "      <td>No Deposit</td>\n",
       "      <td>NaN</td>\n",
       "      <td>NaN</td>\n",
       "      <td>0</td>\n",
       "      <td>Transient</td>\n",
       "      <td>75.00</td>\n",
       "      <td>0</td>\n",
       "      <td>0</td>\n",
       "      <td>Check-Out</td>\n",
       "      <td>2015-07-02</td>\n",
       "    </tr>\n",
       "    <tr>\n",
       "      <th>3</th>\n",
       "      <td>Resort Hotel</td>\n",
       "      <td>0</td>\n",
       "      <td>13</td>\n",
       "      <td>2015</td>\n",
       "      <td>July</td>\n",
       "      <td>27</td>\n",
       "      <td>1</td>\n",
       "      <td>0</td>\n",
       "      <td>1</td>\n",
       "      <td>1</td>\n",
       "      <td>0.0</td>\n",
       "      <td>0</td>\n",
       "      <td>BB</td>\n",
       "      <td>GBR</td>\n",
       "      <td>Corporate</td>\n",
       "      <td>Corporate</td>\n",
       "      <td>0</td>\n",
       "      <td>0</td>\n",
       "      <td>0</td>\n",
       "      <td>A</td>\n",
       "      <td>A</td>\n",
       "      <td>0</td>\n",
       "      <td>No Deposit</td>\n",
       "      <td>304.0</td>\n",
       "      <td>NaN</td>\n",
       "      <td>0</td>\n",
       "      <td>Transient</td>\n",
       "      <td>75.00</td>\n",
       "      <td>0</td>\n",
       "      <td>0</td>\n",
       "      <td>Check-Out</td>\n",
       "      <td>2015-07-02</td>\n",
       "    </tr>\n",
       "    <tr>\n",
       "      <th>4</th>\n",
       "      <td>Resort Hotel</td>\n",
       "      <td>0</td>\n",
       "      <td>14</td>\n",
       "      <td>2015</td>\n",
       "      <td>July</td>\n",
       "      <td>27</td>\n",
       "      <td>1</td>\n",
       "      <td>0</td>\n",
       "      <td>2</td>\n",
       "      <td>2</td>\n",
       "      <td>0.0</td>\n",
       "      <td>0</td>\n",
       "      <td>BB</td>\n",
       "      <td>GBR</td>\n",
       "      <td>Online TA</td>\n",
       "      <td>TA/TO</td>\n",
       "      <td>0</td>\n",
       "      <td>0</td>\n",
       "      <td>0</td>\n",
       "      <td>A</td>\n",
       "      <td>A</td>\n",
       "      <td>0</td>\n",
       "      <td>No Deposit</td>\n",
       "      <td>240.0</td>\n",
       "      <td>NaN</td>\n",
       "      <td>0</td>\n",
       "      <td>Transient</td>\n",
       "      <td>98.00</td>\n",
       "      <td>0</td>\n",
       "      <td>1</td>\n",
       "      <td>Check-Out</td>\n",
       "      <td>2015-07-03</td>\n",
       "    </tr>\n",
       "    <tr>\n",
       "      <th>...</th>\n",
       "      <td>...</td>\n",
       "      <td>...</td>\n",
       "      <td>...</td>\n",
       "      <td>...</td>\n",
       "      <td>...</td>\n",
       "      <td>...</td>\n",
       "      <td>...</td>\n",
       "      <td>...</td>\n",
       "      <td>...</td>\n",
       "      <td>...</td>\n",
       "      <td>...</td>\n",
       "      <td>...</td>\n",
       "      <td>...</td>\n",
       "      <td>...</td>\n",
       "      <td>...</td>\n",
       "      <td>...</td>\n",
       "      <td>...</td>\n",
       "      <td>...</td>\n",
       "      <td>...</td>\n",
       "      <td>...</td>\n",
       "      <td>...</td>\n",
       "      <td>...</td>\n",
       "      <td>...</td>\n",
       "      <td>...</td>\n",
       "      <td>...</td>\n",
       "      <td>...</td>\n",
       "      <td>...</td>\n",
       "      <td>...</td>\n",
       "      <td>...</td>\n",
       "      <td>...</td>\n",
       "      <td>...</td>\n",
       "      <td>...</td>\n",
       "    </tr>\n",
       "    <tr>\n",
       "      <th>119385</th>\n",
       "      <td>City Hotel</td>\n",
       "      <td>0</td>\n",
       "      <td>23</td>\n",
       "      <td>2017</td>\n",
       "      <td>August</td>\n",
       "      <td>35</td>\n",
       "      <td>30</td>\n",
       "      <td>2</td>\n",
       "      <td>5</td>\n",
       "      <td>2</td>\n",
       "      <td>0.0</td>\n",
       "      <td>0</td>\n",
       "      <td>BB</td>\n",
       "      <td>BEL</td>\n",
       "      <td>Offline TA/TO</td>\n",
       "      <td>TA/TO</td>\n",
       "      <td>0</td>\n",
       "      <td>0</td>\n",
       "      <td>0</td>\n",
       "      <td>A</td>\n",
       "      <td>A</td>\n",
       "      <td>0</td>\n",
       "      <td>No Deposit</td>\n",
       "      <td>394.0</td>\n",
       "      <td>NaN</td>\n",
       "      <td>0</td>\n",
       "      <td>Transient</td>\n",
       "      <td>96.14</td>\n",
       "      <td>0</td>\n",
       "      <td>0</td>\n",
       "      <td>Check-Out</td>\n",
       "      <td>2017-09-06</td>\n",
       "    </tr>\n",
       "    <tr>\n",
       "      <th>119386</th>\n",
       "      <td>City Hotel</td>\n",
       "      <td>0</td>\n",
       "      <td>102</td>\n",
       "      <td>2017</td>\n",
       "      <td>August</td>\n",
       "      <td>35</td>\n",
       "      <td>31</td>\n",
       "      <td>2</td>\n",
       "      <td>5</td>\n",
       "      <td>3</td>\n",
       "      <td>0.0</td>\n",
       "      <td>0</td>\n",
       "      <td>BB</td>\n",
       "      <td>FRA</td>\n",
       "      <td>Online TA</td>\n",
       "      <td>TA/TO</td>\n",
       "      <td>0</td>\n",
       "      <td>0</td>\n",
       "      <td>0</td>\n",
       "      <td>E</td>\n",
       "      <td>E</td>\n",
       "      <td>0</td>\n",
       "      <td>No Deposit</td>\n",
       "      <td>9.0</td>\n",
       "      <td>NaN</td>\n",
       "      <td>0</td>\n",
       "      <td>Transient</td>\n",
       "      <td>225.43</td>\n",
       "      <td>0</td>\n",
       "      <td>2</td>\n",
       "      <td>Check-Out</td>\n",
       "      <td>2017-09-07</td>\n",
       "    </tr>\n",
       "    <tr>\n",
       "      <th>119387</th>\n",
       "      <td>City Hotel</td>\n",
       "      <td>0</td>\n",
       "      <td>34</td>\n",
       "      <td>2017</td>\n",
       "      <td>August</td>\n",
       "      <td>35</td>\n",
       "      <td>31</td>\n",
       "      <td>2</td>\n",
       "      <td>5</td>\n",
       "      <td>2</td>\n",
       "      <td>0.0</td>\n",
       "      <td>0</td>\n",
       "      <td>BB</td>\n",
       "      <td>DEU</td>\n",
       "      <td>Online TA</td>\n",
       "      <td>TA/TO</td>\n",
       "      <td>0</td>\n",
       "      <td>0</td>\n",
       "      <td>0</td>\n",
       "      <td>D</td>\n",
       "      <td>D</td>\n",
       "      <td>0</td>\n",
       "      <td>No Deposit</td>\n",
       "      <td>9.0</td>\n",
       "      <td>NaN</td>\n",
       "      <td>0</td>\n",
       "      <td>Transient</td>\n",
       "      <td>157.71</td>\n",
       "      <td>0</td>\n",
       "      <td>4</td>\n",
       "      <td>Check-Out</td>\n",
       "      <td>2017-09-07</td>\n",
       "    </tr>\n",
       "    <tr>\n",
       "      <th>119388</th>\n",
       "      <td>City Hotel</td>\n",
       "      <td>0</td>\n",
       "      <td>109</td>\n",
       "      <td>2017</td>\n",
       "      <td>August</td>\n",
       "      <td>35</td>\n",
       "      <td>31</td>\n",
       "      <td>2</td>\n",
       "      <td>5</td>\n",
       "      <td>2</td>\n",
       "      <td>0.0</td>\n",
       "      <td>0</td>\n",
       "      <td>BB</td>\n",
       "      <td>GBR</td>\n",
       "      <td>Online TA</td>\n",
       "      <td>TA/TO</td>\n",
       "      <td>0</td>\n",
       "      <td>0</td>\n",
       "      <td>0</td>\n",
       "      <td>A</td>\n",
       "      <td>A</td>\n",
       "      <td>0</td>\n",
       "      <td>No Deposit</td>\n",
       "      <td>89.0</td>\n",
       "      <td>NaN</td>\n",
       "      <td>0</td>\n",
       "      <td>Transient</td>\n",
       "      <td>104.40</td>\n",
       "      <td>0</td>\n",
       "      <td>0</td>\n",
       "      <td>Check-Out</td>\n",
       "      <td>2017-09-07</td>\n",
       "    </tr>\n",
       "    <tr>\n",
       "      <th>119389</th>\n",
       "      <td>City Hotel</td>\n",
       "      <td>0</td>\n",
       "      <td>205</td>\n",
       "      <td>2017</td>\n",
       "      <td>August</td>\n",
       "      <td>35</td>\n",
       "      <td>29</td>\n",
       "      <td>2</td>\n",
       "      <td>7</td>\n",
       "      <td>2</td>\n",
       "      <td>0.0</td>\n",
       "      <td>0</td>\n",
       "      <td>HB</td>\n",
       "      <td>DEU</td>\n",
       "      <td>Online TA</td>\n",
       "      <td>TA/TO</td>\n",
       "      <td>0</td>\n",
       "      <td>0</td>\n",
       "      <td>0</td>\n",
       "      <td>A</td>\n",
       "      <td>A</td>\n",
       "      <td>0</td>\n",
       "      <td>No Deposit</td>\n",
       "      <td>9.0</td>\n",
       "      <td>NaN</td>\n",
       "      <td>0</td>\n",
       "      <td>Transient</td>\n",
       "      <td>151.20</td>\n",
       "      <td>0</td>\n",
       "      <td>2</td>\n",
       "      <td>Check-Out</td>\n",
       "      <td>2017-09-07</td>\n",
       "    </tr>\n",
       "  </tbody>\n",
       "</table>\n",
       "<p>119390 rows × 32 columns</p>\n",
       "</div>"
      ],
      "text/plain": [
       "               hotel  is_canceled  lead_time  arrival_date_year  \\\n",
       "0       Resort Hotel            0        342               2015   \n",
       "1       Resort Hotel            0        737               2015   \n",
       "2       Resort Hotel            0          7               2015   \n",
       "3       Resort Hotel            0         13               2015   \n",
       "4       Resort Hotel            0         14               2015   \n",
       "...              ...          ...        ...                ...   \n",
       "119385    City Hotel            0         23               2017   \n",
       "119386    City Hotel            0        102               2017   \n",
       "119387    City Hotel            0         34               2017   \n",
       "119388    City Hotel            0        109               2017   \n",
       "119389    City Hotel            0        205               2017   \n",
       "\n",
       "       arrival_date_month  arrival_date_week_number  \\\n",
       "0                    July                        27   \n",
       "1                    July                        27   \n",
       "2                    July                        27   \n",
       "3                    July                        27   \n",
       "4                    July                        27   \n",
       "...                   ...                       ...   \n",
       "119385             August                        35   \n",
       "119386             August                        35   \n",
       "119387             August                        35   \n",
       "119388             August                        35   \n",
       "119389             August                        35   \n",
       "\n",
       "        arrival_date_day_of_month  stays_in_weekend_nights  \\\n",
       "0                               1                        0   \n",
       "1                               1                        0   \n",
       "2                               1                        0   \n",
       "3                               1                        0   \n",
       "4                               1                        0   \n",
       "...                           ...                      ...   \n",
       "119385                         30                        2   \n",
       "119386                         31                        2   \n",
       "119387                         31                        2   \n",
       "119388                         31                        2   \n",
       "119389                         29                        2   \n",
       "\n",
       "        stays_in_week_nights  adults  children  babies meal country  \\\n",
       "0                          0       2       0.0       0   BB     PRT   \n",
       "1                          0       2       0.0       0   BB     PRT   \n",
       "2                          1       1       0.0       0   BB     GBR   \n",
       "3                          1       1       0.0       0   BB     GBR   \n",
       "4                          2       2       0.0       0   BB     GBR   \n",
       "...                      ...     ...       ...     ...  ...     ...   \n",
       "119385                     5       2       0.0       0   BB     BEL   \n",
       "119386                     5       3       0.0       0   BB     FRA   \n",
       "119387                     5       2       0.0       0   BB     DEU   \n",
       "119388                     5       2       0.0       0   BB     GBR   \n",
       "119389                     7       2       0.0       0   HB     DEU   \n",
       "\n",
       "       market_segment distribution_channel  is_repeated_guest  \\\n",
       "0              Direct               Direct                  0   \n",
       "1              Direct               Direct                  0   \n",
       "2              Direct               Direct                  0   \n",
       "3           Corporate            Corporate                  0   \n",
       "4           Online TA                TA/TO                  0   \n",
       "...               ...                  ...                ...   \n",
       "119385  Offline TA/TO                TA/TO                  0   \n",
       "119386      Online TA                TA/TO                  0   \n",
       "119387      Online TA                TA/TO                  0   \n",
       "119388      Online TA                TA/TO                  0   \n",
       "119389      Online TA                TA/TO                  0   \n",
       "\n",
       "        previous_cancellations  previous_bookings_not_canceled  \\\n",
       "0                            0                               0   \n",
       "1                            0                               0   \n",
       "2                            0                               0   \n",
       "3                            0                               0   \n",
       "4                            0                               0   \n",
       "...                        ...                             ...   \n",
       "119385                       0                               0   \n",
       "119386                       0                               0   \n",
       "119387                       0                               0   \n",
       "119388                       0                               0   \n",
       "119389                       0                               0   \n",
       "\n",
       "       reserved_room_type assigned_room_type  booking_changes deposit_type  \\\n",
       "0                       C                  C                3   No Deposit   \n",
       "1                       C                  C                4   No Deposit   \n",
       "2                       A                  C                0   No Deposit   \n",
       "3                       A                  A                0   No Deposit   \n",
       "4                       A                  A                0   No Deposit   \n",
       "...                   ...                ...              ...          ...   \n",
       "119385                  A                  A                0   No Deposit   \n",
       "119386                  E                  E                0   No Deposit   \n",
       "119387                  D                  D                0   No Deposit   \n",
       "119388                  A                  A                0   No Deposit   \n",
       "119389                  A                  A                0   No Deposit   \n",
       "\n",
       "        agent  company  days_in_waiting_list customer_type     adr  \\\n",
       "0         NaN      NaN                     0     Transient    0.00   \n",
       "1         NaN      NaN                     0     Transient    0.00   \n",
       "2         NaN      NaN                     0     Transient   75.00   \n",
       "3       304.0      NaN                     0     Transient   75.00   \n",
       "4       240.0      NaN                     0     Transient   98.00   \n",
       "...       ...      ...                   ...           ...     ...   \n",
       "119385  394.0      NaN                     0     Transient   96.14   \n",
       "119386    9.0      NaN                     0     Transient  225.43   \n",
       "119387    9.0      NaN                     0     Transient  157.71   \n",
       "119388   89.0      NaN                     0     Transient  104.40   \n",
       "119389    9.0      NaN                     0     Transient  151.20   \n",
       "\n",
       "        required_car_parking_spaces  total_of_special_requests  \\\n",
       "0                                 0                          0   \n",
       "1                                 0                          0   \n",
       "2                                 0                          0   \n",
       "3                                 0                          0   \n",
       "4                                 0                          1   \n",
       "...                             ...                        ...   \n",
       "119385                            0                          0   \n",
       "119386                            0                          2   \n",
       "119387                            0                          4   \n",
       "119388                            0                          0   \n",
       "119389                            0                          2   \n",
       "\n",
       "       reservation_status reservation_status_date  \n",
       "0               Check-Out              2015-07-01  \n",
       "1               Check-Out              2015-07-01  \n",
       "2               Check-Out              2015-07-02  \n",
       "3               Check-Out              2015-07-02  \n",
       "4               Check-Out              2015-07-03  \n",
       "...                   ...                     ...  \n",
       "119385          Check-Out              2017-09-06  \n",
       "119386          Check-Out              2017-09-07  \n",
       "119387          Check-Out              2017-09-07  \n",
       "119388          Check-Out              2017-09-07  \n",
       "119389          Check-Out              2017-09-07  \n",
       "\n",
       "[119390 rows x 32 columns]"
      ]
     },
     "execution_count": 6,
     "metadata": {},
     "output_type": "execute_result"
    }
   ],
   "source": [
    "import pandas as pd\n",
    "import numpy as n\n",
    "import matplotlib.pyplot as plt\n",
    "import seaborn as sns\n",
    "import plotly.express as px\n",
    "import missingno\n",
    "datapro=pd.read_csv('hotel_bookings.csv',header=0)\n",
    "hd=pd.DataFrame(datapro)\n",
    "pd.set_option('display.max_columns', None)\n",
    "datapro\n",
    "\n"
   ]
  },
  {
   "cell_type": "code",
   "execution_count": null,
   "id": "313b6e2e-a43b-4255-8eb9-7dfc02dddf90",
   "metadata": {},
   "outputs": [],
   "source": [
    "# Clearing Data"
   ]
  },
  {
   "cell_type": "code",
   "execution_count": 4,
   "id": "a798ccbc-130e-415c-8a4f-0815b49ce503",
   "metadata": {},
   "outputs": [
    {
     "name": "stdout",
     "output_type": "stream",
     "text": [
      "<class 'pandas.core.frame.DataFrame'>\n",
      "RangeIndex: 119390 entries, 0 to 119389\n",
      "Data columns (total 32 columns):\n",
      " #   Column                          Non-Null Count   Dtype  \n",
      "---  ------                          --------------   -----  \n",
      " 0   hotel                           119390 non-null  object \n",
      " 1   is_canceled                     119390 non-null  int64  \n",
      " 2   lead_time                       119390 non-null  int64  \n",
      " 3   arrival_date_year               119390 non-null  int64  \n",
      " 4   arrival_date_month              119390 non-null  object \n",
      " 5   arrival_date_week_number        119390 non-null  int64  \n",
      " 6   arrival_date_day_of_month       119390 non-null  int64  \n",
      " 7   stays_in_weekend_nights         119390 non-null  int64  \n",
      " 8   stays_in_week_nights            119390 non-null  int64  \n",
      " 9   adults                          119390 non-null  int64  \n",
      " 10  children                        119386 non-null  float64\n",
      " 11  babies                          119390 non-null  int64  \n",
      " 12  meal                            119390 non-null  object \n",
      " 13  country                         118902 non-null  object \n",
      " 14  market_segment                  119390 non-null  object \n",
      " 15  distribution_channel            119390 non-null  object \n",
      " 16  is_repeated_guest               119390 non-null  int64  \n",
      " 17  previous_cancellations          119390 non-null  int64  \n",
      " 18  previous_bookings_not_canceled  119390 non-null  int64  \n",
      " 19  reserved_room_type              119390 non-null  object \n",
      " 20  assigned_room_type              119390 non-null  object \n",
      " 21  booking_changes                 119390 non-null  int64  \n",
      " 22  deposit_type                    119390 non-null  object \n",
      " 23  agent                           103050 non-null  float64\n",
      " 24  company                         6797 non-null    float64\n",
      " 25  days_in_waiting_list            119390 non-null  int64  \n",
      " 26  customer_type                   119390 non-null  object \n",
      " 27  adr                             119390 non-null  float64\n",
      " 28  required_car_parking_spaces     119390 non-null  int64  \n",
      " 29  total_of_special_requests       119390 non-null  int64  \n",
      " 30  reservation_status              119390 non-null  object \n",
      " 31  reservation_status_date         119390 non-null  object \n",
      "dtypes: float64(4), int64(16), object(12)\n",
      "memory usage: 29.1+ MB\n"
     ]
    }
   ],
   "source": [
    "hd.info()"
   ]
  },
  {
   "cell_type": "code",
   "execution_count": 5,
   "id": "c5add3d9-9d2b-4a23-9c5a-ce4c81a117bc",
   "metadata": {
    "scrolled": true
   },
   "outputs": [
    {
     "data": {
      "text/plain": [
       "hotel                                  0\n",
       "is_canceled                            0\n",
       "lead_time                              0\n",
       "arrival_date_year                      0\n",
       "arrival_date_month                     0\n",
       "arrival_date_week_number               0\n",
       "arrival_date_day_of_month              0\n",
       "stays_in_weekend_nights                0\n",
       "stays_in_week_nights                   0\n",
       "adults                                 0\n",
       "children                               4\n",
       "babies                                 0\n",
       "meal                                   0\n",
       "country                              488\n",
       "market_segment                         0\n",
       "distribution_channel                   0\n",
       "is_repeated_guest                      0\n",
       "previous_cancellations                 0\n",
       "previous_bookings_not_canceled         0\n",
       "reserved_room_type                     0\n",
       "assigned_room_type                     0\n",
       "booking_changes                        0\n",
       "deposit_type                           0\n",
       "agent                              16340\n",
       "company                           112593\n",
       "days_in_waiting_list                   0\n",
       "customer_type                          0\n",
       "adr                                    0\n",
       "required_car_parking_spaces            0\n",
       "total_of_special_requests              0\n",
       "reservation_status                     0\n",
       "reservation_status_date                0\n",
       "dtype: int64"
      ]
     },
     "execution_count": 5,
     "metadata": {},
     "output_type": "execute_result"
    }
   ],
   "source": [
    "hd.isna().sum()"
   ]
  },
  {
   "cell_type": "code",
   "execution_count": 56,
   "id": "5a052e07-8475-48a2-bd6f-9699b3bfb863",
   "metadata": {},
   "outputs": [
    {
     "data": {
      "text/html": [
       "<div>\n",
       "<style scoped>\n",
       "    .dataframe tbody tr th:only-of-type {\n",
       "        vertical-align: middle;\n",
       "    }\n",
       "\n",
       "    .dataframe tbody tr th {\n",
       "        vertical-align: top;\n",
       "    }\n",
       "\n",
       "    .dataframe thead th {\n",
       "        text-align: right;\n",
       "    }\n",
       "</style>\n",
       "<table border=\"1\" class=\"dataframe\">\n",
       "  <thead>\n",
       "    <tr style=\"text-align: right;\">\n",
       "      <th></th>\n",
       "      <th>hotel</th>\n",
       "      <th>is_canceled</th>\n",
       "      <th>lead_time</th>\n",
       "      <th>arrival_date_year</th>\n",
       "      <th>arrival_date_month</th>\n",
       "      <th>arrival_date_week_number</th>\n",
       "      <th>arrival_date_day_of_month</th>\n",
       "      <th>stays_in_weekend_nights</th>\n",
       "      <th>stays_in_week_nights</th>\n",
       "      <th>adults</th>\n",
       "      <th>children</th>\n",
       "      <th>babies</th>\n",
       "      <th>meal</th>\n",
       "      <th>country</th>\n",
       "      <th>market_segment</th>\n",
       "      <th>distribution_channel</th>\n",
       "      <th>is_repeated_guest</th>\n",
       "      <th>previous_cancellations</th>\n",
       "      <th>previous_bookings_not_canceled</th>\n",
       "      <th>reserved_room_type</th>\n",
       "      <th>assigned_room_type</th>\n",
       "      <th>booking_changes</th>\n",
       "      <th>deposit_type</th>\n",
       "      <th>agent</th>\n",
       "      <th>company</th>\n",
       "      <th>days_in_waiting_list</th>\n",
       "      <th>customer_type</th>\n",
       "      <th>adr</th>\n",
       "      <th>required_car_parking_spaces</th>\n",
       "      <th>total_of_special_requests</th>\n",
       "      <th>reservation_status</th>\n",
       "      <th>reservation_status_date</th>\n",
       "    </tr>\n",
       "  </thead>\n",
       "  <tbody>\n",
       "    <tr>\n",
       "      <th>2392</th>\n",
       "      <td>Resort Hotel</td>\n",
       "      <td>0</td>\n",
       "      <td>6</td>\n",
       "      <td>2015</td>\n",
       "      <td>October</td>\n",
       "      <td>42</td>\n",
       "      <td>11</td>\n",
       "      <td>2</td>\n",
       "      <td>0</td>\n",
       "      <td>2</td>\n",
       "      <td>0.0</td>\n",
       "      <td>0</td>\n",
       "      <td>BB</td>\n",
       "      <td>PRT</td>\n",
       "      <td>Online TA</td>\n",
       "      <td>TA/TO</td>\n",
       "      <td>0</td>\n",
       "      <td>0</td>\n",
       "      <td>0</td>\n",
       "      <td>E</td>\n",
       "      <td>E</td>\n",
       "      <td>1</td>\n",
       "      <td>No Deposit</td>\n",
       "      <td>240.0</td>\n",
       "      <td>113.0</td>\n",
       "      <td>0</td>\n",
       "      <td>Transient</td>\n",
       "      <td>82.0</td>\n",
       "      <td>1</td>\n",
       "      <td>1</td>\n",
       "      <td>Check-Out</td>\n",
       "      <td>2015-10-13</td>\n",
       "    </tr>\n",
       "    <tr>\n",
       "      <th>2697</th>\n",
       "      <td>Resort Hotel</td>\n",
       "      <td>0</td>\n",
       "      <td>24</td>\n",
       "      <td>2015</td>\n",
       "      <td>October</td>\n",
       "      <td>44</td>\n",
       "      <td>26</td>\n",
       "      <td>7</td>\n",
       "      <td>15</td>\n",
       "      <td>1</td>\n",
       "      <td>0.0</td>\n",
       "      <td>0</td>\n",
       "      <td>BB</td>\n",
       "      <td>AUT</td>\n",
       "      <td>Corporate</td>\n",
       "      <td>Corporate</td>\n",
       "      <td>0</td>\n",
       "      <td>0</td>\n",
       "      <td>0</td>\n",
       "      <td>E</td>\n",
       "      <td>G</td>\n",
       "      <td>2</td>\n",
       "      <td>No Deposit</td>\n",
       "      <td>185.0</td>\n",
       "      <td>281.0</td>\n",
       "      <td>0</td>\n",
       "      <td>Transient-Party</td>\n",
       "      <td>52.2</td>\n",
       "      <td>0</td>\n",
       "      <td>0</td>\n",
       "      <td>Check-Out</td>\n",
       "      <td>2015-11-17</td>\n",
       "    </tr>\n",
       "    <tr>\n",
       "      <th>2867</th>\n",
       "      <td>Resort Hotel</td>\n",
       "      <td>0</td>\n",
       "      <td>24</td>\n",
       "      <td>2015</td>\n",
       "      <td>November</td>\n",
       "      <td>45</td>\n",
       "      <td>3</td>\n",
       "      <td>0</td>\n",
       "      <td>3</td>\n",
       "      <td>2</td>\n",
       "      <td>0.0</td>\n",
       "      <td>0</td>\n",
       "      <td>BB</td>\n",
       "      <td>ESP</td>\n",
       "      <td>Corporate</td>\n",
       "      <td>Corporate</td>\n",
       "      <td>0</td>\n",
       "      <td>0</td>\n",
       "      <td>0</td>\n",
       "      <td>A</td>\n",
       "      <td>A</td>\n",
       "      <td>1</td>\n",
       "      <td>No Deposit</td>\n",
       "      <td>334.0</td>\n",
       "      <td>281.0</td>\n",
       "      <td>0</td>\n",
       "      <td>Transient-Party</td>\n",
       "      <td>48.0</td>\n",
       "      <td>0</td>\n",
       "      <td>0</td>\n",
       "      <td>Check-Out</td>\n",
       "      <td>2015-11-06</td>\n",
       "    </tr>\n",
       "    <tr>\n",
       "      <th>2877</th>\n",
       "      <td>Resort Hotel</td>\n",
       "      <td>0</td>\n",
       "      <td>24</td>\n",
       "      <td>2015</td>\n",
       "      <td>November</td>\n",
       "      <td>45</td>\n",
       "      <td>3</td>\n",
       "      <td>2</td>\n",
       "      <td>10</td>\n",
       "      <td>1</td>\n",
       "      <td>0.0</td>\n",
       "      <td>0</td>\n",
       "      <td>BB</td>\n",
       "      <td>PRT</td>\n",
       "      <td>Corporate</td>\n",
       "      <td>Corporate</td>\n",
       "      <td>0</td>\n",
       "      <td>0</td>\n",
       "      <td>0</td>\n",
       "      <td>A</td>\n",
       "      <td>A</td>\n",
       "      <td>2</td>\n",
       "      <td>No Deposit</td>\n",
       "      <td>328.0</td>\n",
       "      <td>281.0</td>\n",
       "      <td>0</td>\n",
       "      <td>Transient-Party</td>\n",
       "      <td>40.0</td>\n",
       "      <td>0</td>\n",
       "      <td>0</td>\n",
       "      <td>Check-Out</td>\n",
       "      <td>2015-11-15</td>\n",
       "    </tr>\n",
       "    <tr>\n",
       "      <th>2878</th>\n",
       "      <td>Resort Hotel</td>\n",
       "      <td>0</td>\n",
       "      <td>24</td>\n",
       "      <td>2015</td>\n",
       "      <td>November</td>\n",
       "      <td>45</td>\n",
       "      <td>3</td>\n",
       "      <td>3</td>\n",
       "      <td>10</td>\n",
       "      <td>2</td>\n",
       "      <td>0.0</td>\n",
       "      <td>0</td>\n",
       "      <td>BB</td>\n",
       "      <td>ITA</td>\n",
       "      <td>Corporate</td>\n",
       "      <td>Corporate</td>\n",
       "      <td>0</td>\n",
       "      <td>0</td>\n",
       "      <td>0</td>\n",
       "      <td>A</td>\n",
       "      <td>A</td>\n",
       "      <td>2</td>\n",
       "      <td>No Deposit</td>\n",
       "      <td>326.0</td>\n",
       "      <td>281.0</td>\n",
       "      <td>0</td>\n",
       "      <td>Transient-Party</td>\n",
       "      <td>48.0</td>\n",
       "      <td>0</td>\n",
       "      <td>0</td>\n",
       "      <td>Check-Out</td>\n",
       "      <td>2015-11-16</td>\n",
       "    </tr>\n",
       "    <tr>\n",
       "      <th>...</th>\n",
       "      <td>...</td>\n",
       "      <td>...</td>\n",
       "      <td>...</td>\n",
       "      <td>...</td>\n",
       "      <td>...</td>\n",
       "      <td>...</td>\n",
       "      <td>...</td>\n",
       "      <td>...</td>\n",
       "      <td>...</td>\n",
       "      <td>...</td>\n",
       "      <td>...</td>\n",
       "      <td>...</td>\n",
       "      <td>...</td>\n",
       "      <td>...</td>\n",
       "      <td>...</td>\n",
       "      <td>...</td>\n",
       "      <td>...</td>\n",
       "      <td>...</td>\n",
       "      <td>...</td>\n",
       "      <td>...</td>\n",
       "      <td>...</td>\n",
       "      <td>...</td>\n",
       "      <td>...</td>\n",
       "      <td>...</td>\n",
       "      <td>...</td>\n",
       "      <td>...</td>\n",
       "      <td>...</td>\n",
       "      <td>...</td>\n",
       "      <td>...</td>\n",
       "      <td>...</td>\n",
       "      <td>...</td>\n",
       "      <td>...</td>\n",
       "    </tr>\n",
       "    <tr>\n",
       "      <th>112499</th>\n",
       "      <td>City Hotel</td>\n",
       "      <td>0</td>\n",
       "      <td>13</td>\n",
       "      <td>2017</td>\n",
       "      <td>May</td>\n",
       "      <td>21</td>\n",
       "      <td>24</td>\n",
       "      <td>0</td>\n",
       "      <td>1</td>\n",
       "      <td>2</td>\n",
       "      <td>0.0</td>\n",
       "      <td>0</td>\n",
       "      <td>BB</td>\n",
       "      <td>CHN</td>\n",
       "      <td>Online TA</td>\n",
       "      <td>TA/TO</td>\n",
       "      <td>0</td>\n",
       "      <td>0</td>\n",
       "      <td>0</td>\n",
       "      <td>A</td>\n",
       "      <td>A</td>\n",
       "      <td>0</td>\n",
       "      <td>No Deposit</td>\n",
       "      <td>9.0</td>\n",
       "      <td>478.0</td>\n",
       "      <td>0</td>\n",
       "      <td>Transient-Party</td>\n",
       "      <td>150.0</td>\n",
       "      <td>0</td>\n",
       "      <td>1</td>\n",
       "      <td>Check-Out</td>\n",
       "      <td>2017-05-25</td>\n",
       "    </tr>\n",
       "    <tr>\n",
       "      <th>113046</th>\n",
       "      <td>City Hotel</td>\n",
       "      <td>0</td>\n",
       "      <td>13</td>\n",
       "      <td>2017</td>\n",
       "      <td>May</td>\n",
       "      <td>22</td>\n",
       "      <td>29</td>\n",
       "      <td>1</td>\n",
       "      <td>3</td>\n",
       "      <td>1</td>\n",
       "      <td>0.0</td>\n",
       "      <td>0</td>\n",
       "      <td>BB</td>\n",
       "      <td>ITA</td>\n",
       "      <td>Offline TA/TO</td>\n",
       "      <td>TA/TO</td>\n",
       "      <td>0</td>\n",
       "      <td>0</td>\n",
       "      <td>0</td>\n",
       "      <td>A</td>\n",
       "      <td>A</td>\n",
       "      <td>1</td>\n",
       "      <td>No Deposit</td>\n",
       "      <td>290.0</td>\n",
       "      <td>148.0</td>\n",
       "      <td>0</td>\n",
       "      <td>Transient</td>\n",
       "      <td>95.0</td>\n",
       "      <td>0</td>\n",
       "      <td>0</td>\n",
       "      <td>Check-Out</td>\n",
       "      <td>2017-06-02</td>\n",
       "    </tr>\n",
       "    <tr>\n",
       "      <th>113082</th>\n",
       "      <td>City Hotel</td>\n",
       "      <td>0</td>\n",
       "      <td>13</td>\n",
       "      <td>2017</td>\n",
       "      <td>May</td>\n",
       "      <td>22</td>\n",
       "      <td>29</td>\n",
       "      <td>1</td>\n",
       "      <td>3</td>\n",
       "      <td>2</td>\n",
       "      <td>0.0</td>\n",
       "      <td>0</td>\n",
       "      <td>BB</td>\n",
       "      <td>ITA</td>\n",
       "      <td>Offline TA/TO</td>\n",
       "      <td>TA/TO</td>\n",
       "      <td>0</td>\n",
       "      <td>0</td>\n",
       "      <td>0</td>\n",
       "      <td>A</td>\n",
       "      <td>A</td>\n",
       "      <td>1</td>\n",
       "      <td>No Deposit</td>\n",
       "      <td>290.0</td>\n",
       "      <td>148.0</td>\n",
       "      <td>0</td>\n",
       "      <td>Transient</td>\n",
       "      <td>110.0</td>\n",
       "      <td>0</td>\n",
       "      <td>0</td>\n",
       "      <td>Check-Out</td>\n",
       "      <td>2017-06-02</td>\n",
       "    </tr>\n",
       "    <tr>\n",
       "      <th>113627</th>\n",
       "      <td>City Hotel</td>\n",
       "      <td>0</td>\n",
       "      <td>210</td>\n",
       "      <td>2017</td>\n",
       "      <td>June</td>\n",
       "      <td>23</td>\n",
       "      <td>9</td>\n",
       "      <td>0</td>\n",
       "      <td>1</td>\n",
       "      <td>2</td>\n",
       "      <td>0.0</td>\n",
       "      <td>0</td>\n",
       "      <td>BB</td>\n",
       "      <td>GBR</td>\n",
       "      <td>Direct</td>\n",
       "      <td>Direct</td>\n",
       "      <td>0</td>\n",
       "      <td>0</td>\n",
       "      <td>0</td>\n",
       "      <td>D</td>\n",
       "      <td>D</td>\n",
       "      <td>0</td>\n",
       "      <td>No Deposit</td>\n",
       "      <td>14.0</td>\n",
       "      <td>229.0</td>\n",
       "      <td>0</td>\n",
       "      <td>Transient</td>\n",
       "      <td>135.0</td>\n",
       "      <td>0</td>\n",
       "      <td>0</td>\n",
       "      <td>Check-Out</td>\n",
       "      <td>2017-06-10</td>\n",
       "    </tr>\n",
       "    <tr>\n",
       "      <th>116451</th>\n",
       "      <td>City Hotel</td>\n",
       "      <td>0</td>\n",
       "      <td>191</td>\n",
       "      <td>2017</td>\n",
       "      <td>July</td>\n",
       "      <td>29</td>\n",
       "      <td>16</td>\n",
       "      <td>2</td>\n",
       "      <td>2</td>\n",
       "      <td>2</td>\n",
       "      <td>0.0</td>\n",
       "      <td>0</td>\n",
       "      <td>BB</td>\n",
       "      <td>PRT</td>\n",
       "      <td>Online TA</td>\n",
       "      <td>TA/TO</td>\n",
       "      <td>0</td>\n",
       "      <td>0</td>\n",
       "      <td>0</td>\n",
       "      <td>D</td>\n",
       "      <td>D</td>\n",
       "      <td>0</td>\n",
       "      <td>No Deposit</td>\n",
       "      <td>9.0</td>\n",
       "      <td>421.0</td>\n",
       "      <td>0</td>\n",
       "      <td>Transient</td>\n",
       "      <td>120.6</td>\n",
       "      <td>0</td>\n",
       "      <td>2</td>\n",
       "      <td>Check-Out</td>\n",
       "      <td>2017-07-20</td>\n",
       "    </tr>\n",
       "  </tbody>\n",
       "</table>\n",
       "<p>217 rows × 32 columns</p>\n",
       "</div>"
      ],
      "text/plain": [
       "               hotel  is_canceled  lead_time  arrival_date_year  \\\n",
       "2392    Resort Hotel            0          6               2015   \n",
       "2697    Resort Hotel            0         24               2015   \n",
       "2867    Resort Hotel            0         24               2015   \n",
       "2877    Resort Hotel            0         24               2015   \n",
       "2878    Resort Hotel            0         24               2015   \n",
       "...              ...          ...        ...                ...   \n",
       "112499    City Hotel            0         13               2017   \n",
       "113046    City Hotel            0         13               2017   \n",
       "113082    City Hotel            0         13               2017   \n",
       "113627    City Hotel            0        210               2017   \n",
       "116451    City Hotel            0        191               2017   \n",
       "\n",
       "       arrival_date_month  arrival_date_week_number  \\\n",
       "2392              October                        42   \n",
       "2697              October                        44   \n",
       "2867             November                        45   \n",
       "2877             November                        45   \n",
       "2878             November                        45   \n",
       "...                   ...                       ...   \n",
       "112499                May                        21   \n",
       "113046                May                        22   \n",
       "113082                May                        22   \n",
       "113627               June                        23   \n",
       "116451               July                        29   \n",
       "\n",
       "        arrival_date_day_of_month  stays_in_weekend_nights  \\\n",
       "2392                           11                        2   \n",
       "2697                           26                        7   \n",
       "2867                            3                        0   \n",
       "2877                            3                        2   \n",
       "2878                            3                        3   \n",
       "...                           ...                      ...   \n",
       "112499                         24                        0   \n",
       "113046                         29                        1   \n",
       "113082                         29                        1   \n",
       "113627                          9                        0   \n",
       "116451                         16                        2   \n",
       "\n",
       "        stays_in_week_nights  adults  children  babies meal country  \\\n",
       "2392                       0       2       0.0       0   BB     PRT   \n",
       "2697                      15       1       0.0       0   BB     AUT   \n",
       "2867                       3       2       0.0       0   BB     ESP   \n",
       "2877                      10       1       0.0       0   BB     PRT   \n",
       "2878                      10       2       0.0       0   BB     ITA   \n",
       "...                      ...     ...       ...     ...  ...     ...   \n",
       "112499                     1       2       0.0       0   BB     CHN   \n",
       "113046                     3       1       0.0       0   BB     ITA   \n",
       "113082                     3       2       0.0       0   BB     ITA   \n",
       "113627                     1       2       0.0       0   BB     GBR   \n",
       "116451                     2       2       0.0       0   BB     PRT   \n",
       "\n",
       "       market_segment distribution_channel  is_repeated_guest  \\\n",
       "2392        Online TA                TA/TO                  0   \n",
       "2697        Corporate            Corporate                  0   \n",
       "2867        Corporate            Corporate                  0   \n",
       "2877        Corporate            Corporate                  0   \n",
       "2878        Corporate            Corporate                  0   \n",
       "...               ...                  ...                ...   \n",
       "112499      Online TA                TA/TO                  0   \n",
       "113046  Offline TA/TO                TA/TO                  0   \n",
       "113082  Offline TA/TO                TA/TO                  0   \n",
       "113627         Direct               Direct                  0   \n",
       "116451      Online TA                TA/TO                  0   \n",
       "\n",
       "        previous_cancellations  previous_bookings_not_canceled  \\\n",
       "2392                         0                               0   \n",
       "2697                         0                               0   \n",
       "2867                         0                               0   \n",
       "2877                         0                               0   \n",
       "2878                         0                               0   \n",
       "...                        ...                             ...   \n",
       "112499                       0                               0   \n",
       "113046                       0                               0   \n",
       "113082                       0                               0   \n",
       "113627                       0                               0   \n",
       "116451                       0                               0   \n",
       "\n",
       "       reserved_room_type assigned_room_type  booking_changes deposit_type  \\\n",
       "2392                    E                  E                1   No Deposit   \n",
       "2697                    E                  G                2   No Deposit   \n",
       "2867                    A                  A                1   No Deposit   \n",
       "2877                    A                  A                2   No Deposit   \n",
       "2878                    A                  A                2   No Deposit   \n",
       "...                   ...                ...              ...          ...   \n",
       "112499                  A                  A                0   No Deposit   \n",
       "113046                  A                  A                1   No Deposit   \n",
       "113082                  A                  A                1   No Deposit   \n",
       "113627                  D                  D                0   No Deposit   \n",
       "116451                  D                  D                0   No Deposit   \n",
       "\n",
       "        agent  company  days_in_waiting_list    customer_type    adr  \\\n",
       "2392    240.0    113.0                     0        Transient   82.0   \n",
       "2697    185.0    281.0                     0  Transient-Party   52.2   \n",
       "2867    334.0    281.0                     0  Transient-Party   48.0   \n",
       "2877    328.0    281.0                     0  Transient-Party   40.0   \n",
       "2878    326.0    281.0                     0  Transient-Party   48.0   \n",
       "...       ...      ...                   ...              ...    ...   \n",
       "112499    9.0    478.0                     0  Transient-Party  150.0   \n",
       "113046  290.0    148.0                     0        Transient   95.0   \n",
       "113082  290.0    148.0                     0        Transient  110.0   \n",
       "113627   14.0    229.0                     0        Transient  135.0   \n",
       "116451    9.0    421.0                     0        Transient  120.6   \n",
       "\n",
       "        required_car_parking_spaces  total_of_special_requests  \\\n",
       "2392                              1                          1   \n",
       "2697                              0                          0   \n",
       "2867                              0                          0   \n",
       "2877                              0                          0   \n",
       "2878                              0                          0   \n",
       "...                             ...                        ...   \n",
       "112499                            0                          1   \n",
       "113046                            0                          0   \n",
       "113082                            0                          0   \n",
       "113627                            0                          0   \n",
       "116451                            0                          2   \n",
       "\n",
       "       reservation_status reservation_status_date  \n",
       "2392            Check-Out              2015-10-13  \n",
       "2697            Check-Out              2015-11-17  \n",
       "2867            Check-Out              2015-11-06  \n",
       "2877            Check-Out              2015-11-15  \n",
       "2878            Check-Out              2015-11-16  \n",
       "...                   ...                     ...  \n",
       "112499          Check-Out              2017-05-25  \n",
       "113046          Check-Out              2017-06-02  \n",
       "113082          Check-Out              2017-06-02  \n",
       "113627          Check-Out              2017-06-10  \n",
       "116451          Check-Out              2017-07-20  \n",
       "\n",
       "[217 rows x 32 columns]"
      ]
     },
     "execution_count": 56,
     "metadata": {},
     "output_type": "execute_result"
    }
   ],
   "source": [
    "hd = hd.dropna(subset=['company','agent','country'],axis=0)\n",
    "hd"
   ]
  },
  {
   "cell_type": "code",
   "execution_count": 7,
   "id": "ae60412e-f324-45be-a460-ba04de81758d",
   "metadata": {},
   "outputs": [
    {
     "data": {
      "text/plain": [
       "hotel                             0\n",
       "is_canceled                       0\n",
       "lead_time                         0\n",
       "arrival_date_year                 0\n",
       "arrival_date_month                0\n",
       "arrival_date_week_number          0\n",
       "arrival_date_day_of_month         0\n",
       "stays_in_weekend_nights           0\n",
       "stays_in_week_nights              0\n",
       "adults                            0\n",
       "children                          0\n",
       "babies                            0\n",
       "meal                              0\n",
       "country                           0\n",
       "market_segment                    0\n",
       "distribution_channel              0\n",
       "is_repeated_guest                 0\n",
       "previous_cancellations            0\n",
       "previous_bookings_not_canceled    0\n",
       "reserved_room_type                0\n",
       "assigned_room_type                0\n",
       "booking_changes                   0\n",
       "deposit_type                      0\n",
       "agent                             0\n",
       "company                           0\n",
       "days_in_waiting_list              0\n",
       "customer_type                     0\n",
       "adr                               0\n",
       "required_car_parking_spaces       0\n",
       "total_of_special_requests         0\n",
       "reservation_status                0\n",
       "reservation_status_date           0\n",
       "dtype: int64"
      ]
     },
     "execution_count": 7,
     "metadata": {},
     "output_type": "execute_result"
    }
   ],
   "source": [
    "hd.isna().sum()"
   ]
  },
  {
   "cell_type": "code",
   "execution_count": 49,
   "id": "5023ef70-e87d-4f61-b39c-7549d97ed309",
   "metadata": {},
   "outputs": [
    {
     "data": {
      "text/plain": [
       "<Axes: >"
      ]
     },
     "execution_count": 49,
     "metadata": {},
     "output_type": "execute_result"
    },
    {
     "data": {
      "image/png": "[encoded data removed]",
      "text/plain": [
       "<Figure size 2500x1000 with 2 Axes>"
      ]
     },
     "metadata": {},
     "output_type": "display_data"
    }
   ],
   "source": [
    "missingno.matrix(hd)"
   ]
  },
  {
   "cell_type": "code",
   "execution_count": 70,
   "id": "8aa11033-5af3-4db0-b441-1d8b367e9f8a",
   "metadata": {},
   "outputs": [
    {
     "name": "stdout",
     "output_type": "stream",
     "text": [
      "<class 'pandas.core.frame.DataFrame'>\n",
      "Index: 217 entries, 2392 to 116451\n",
      "Data columns (total 32 columns):\n",
      " #   Column                          Non-Null Count  Dtype  \n",
      "---  ------                          --------------  -----  \n",
      " 0   hotel                           217 non-null    object \n",
      " 1   is_canceled                     217 non-null    int64  \n",
      " 2   lead_time                       217 non-null    int64  \n",
      " 3   arrival_date_year               217 non-null    int64  \n",
      " 4   arrival_date_month              217 non-null    object \n",
      " 5   arrival_date_week_number        217 non-null    int64  \n",
      " 6   arrival_date_day_of_month       217 non-null    int64  \n",
      " 7   stays_in_weekend_nights         217 non-null    int64  \n",
      " 8   stays_in_week_nights            217 non-null    int64  \n",
      " 9   adults                          217 non-null    int64  \n",
      " 10  children                        217 non-null    float64\n",
      " 11  babies                          217 non-null    int64  \n",
      " 12  meal                            217 non-null    object \n",
      " 13  country                         217 non-null    object \n",
      " 14  market_segment                  217 non-null    object \n",
      " 15  distribution_channel            217 non-null    object \n",
      " 16  is_repeated_guest               217 non-null    int64  \n",
      " 17  previous_cancellations          217 non-null    int64  \n",
      " 18  previous_bookings_not_canceled  217 non-null    int64  \n",
      " 19  reserved_room_type              217 non-null    object \n",
      " 20  assigned_room_type              217 non-null    object \n",
      " 21  booking_changes                 217 non-null    int64  \n",
      " 22  deposit_type                    217 non-null    object \n",
      " 23  agent                           217 non-null    float64\n",
      " 24  company                         217 non-null    float64\n",
      " 25  days_in_waiting_list            217 non-null    int64  \n",
      " 26  customer_type                   217 non-null    object \n",
      " 27  adr                             217 non-null    float64\n",
      " 28  required_car_parking_spaces     217 non-null    int64  \n",
      " 29  total_of_special_requests       217 non-null    int64  \n",
      " 30  reservation_status              217 non-null    object \n",
      " 31  reservation_status_date         217 non-null    object \n",
      "dtypes: float64(4), int64(16), object(12)\n",
      "memory usage: 55.9+ KB\n"
     ]
    }
   ],
   "source": [
    "hd.info()"
   ]
  },
  {
   "cell_type": "code",
   "execution_count": 72,
   "id": "a77f133b-4eb8-4389-987a-015e7c8352ca",
   "metadata": {},
   "outputs": [
    {
     "data": {
      "text/plain": [
       "count     217.000000\n",
       "mean     2015.465438\n",
       "std         0.720053\n",
       "min      2015.000000\n",
       "25%      2015.000000\n",
       "50%      2015.000000\n",
       "75%      2016.000000\n",
       "max      2017.000000\n",
       "Name: arrival_date_year, dtype: float64"
      ]
     },
     "execution_count": 72,
     "metadata": {},
     "output_type": "execute_result"
    }
   ],
   "source": [
    "hd.arrival_date_year.describe()"
   ]
  },
  {
   "cell_type": "code",
   "execution_count": 71,
   "id": "dbcfd273-647c-4601-9d99-5d0568015a8e",
   "metadata": {},
   "outputs": [
    {
     "data": {
      "text/plain": [
       "count    217.000000\n",
       "mean      38.198157\n",
       "std       12.890292\n",
       "min        1.000000\n",
       "25%       33.000000\n",
       "50%       45.000000\n",
       "75%       46.000000\n",
       "max       53.000000\n",
       "Name: arrival_date_week_number, dtype: float64"
      ]
     },
     "execution_count": 71,
     "metadata": {},
     "output_type": "execute_result"
    }
   ],
   "source": [
    "hd.arrival_date_week_number.describe()"
   ]
  },
  {
   "cell_type": "code",
   "execution_count": 73,
   "id": "34b76dc4-a5a6-4a7b-bd46-b9fa6bbb56b3",
   "metadata": {},
   "outputs": [
    {
     "data": {
      "text/plain": [
       "count    217.000000\n",
       "mean      40.520737\n",
       "std       61.748375\n",
       "min        0.000000\n",
       "25%       12.000000\n",
       "50%       27.000000\n",
       "75%       36.000000\n",
       "max      364.000000\n",
       "Name: lead_time, dtype: float64"
      ]
     },
     "execution_count": 73,
     "metadata": {},
     "output_type": "execute_result"
    }
   ],
   "source": [
    "hd.lead_time .describe()"
   ]
  },
  {
   "cell_type": "code",
   "execution_count": null,
   "id": "5abbfd5b-8d51-4365-8b4d-e402c59b0f22",
   "metadata": {},
   "outputs": [],
   "source": [
    "# Analytics"
   ]
  },
  {
   "cell_type": "code",
   "execution_count": null,
   "id": "a88711c6-3878-4f72-a6ef-6af8be0d1b14",
   "metadata": {},
   "outputs": [],
   "source": [
    "## Descriptive statistics"
   ]
  },
  {
   "cell_type": "code",
   "execution_count": 74,
   "id": "80ccf289-3779-4dad-b51b-85ca030e95b9",
   "metadata": {},
   "outputs": [
    {
     "data": {
      "text/html": [
       "<div>\n",
       "<style scoped>\n",
       "    .dataframe tbody tr th:only-of-type {\n",
       "        vertical-align: middle;\n",
       "    }\n",
       "\n",
       "    .dataframe tbody tr th {\n",
       "        vertical-align: top;\n",
       "    }\n",
       "\n",
       "    .dataframe thead th {\n",
       "        text-align: right;\n",
       "    }\n",
       "</style>\n",
       "<table border=\"1\" class=\"dataframe\">\n",
       "  <thead>\n",
       "    <tr style=\"text-align: right;\">\n",
       "      <th></th>\n",
       "      <th>is_canceled</th>\n",
       "      <th>lead_time</th>\n",
       "      <th>arrival_date_year</th>\n",
       "      <th>arrival_date_week_number</th>\n",
       "      <th>arrival_date_day_of_month</th>\n",
       "      <th>stays_in_weekend_nights</th>\n",
       "      <th>stays_in_week_nights</th>\n",
       "      <th>adults</th>\n",
       "      <th>children</th>\n",
       "      <th>babies</th>\n",
       "      <th>is_repeated_guest</th>\n",
       "      <th>previous_cancellations</th>\n",
       "      <th>previous_bookings_not_canceled</th>\n",
       "      <th>booking_changes</th>\n",
       "      <th>agent</th>\n",
       "      <th>company</th>\n",
       "      <th>days_in_waiting_list</th>\n",
       "      <th>adr</th>\n",
       "      <th>required_car_parking_spaces</th>\n",
       "      <th>total_of_special_requests</th>\n",
       "    </tr>\n",
       "  </thead>\n",
       "  <tbody>\n",
       "    <tr>\n",
       "      <th>count</th>\n",
       "      <td>217.000000</td>\n",
       "      <td>217.000000</td>\n",
       "      <td>217.000000</td>\n",
       "      <td>217.000000</td>\n",
       "      <td>217.000000</td>\n",
       "      <td>217.00000</td>\n",
       "      <td>217.000000</td>\n",
       "      <td>217.000000</td>\n",
       "      <td>217.000000</td>\n",
       "      <td>217.0</td>\n",
       "      <td>217.000000</td>\n",
       "      <td>217.000000</td>\n",
       "      <td>217.000000</td>\n",
       "      <td>217.000000</td>\n",
       "      <td>217.000000</td>\n",
       "      <td>217.000000</td>\n",
       "      <td>217.0</td>\n",
       "      <td>217.000000</td>\n",
       "      <td>217.000000</td>\n",
       "      <td>217.000000</td>\n",
       "    </tr>\n",
       "    <tr>\n",
       "      <th>mean</th>\n",
       "      <td>0.078341</td>\n",
       "      <td>40.520737</td>\n",
       "      <td>2015.465438</td>\n",
       "      <td>38.198157</td>\n",
       "      <td>10.824885</td>\n",
       "      <td>1.56682</td>\n",
       "      <td>4.631336</td>\n",
       "      <td>1.410138</td>\n",
       "      <td>0.036866</td>\n",
       "      <td>0.0</td>\n",
       "      <td>0.069124</td>\n",
       "      <td>0.009217</td>\n",
       "      <td>0.147465</td>\n",
       "      <td>1.285714</td>\n",
       "      <td>202.617512</td>\n",
       "      <td>262.105991</td>\n",
       "      <td>0.0</td>\n",
       "      <td>63.793733</td>\n",
       "      <td>0.092166</td>\n",
       "      <td>0.198157</td>\n",
       "    </tr>\n",
       "    <tr>\n",
       "      <th>std</th>\n",
       "      <td>0.269329</td>\n",
       "      <td>61.748375</td>\n",
       "      <td>0.720053</td>\n",
       "      <td>12.890292</td>\n",
       "      <td>7.582065</td>\n",
       "      <td>1.49270</td>\n",
       "      <td>3.552846</td>\n",
       "      <td>0.520406</td>\n",
       "      <td>0.232788</td>\n",
       "      <td>0.0</td>\n",
       "      <td>0.254252</td>\n",
       "      <td>0.135769</td>\n",
       "      <td>0.717768</td>\n",
       "      <td>1.251454</td>\n",
       "      <td>111.487444</td>\n",
       "      <td>103.602708</td>\n",
       "      <td>0.0</td>\n",
       "      <td>38.823568</td>\n",
       "      <td>0.289929</td>\n",
       "      <td>0.546365</td>\n",
       "    </tr>\n",
       "    <tr>\n",
       "      <th>min</th>\n",
       "      <td>0.000000</td>\n",
       "      <td>0.000000</td>\n",
       "      <td>2015.000000</td>\n",
       "      <td>1.000000</td>\n",
       "      <td>1.000000</td>\n",
       "      <td>0.00000</td>\n",
       "      <td>0.000000</td>\n",
       "      <td>1.000000</td>\n",
       "      <td>0.000000</td>\n",
       "      <td>0.0</td>\n",
       "      <td>0.000000</td>\n",
       "      <td>0.000000</td>\n",
       "      <td>0.000000</td>\n",
       "      <td>0.000000</td>\n",
       "      <td>5.000000</td>\n",
       "      <td>9.000000</td>\n",
       "      <td>0.0</td>\n",
       "      <td>0.000000</td>\n",
       "      <td>0.000000</td>\n",
       "      <td>0.000000</td>\n",
       "    </tr>\n",
       "    <tr>\n",
       "      <th>25%</th>\n",
       "      <td>0.000000</td>\n",
       "      <td>12.000000</td>\n",
       "      <td>2015.000000</td>\n",
       "      <td>33.000000</td>\n",
       "      <td>6.000000</td>\n",
       "      <td>0.00000</td>\n",
       "      <td>2.000000</td>\n",
       "      <td>1.000000</td>\n",
       "      <td>0.000000</td>\n",
       "      <td>0.0</td>\n",
       "      <td>0.000000</td>\n",
       "      <td>0.000000</td>\n",
       "      <td>0.000000</td>\n",
       "      <td>0.000000</td>\n",
       "      <td>185.000000</td>\n",
       "      <td>281.000000</td>\n",
       "      <td>0.0</td>\n",
       "      <td>40.000000</td>\n",
       "      <td>0.000000</td>\n",
       "      <td>0.000000</td>\n",
       "    </tr>\n",
       "    <tr>\n",
       "      <th>50%</th>\n",
       "      <td>0.000000</td>\n",
       "      <td>27.000000</td>\n",
       "      <td>2015.000000</td>\n",
       "      <td>45.000000</td>\n",
       "      <td>9.000000</td>\n",
       "      <td>2.00000</td>\n",
       "      <td>4.000000</td>\n",
       "      <td>1.000000</td>\n",
       "      <td>0.000000</td>\n",
       "      <td>0.0</td>\n",
       "      <td>0.000000</td>\n",
       "      <td>0.000000</td>\n",
       "      <td>0.000000</td>\n",
       "      <td>1.000000</td>\n",
       "      <td>185.000000</td>\n",
       "      <td>281.000000</td>\n",
       "      <td>0.0</td>\n",
       "      <td>48.000000</td>\n",
       "      <td>0.000000</td>\n",
       "      <td>0.000000</td>\n",
       "    </tr>\n",
       "    <tr>\n",
       "      <th>75%</th>\n",
       "      <td>0.000000</td>\n",
       "      <td>36.000000</td>\n",
       "      <td>2016.000000</td>\n",
       "      <td>46.000000</td>\n",
       "      <td>13.000000</td>\n",
       "      <td>2.00000</td>\n",
       "      <td>6.000000</td>\n",
       "      <td>2.000000</td>\n",
       "      <td>0.000000</td>\n",
       "      <td>0.0</td>\n",
       "      <td>0.000000</td>\n",
       "      <td>0.000000</td>\n",
       "      <td>0.000000</td>\n",
       "      <td>2.000000</td>\n",
       "      <td>324.000000</td>\n",
       "      <td>281.000000</td>\n",
       "      <td>0.0</td>\n",
       "      <td>85.000000</td>\n",
       "      <td>0.000000</td>\n",
       "      <td>0.000000</td>\n",
       "    </tr>\n",
       "    <tr>\n",
       "      <th>max</th>\n",
       "      <td>1.000000</td>\n",
       "      <td>364.000000</td>\n",
       "      <td>2017.000000</td>\n",
       "      <td>53.000000</td>\n",
       "      <td>31.000000</td>\n",
       "      <td>9.00000</td>\n",
       "      <td>21.000000</td>\n",
       "      <td>3.000000</td>\n",
       "      <td>2.000000</td>\n",
       "      <td>0.0</td>\n",
       "      <td>1.000000</td>\n",
       "      <td>2.000000</td>\n",
       "      <td>7.000000</td>\n",
       "      <td>6.000000</td>\n",
       "      <td>444.000000</td>\n",
       "      <td>499.000000</td>\n",
       "      <td>0.0</td>\n",
       "      <td>246.000000</td>\n",
       "      <td>1.000000</td>\n",
       "      <td>3.000000</td>\n",
       "    </tr>\n",
       "  </tbody>\n",
       "</table>\n",
       "</div>"
      ],
      "text/plain": [
       "       is_canceled   lead_time  arrival_date_year  arrival_date_week_number  \\\n",
       "count   217.000000  217.000000         217.000000                217.000000   \n",
       "mean      0.078341   40.520737        2015.465438                 38.198157   \n",
       "std       0.269329   61.748375           0.720053                 12.890292   \n",
       "min       0.000000    0.000000        2015.000000                  1.000000   \n",
       "25%       0.000000   12.000000        2015.000000                 33.000000   \n",
       "50%       0.000000   27.000000        2015.000000                 45.000000   \n",
       "75%       0.000000   36.000000        2016.000000                 46.000000   \n",
       "max       1.000000  364.000000        2017.000000                 53.000000   \n",
       "\n",
       "       arrival_date_day_of_month  stays_in_weekend_nights  \\\n",
       "count                 217.000000                217.00000   \n",
       "mean                   10.824885                  1.56682   \n",
       "std                     7.582065                  1.49270   \n",
       "min                     1.000000                  0.00000   \n",
       "25%                     6.000000                  0.00000   \n",
       "50%                     9.000000                  2.00000   \n",
       "75%                    13.000000                  2.00000   \n",
       "max                    31.000000                  9.00000   \n",
       "\n",
       "       stays_in_week_nights      adults    children  babies  \\\n",
       "count            217.000000  217.000000  217.000000   217.0   \n",
       "mean               4.631336    1.410138    0.036866     0.0   \n",
       "std                3.552846    0.520406    0.232788     0.0   \n",
       "min                0.000000    1.000000    0.000000     0.0   \n",
       "25%                2.000000    1.000000    0.000000     0.0   \n",
       "50%                4.000000    1.000000    0.000000     0.0   \n",
       "75%                6.000000    2.000000    0.000000     0.0   \n",
       "max               21.000000    3.000000    2.000000     0.0   \n",
       "\n",
       "       is_repeated_guest  previous_cancellations  \\\n",
       "count         217.000000              217.000000   \n",
       "mean            0.069124                0.009217   \n",
       "std             0.254252                0.135769   \n",
       "min             0.000000                0.000000   \n",
       "25%             0.000000                0.000000   \n",
       "50%             0.000000                0.000000   \n",
       "75%             0.000000                0.000000   \n",
       "max             1.000000                2.000000   \n",
       "\n",
       "       previous_bookings_not_canceled  booking_changes       agent  \\\n",
       "count                      217.000000       217.000000  217.000000   \n",
       "mean                         0.147465         1.285714  202.617512   \n",
       "std                          0.717768         1.251454  111.487444   \n",
       "min                          0.000000         0.000000    5.000000   \n",
       "25%                          0.000000         0.000000  185.000000   \n",
       "50%                          0.000000         1.000000  185.000000   \n",
       "75%                          0.000000         2.000000  324.000000   \n",
       "max                          7.000000         6.000000  444.000000   \n",
       "\n",
       "          company  days_in_waiting_list         adr  \\\n",
       "count  217.000000                 217.0  217.000000   \n",
       "mean   262.105991                   0.0   63.793733   \n",
       "std    103.602708                   0.0   38.823568   \n",
       "min      9.000000                   0.0    0.000000   \n",
       "25%    281.000000                   0.0   40.000000   \n",
       "50%    281.000000                   0.0   48.000000   \n",
       "75%    281.000000                   0.0   85.000000   \n",
       "max    499.000000                   0.0  246.000000   \n",
       "\n",
       "       required_car_parking_spaces  total_of_special_requests  \n",
       "count                   217.000000                 217.000000  \n",
       "mean                      0.092166                   0.198157  \n",
       "std                       0.289929                   0.546365  \n",
       "min                       0.000000                   0.000000  \n",
       "25%                       0.000000                   0.000000  \n",
       "50%                       0.000000                   0.000000  \n",
       "75%                       0.000000                   0.000000  \n",
       "max                       1.000000                   3.000000  "
      ]
     },
     "execution_count": 74,
     "metadata": {},
     "output_type": "execute_result"
    }
   ],
   "source": [
    "hd.describe()"
   ]
  },
  {
   "cell_type": "code",
   "execution_count": 75,
   "id": "aa0ad4c3-6cca-4f49-bb30-d94ce9e59304",
   "metadata": {},
   "outputs": [
    {
     "data": {
      "text/plain": [
       "np.float64(0.07834101382488479)"
      ]
     },
     "execution_count": 75,
     "metadata": {},
     "output_type": "execute_result"
    }
   ],
   "source": [
    "hd.is_canceled.mean()"
   ]
  },
  {
   "cell_type": "code",
   "execution_count": 76,
   "id": "adb1aa93-9908-4032-b128-49f0ee378b8d",
   "metadata": {},
   "outputs": [
    {
     "data": {
      "text/plain": [
       "np.float64(0.09216589861751152)"
      ]
     },
     "execution_count": 76,
     "metadata": {},
     "output_type": "execute_result"
    }
   ],
   "source": [
    "hd.required_car_parking_spaces.mean()"
   ]
  },
  {
   "cell_type": "code",
   "execution_count": 68,
   "id": "d762f82b-c479-4322-a233-5f034e735418",
   "metadata": {},
   "outputs": [
    {
     "data": {
      "application/vnd.plotly.v1+json": {
       "config": {
        "plotlyServerURL": "https://plot.ly"
       },
       "data": [
        {
         "alignmentgroup": "True",
         "bingroup": "x",
         "hovertemplate": "country=%{x}<br>count=%{y}<extra></extra>",
         "legendgroup": "",
         "marker": {
          "color": "#636efa",
          "pattern": {
           "shape": ""
          }
         },
         "name": "",
         "nbinsx": 30,
         "offsetgroup": "",
         "orientation": "v",
         "showlegend": false,
         "type": "histogram",
         "x": [
          "PRT",
          "AUT",
          "ESP",
          "PRT",
          "ITA",
          "ITA",
          "ESP",
          "ITA",
          "ITA",
          "FRA",
          "FRA",
          "PRT",
          "PRT",
          "PRT",
          "FRA",
          "AUT",
          "AUT",
          "AUT",
          "AUT",
          "FRA",
          "AUT",
          "DEU",
          "PRT",
          "DEU",
          "BEL",
          "CZE",
          "GBR",
          "DEU",
          "DEU",
          "AUT",
          "FRA",
          "PRT",
          "PRT",
          "FRA",
          "PRT",
          "PRT",
          "PRT",
          "PRT",
          "PRT",
          "PRT",
          "PRT",
          "ESP",
          "PRT",
          "PRT",
          "ESP",
          "DEU",
          "PRT",
          "AUT",
          "FRA",
          "FRA",
          "FRA",
          "FRA",
          "PRT",
          "PRT",
          "FRA",
          "PRT",
          "FRA",
          "NLD",
          "FRA",
          "PRT",
          "PRT",
          "PRT",
          "PRT",
          "ESP",
          "PRT",
          "ITA",
          "PRT",
          "GBR",
          "PRT",
          "PRT",
          "ITA",
          "PRT",
          "PRT",
          "ITA",
          "PRT",
          "AUT",
          "PRT",
          "PRT",
          "ESP",
          "PRT",
          "PRT",
          "AUT",
          "USA",
          "AUT",
          "PRT",
          "GBR",
          "ITA",
          "ITA",
          "FRA",
          "GBR",
          "PRT",
          "BEL",
          "MEX",
          "ITA",
          "PRT",
          "PRT",
          "AUT",
          "AUT",
          "AUT",
          "AUT",
          "AUT",
          "AUT",
          "PRT",
          "AUT",
          "AUT",
          "GBR",
          "AUT",
          "AUT",
          "AUT",
          "GBR",
          "DEU",
          "AUT",
          "AUT",
          "AUT",
          "PRT",
          "PRT",
          "CZE",
          "GBR",
          "FRA",
          "GBR",
          "PRT",
          "CZE",
          "USA",
          "CZE",
          "CHE",
          "FRA",
          "FRA",
          "FRA",
          "FRA",
          "DEU",
          "FRA",
          "AUT",
          "AUT",
          "PRT",
          "AUT",
          "AUT",
          "AUT",
          "AUS",
          "PRT",
          "PRT",
          "PRT",
          "PRT",
          "PRT",
          "PRT",
          "PRT",
          "PRT",
          "PRT",
          "GBR",
          "PRT",
          "GBR",
          "GBR",
          "GBR",
          "PRT",
          "PRT",
          "PRT",
          "PRT",
          "PRT",
          "PRT",
          "BGR",
          "PRT",
          "PRT",
          "PRT",
          "ITA",
          "PRT",
          "NLD",
          "GBR",
          "GBR",
          "GBR",
          "GBR",
          "GBR",
          "PRT",
          "PRT",
          "FRA",
          "ITA",
          "FRA",
          "FRA",
          "FRA",
          "PRT",
          "PRT",
          "FRA",
          "PRT",
          "PRT",
          "PRT",
          "PRT",
          "PRT",
          "PRT",
          "ITA",
          "ITA",
          "GBR",
          "CHN",
          "MEX",
          "PRT",
          "DEU",
          "DEU",
          "DEU",
          "DEU",
          "DEU",
          "DEU",
          "DEU",
          "DEU",
          "DEU",
          "BEL",
          "PRT",
          "DEU",
          "ROU",
          "PRT",
          "IRL",
          "PRT",
          "PRT",
          "PRT",
          "ESP",
          "ESP",
          "CHN",
          "ITA",
          "ITA",
          "GBR",
          "PRT"
         ],
         "xaxis": "x",
         "yaxis": "y"
        }
       ],
       "layout": {
        "barmode": "relative",
        "legend": {
         "tracegroupgap": 0
        },
        "template": {
         "data": {
          "bar": [
           {
            "error_x": {
             "color": "#2a3f5f"
            },
            "error_y": {
             "color": "#2a3f5f"
            },
            "marker": {
             "line": {
              "color": "#E5ECF6",
              "width": 0.5
             },
             "pattern": {
              "fillmode": "overlay",
              "size": 10,
              "solidity": 0.2
             }
            },
            "type": "bar"
           }
          ],
          "barpolar": [
           {
            "marker": {
             "line": {
              "color": "#E5ECF6",
              "width": 0.5
             },
             "pattern": {
              "fillmode": "overlay",
              "size": 10,
              "solidity": 0.2
             }
            },
            "type": "barpolar"
           }
          ],
          "carpet": [
           {
            "aaxis": {
             "endlinecolor": "#2a3f5f",
             "gridcolor": "white",
             "linecolor": "white",
             "minorgridcolor": "white",
             "startlinecolor": "#2a3f5f"
            },
            "baxis": {
             "endlinecolor": "#2a3f5f",
             "gridcolor": "white",
             "linecolor": "white",
             "minorgridcolor": "white",
             "startlinecolor": "#2a3f5f"
            },
            "type": "carpet"
           }
          ],
          "choropleth": [
           {
            "colorbar": {
             "outlinewidth": 0,
             "ticks": ""
            },
            "type": "choropleth"
           }
          ],
          "contour": [
           {
            "colorbar": {
             "outlinewidth": 0,
             "ticks": ""
            },
            "colorscale": [
             [
              0,
              "#0d0887"
             ],
             [
              0.1111111111111111,
              "#46039f"
             ],
             [
              0.2222222222222222,
              "#7201a8"
             ],
             [
              0.3333333333333333,
              "#9c179e"
             ],
             [
              0.4444444444444444,
              "#bd3786"
             ],
             [
              0.5555555555555556,
              "#d8576b"
             ],
             [
              0.6666666666666666,
              "#ed7953"
             ],
             [
              0.7777777777777778,
              "#fb9f3a"
             ],
             [
              0.8888888888888888,
              "#fdca26"
             ],
             [
              1,
              "#f0f921"
             ]
            ],
            "type": "contour"
           }
          ],
          "contourcarpet": [
           {
            "colorbar": {
             "outlinewidth": 0,
             "ticks": ""
            },
            "type": "contourcarpet"
           }
          ],
          "heatmap": [
           {
            "colorbar": {
             "outlinewidth": 0,
             "ticks": ""
            },
            "colorscale": [
             [
              0,
              "#0d0887"
             ],
             [
              0.1111111111111111,
              "#46039f"
             ],
             [
              0.2222222222222222,
              "#7201a8"
             ],
             [
              0.3333333333333333,
              "#9c179e"
             ],
             [
              0.4444444444444444,
              "#bd3786"
             ],
             [
              0.5555555555555556,
              "#d8576b"
             ],
             [
              0.6666666666666666,
              "#ed7953"
             ],
             [
              0.7777777777777778,
              "#fb9f3a"
             ],
             [
              0.8888888888888888,
              "#fdca26"
             ],
             [
              1,
              "#f0f921"
             ]
            ],
            "type": "heatmap"
           }
          ],
          "heatmapgl": [
           {
            "colorbar": {
             "outlinewidth": 0,
             "ticks": ""
            },
            "colorscale": [
             [
              0,
              "#0d0887"
             ],
             [
              0.1111111111111111,
              "#46039f"
             ],
             [
              0.2222222222222222,
              "#7201a8"
             ],
             [
              0.3333333333333333,
              "#9c179e"
             ],
             [
              0.4444444444444444,
              "#bd3786"
             ],
             [
              0.5555555555555556,
              "#d8576b"
             ],
             [
              0.6666666666666666,
              "#ed7953"
             ],
             [
              0.7777777777777778,
              "#fb9f3a"
             ],
             [
              0.8888888888888888,
              "#fdca26"
             ],
             [
              1,
              "#f0f921"
             ]
            ],
            "type": "heatmapgl"
           }
          ],
          "histogram": [
           {
            "marker": {
             "pattern": {
              "fillmode": "overlay",
              "size": 10,
              "solidity": 0.2
             }
            },
            "type": "histogram"
           }
          ],
          "histogram2d": [
           {
            "colorbar": {
             "outlinewidth": 0,
             "ticks": ""
            },
            "colorscale": [
             [
              0,
              "#0d0887"
             ],
             [
              0.1111111111111111,
              "#46039f"
             ],
             [
              0.2222222222222222,
              "#7201a8"
             ],
             [
              0.3333333333333333,
              "#9c179e"
             ],
             [
              0.4444444444444444,
              "#bd3786"
             ],
             [
              0.5555555555555556,
              "#d8576b"
             ],
             [
              0.6666666666666666,
              "#ed7953"
             ],
             [
              0.7777777777777778,
              "#fb9f3a"
             ],
             [
              0.8888888888888888,
              "#fdca26"
             ],
             [
              1,
              "#f0f921"
             ]
            ],
            "type": "histogram2d"
           }
          ],
          "histogram2dcontour": [
           {
            "colorbar": {
             "outlinewidth": 0,
             "ticks": ""
            },
            "colorscale": [
             [
              0,
              "#0d0887"
             ],
             [
              0.1111111111111111,
              "#46039f"
             ],
             [
              0.2222222222222222,
              "#7201a8"
             ],
             [
              0.3333333333333333,
              "#9c179e"
             ],
             [
              0.4444444444444444,
              "#bd3786"
             ],
             [
              0.5555555555555556,
              "#d8576b"
             ],
             [
              0.6666666666666666,
              "#ed7953"
             ],
             [
              0.7777777777777778,
              "#fb9f3a"
             ],
             [
              0.8888888888888888,
              "#fdca26"
             ],
             [
              1,
              "#f0f921"
             ]
            ],
            "type": "histogram2dcontour"
           }
          ],
          "mesh3d": [
           {
            "colorbar": {
             "outlinewidth": 0,
             "ticks": ""
            },
            "type": "mesh3d"
           }
          ],
          "parcoords": [
           {
            "line": {
             "colorbar": {
              "outlinewidth": 0,
              "ticks": ""
             }
            },
            "type": "parcoords"
           }
          ],
          "pie": [
           {
            "automargin": true,
            "type": "pie"
           }
          ],
          "scatter": [
           {
            "fillpattern": {
             "fillmode": "overlay",
             "size": 10,
             "solidity": 0.2
            },
            "type": "scatter"
           }
          ],
          "scatter3d": [
           {
            "line": {
             "colorbar": {
              "outlinewidth": 0,
              "ticks": ""
             }
            },
            "marker": {
             "colorbar": {
              "outlinewidth": 0,
              "ticks": ""
             }
            },
            "type": "scatter3d"
           }
          ],
          "scattercarpet": [
           {
            "marker": {
             "colorbar": {
              "outlinewidth": 0,
              "ticks": ""
             }
            },
            "type": "scattercarpet"
           }
          ],
          "scattergeo": [
           {
            "marker": {
             "colorbar": {
              "outlinewidth": 0,
              "ticks": ""
             }
            },
            "type": "scattergeo"
           }
          ],
          "scattergl": [
           {
            "marker": {
             "colorbar": {
              "outlinewidth": 0,
              "ticks": ""
             }
            },
            "type": "scattergl"
           }
          ],
          "scattermapbox": [
           {
            "marker": {
             "colorbar": {
              "outlinewidth": 0,
              "ticks": ""
             }
            },
            "type": "scattermapbox"
           }
          ],
          "scatterpolar": [
           {
            "marker": {
             "colorbar": {
              "outlinewidth": 0,
              "ticks": ""
             }
            },
            "type": "scatterpolar"
           }
          ],
          "scatterpolargl": [
           {
            "marker": {
             "colorbar": {
              "outlinewidth": 0,
              "ticks": ""
             }
            },
            "type": "scatterpolargl"
           }
          ],
          "scatterternary": [
           {
            "marker": {
             "colorbar": {
              "outlinewidth": 0,
              "ticks": ""
             }
            },
            "type": "scatterternary"
           }
          ],
          "surface": [
           {
            "colorbar": {
             "outlinewidth": 0,
             "ticks": ""
            },
            "colorscale": [
             [
              0,
              "#0d0887"
             ],
             [
              0.1111111111111111,
              "#46039f"
             ],
             [
              0.2222222222222222,
              "#7201a8"
             ],
             [
              0.3333333333333333,
              "#9c179e"
             ],
             [
              0.4444444444444444,
              "#bd3786"
             ],
             [
              0.5555555555555556,
              "#d8576b"
             ],
             [
              0.6666666666666666,
              "#ed7953"
             ],
             [
              0.7777777777777778,
              "#fb9f3a"
             ],
             [
              0.8888888888888888,
              "#fdca26"
             ],
             [
              1,
              "#f0f921"
             ]
            ],
            "type": "surface"
           }
          ],
          "table": [
           {
            "cells": {
             "fill": {
              "color": "#EBF0F8"
             },
             "line": {
              "color": "white"
             }
            },
            "header": {
             "fill": {
              "color": "#C8D4E3"
             },
             "line": {
              "color": "white"
             }
            },
            "type": "table"
           }
          ]
         },
         "layout": {
          "annotationdefaults": {
           "arrowcolor": "#2a3f5f",
           "arrowhead": 0,
           "arrowwidth": 1
          },
          "autotypenumbers": "strict",
          "coloraxis": {
           "colorbar": {
            "outlinewidth": 0,
            "ticks": ""
           }
          },
          "colorscale": {
           "diverging": [
            [
             0,
             "#8e0152"
            ],
            [
             0.1,
             "#c51b7d"
            ],
            [
             0.2,
             "#de77ae"
            ],
            [
             0.3,
             "#f1b6da"
            ],
            [
             0.4,
             "#fde0ef"
            ],
            [
             0.5,
             "#f7f7f7"
            ],
            [
             0.6,
             "#e6f5d0"
            ],
            [
             0.7,
             "#b8e186"
            ],
            [
             0.8,
             "#7fbc41"
            ],
            [
             0.9,
             "#4d9221"
            ],
            [
             1,
             "#276419"
            ]
           ],
           "sequential": [
            [
             0,
             "#0d0887"
            ],
            [
             0.1111111111111111,
             "#46039f"
            ],
            [
             0.2222222222222222,
             "#7201a8"
            ],
            [
             0.3333333333333333,
             "#9c179e"
            ],
            [
             0.4444444444444444,
             "#bd3786"
            ],
            [
             0.5555555555555556,
             "#d8576b"
            ],
            [
             0.6666666666666666,
             "#ed7953"
            ],
            [
             0.7777777777777778,
             "#fb9f3a"
            ],
            [
             0.8888888888888888,
             "#fdca26"
            ],
            [
             1,
             "#f0f921"
            ]
           ],
           "sequentialminus": [
            [
             0,
             "#0d0887"
            ],
            [
             0.1111111111111111,
             "#46039f"
            ],
            [
             0.2222222222222222,
             "#7201a8"
            ],
            [
             0.3333333333333333,
             "#9c179e"
            ],
            [
             0.4444444444444444,
             "#bd3786"
            ],
            [
             0.5555555555555556,
             "#d8576b"
            ],
            [
             0.6666666666666666,
             "#ed7953"
            ],
            [
             0.7777777777777778,
             "#fb9f3a"
            ],
            [
             0.8888888888888888,
             "#fdca26"
            ],
            [
             1,
             "#f0f921"
            ]
           ]
          },
          "colorway": [
           "#636efa",
           "#EF553B",
           "#00cc96",
           "#ab63fa",
           "#FFA15A",
           "#19d3f3",
           "#FF6692",
           "#B6E880",
           "#FF97FF",
           "#FECB52"
          ],
          "font": {
           "color": "#2a3f5f"
          },
          "geo": {
           "bgcolor": "white",
           "lakecolor": "white",
           "landcolor": "#E5ECF6",
           "showlakes": true,
           "showland": true,
           "subunitcolor": "white"
          },
          "hoverlabel": {
           "align": "left"
          },
          "hovermode": "closest",
          "mapbox": {
           "style": "light"
          },
          "paper_bgcolor": "white",
          "plot_bgcolor": "#E5ECF6",
          "polar": {
           "angularaxis": {
            "gridcolor": "white",
            "linecolor": "white",
            "ticks": ""
           },
           "bgcolor": "#E5ECF6",
           "radialaxis": {
            "gridcolor": "white",
            "linecolor": "white",
            "ticks": ""
           }
          },
          "scene": {
           "xaxis": {
            "backgroundcolor": "#E5ECF6",
            "gridcolor": "white",
            "gridwidth": 2,
            "linecolor": "white",
            "showbackground": true,
            "ticks": "",
            "zerolinecolor": "white"
           },
           "yaxis": {
            "backgroundcolor": "#E5ECF6",
            "gridcolor": "white",
            "gridwidth": 2,
            "linecolor": "white",
            "showbackground": true,
            "ticks": "",
            "zerolinecolor": "white"
           },
           "zaxis": {
            "backgroundcolor": "#E5ECF6",
            "gridcolor": "white",
            "gridwidth": 2,
            "linecolor": "white",
            "showbackground": true,
            "ticks": "",
            "zerolinecolor": "white"
           }
          },
          "shapedefaults": {
           "line": {
            "color": "#2a3f5f"
           }
          },
          "ternary": {
           "aaxis": {
            "gridcolor": "white",
            "linecolor": "white",
            "ticks": ""
           },
           "baxis": {
            "gridcolor": "white",
            "linecolor": "white",
            "ticks": ""
           },
           "bgcolor": "#E5ECF6",
           "caxis": {
            "gridcolor": "white",
            "linecolor": "white",
            "ticks": ""
           }
          },
          "title": {
           "x": 0.05
          },
          "xaxis": {
           "automargin": true,
           "gridcolor": "white",
           "linecolor": "white",
           "ticks": "",
           "title": {
            "standoff": 15
           },
           "zerolinecolor": "white",
           "zerolinewidth": 2
          },
          "yaxis": {
           "automargin": true,
           "gridcolor": "white",
           "linecolor": "white",
           "ticks": "",
           "title": {
            "standoff": 15
           },
           "zerolinecolor": "white",
           "zerolinewidth": 2
          }
         }
        },
        "title": {
         "text": "Country Distribution"
        },
        "xaxis": {
         "anchor": "y",
         "domain": [
          0,
          1
         ],
         "title": {
          "text": "Country"
         }
        },
        "yaxis": {
         "anchor": "x",
         "domain": [
          0,
          1
         ],
         "title": {
          "text": "Distribution"
         }
        }
       }
      },
      "image/png": "[encoded data removed]",
      "text/html": [
       "<div>                            <div id=\"a89e39c2-b0f0-49bb-8cfa-aa30c0f273e5\" class=\"plotly-graph-div\" style=\"height:525px; width:100%;\"></div>            <script type=\"text/javascript\">                require([\"plotly\"], function(Plotly) {                    window.PLOTLYENV=window.PLOTLYENV || {};                                    if (document.getElementById(\"a89e39c2-b0f0-49bb-8cfa-aa30c0f273e5\")) {                    Plotly.newPlot(                        \"a89e39c2-b0f0-49bb-8cfa-aa30c0f273e5\",                        [{\"alignmentgroup\":\"True\",\"bingroup\":\"x\",\"hovertemplate\":\"country=%{x}\\u003cbr\\u003ecount=%{y}\\u003cextra\\u003e\\u003c\\u002fextra\\u003e\",\"legendgroup\":\"\",\"marker\":{\"color\":\"#636efa\",\"pattern\":{\"shape\":\"\"}},\"name\":\"\",\"nbinsx\":30,\"offsetgroup\":\"\",\"orientation\":\"v\",\"showlegend\":false,\"x\":[\"PRT\",\"AUT\",\"ESP\",\"PRT\",\"ITA\",\"ITA\",\"ESP\",\"ITA\",\"ITA\",\"FRA\",\"FRA\",\"PRT\",\"PRT\",\"PRT\",\"FRA\",\"AUT\",\"AUT\",\"AUT\",\"AUT\",\"FRA\",\"AUT\",\"DEU\",\"PRT\",\"DEU\",\"BEL\",\"CZE\",\"GBR\",\"DEU\",\"DEU\",\"AUT\",\"FRA\",\"PRT\",\"PRT\",\"FRA\",\"PRT\",\"PRT\",\"PRT\",\"PRT\",\"PRT\",\"PRT\",\"PRT\",\"ESP\",\"PRT\",\"PRT\",\"ESP\",\"DEU\",\"PRT\",\"AUT\",\"FRA\",\"FRA\",\"FRA\",\"FRA\",\"PRT\",\"PRT\",\"FRA\",\"PRT\",\"FRA\",\"NLD\",\"FRA\",\"PRT\",\"PRT\",\"PRT\",\"PRT\",\"ESP\",\"PRT\",\"ITA\",\"PRT\",\"GBR\",\"PRT\",\"PRT\",\"ITA\",\"PRT\",\"PRT\",\"ITA\",\"PRT\",\"AUT\",\"PRT\",\"PRT\",\"ESP\",\"PRT\",\"PRT\",\"AUT\",\"USA\",\"AUT\",\"PRT\",\"GBR\",\"ITA\",\"ITA\",\"FRA\",\"GBR\",\"PRT\",\"BEL\",\"MEX\",\"ITA\",\"PRT\",\"PRT\",\"AUT\",\"AUT\",\"AUT\",\"AUT\",\"AUT\",\"AUT\",\"PRT\",\"AUT\",\"AUT\",\"GBR\",\"AUT\",\"AUT\",\"AUT\",\"GBR\",\"DEU\",\"AUT\",\"AUT\",\"AUT\",\"PRT\",\"PRT\",\"CZE\",\"GBR\",\"FRA\",\"GBR\",\"PRT\",\"CZE\",\"USA\",\"CZE\",\"CHE\",\"FRA\",\"FRA\",\"FRA\",\"FRA\",\"DEU\",\"FRA\",\"AUT\",\"AUT\",\"PRT\",\"AUT\",\"AUT\",\"AUT\",\"AUS\",\"PRT\",\"PRT\",\"PRT\",\"PRT\",\"PRT\",\"PRT\",\"PRT\",\"PRT\",\"PRT\",\"GBR\",\"PRT\",\"GBR\",\"GBR\",\"GBR\",\"PRT\",\"PRT\",\"PRT\",\"PRT\",\"PRT\",\"PRT\",\"BGR\",\"PRT\",\"PRT\",\"PRT\",\"ITA\",\"PRT\",\"NLD\",\"GBR\",\"GBR\",\"GBR\",\"GBR\",\"GBR\",\"PRT\",\"PRT\",\"FRA\",\"ITA\",\"FRA\",\"FRA\",\"FRA\",\"PRT\",\"PRT\",\"FRA\",\"PRT\",\"PRT\",\"PRT\",\"PRT\",\"PRT\",\"PRT\",\"ITA\",\"ITA\",\"GBR\",\"CHN\",\"MEX\",\"PRT\",\"DEU\",\"DEU\",\"DEU\",\"DEU\",\"DEU\",\"DEU\",\"DEU\",\"DEU\",\"DEU\",\"BEL\",\"PRT\",\"DEU\",\"ROU\",\"PRT\",\"IRL\",\"PRT\",\"PRT\",\"PRT\",\"ESP\",\"ESP\",\"CHN\",\"ITA\",\"ITA\",\"GBR\",\"PRT\"],\"xaxis\":\"x\",\"yaxis\":\"y\",\"type\":\"histogram\"}],                        {\"template\":{\"data\":{\"histogram2dcontour\":[{\"type\":\"histogram2dcontour\",\"colorbar\":{\"outlinewidth\":0,\"ticks\":\"\"},\"colorscale\":[[0.0,\"#0d0887\"],[0.1111111111111111,\"#46039f\"],[0.2222222222222222,\"#7201a8\"],[0.3333333333333333,\"#9c179e\"],[0.4444444444444444,\"#bd3786\"],[0.5555555555555556,\"#d8576b\"],[0.6666666666666666,\"#ed7953\"],[0.7777777777777778,\"#fb9f3a\"],[0.8888888888888888,\"#fdca26\"],[1.0,\"#f0f921\"]]}],\"choropleth\":[{\"type\":\"choropleth\",\"colorbar\":{\"outlinewidth\":0,\"ticks\":\"\"}}],\"histogram2d\":[{\"type\":\"histogram2d\",\"colorbar\":{\"outlinewidth\":0,\"ticks\":\"\"},\"colorscale\":[[0.0,\"#0d0887\"],[0.1111111111111111,\"#46039f\"],[0.2222222222222222,\"#7201a8\"],[0.3333333333333333,\"#9c179e\"],[0.4444444444444444,\"#bd3786\"],[0.5555555555555556,\"#d8576b\"],[0.6666666666666666,\"#ed7953\"],[0.7777777777777778,\"#fb9f3a\"],[0.8888888888888888,\"#fdca26\"],[1.0,\"#f0f921\"]]}],\"heatmap\":[{\"type\":\"heatmap\",\"colorbar\":{\"outlinewidth\":0,\"ticks\":\"\"},\"colorscale\":[[0.0,\"#0d0887\"],[0.1111111111111111,\"#46039f\"],[0.2222222222222222,\"#7201a8\"],[0.3333333333333333,\"#9c179e\"],[0.4444444444444444,\"#bd3786\"],[0.5555555555555556,\"#d8576b\"],[0.6666666666666666,\"#ed7953\"],[0.7777777777777778,\"#fb9f3a\"],[0.8888888888888888,\"#fdca26\"],[1.0,\"#f0f921\"]]}],\"heatmapgl\":[{\"type\":\"heatmapgl\",\"colorbar\":{\"outlinewidth\":0,\"ticks\":\"\"},\"colorscale\":[[0.0,\"#0d0887\"],[0.1111111111111111,\"#46039f\"],[0.2222222222222222,\"#7201a8\"],[0.3333333333333333,\"#9c179e\"],[0.4444444444444444,\"#bd3786\"],[0.5555555555555556,\"#d8576b\"],[0.6666666666666666,\"#ed7953\"],[0.7777777777777778,\"#fb9f3a\"],[0.8888888888888888,\"#fdca26\"],[1.0,\"#f0f921\"]]}],\"contourcarpet\":[{\"type\":\"contourcarpet\",\"colorbar\":{\"outlinewidth\":0,\"ticks\":\"\"}}],\"contour\":[{\"type\":\"contour\",\"colorbar\":{\"outlinewidth\":0,\"ticks\":\"\"},\"colorscale\":[[0.0,\"#0d0887\"],[0.1111111111111111,\"#46039f\"],[0.2222222222222222,\"#7201a8\"],[0.3333333333333333,\"#9c179e\"],[0.4444444444444444,\"#bd3786\"],[0.5555555555555556,\"#d8576b\"],[0.6666666666666666,\"#ed7953\"],[0.7777777777777778,\"#fb9f3a\"],[0.8888888888888888,\"#fdca26\"],[1.0,\"#f0f921\"]]}],\"surface\":[{\"type\":\"surface\",\"colorbar\":{\"outlinewidth\":0,\"ticks\":\"\"},\"colorscale\":[[0.0,\"#0d0887\"],[0.1111111111111111,\"#46039f\"],[0.2222222222222222,\"#7201a8\"],[0.3333333333333333,\"#9c179e\"],[0.4444444444444444,\"#bd3786\"],[0.5555555555555556,\"#d8576b\"],[0.6666666666666666,\"#ed7953\"],[0.7777777777777778,\"#fb9f3a\"],[0.8888888888888888,\"#fdca26\"],[1.0,\"#f0f921\"]]}],\"mesh3d\":[{\"type\":\"mesh3d\",\"colorbar\":{\"outlinewidth\":0,\"ticks\":\"\"}}],\"scatter\":[{\"fillpattern\":{\"fillmode\":\"overlay\",\"size\":10,\"solidity\":0.2},\"type\":\"scatter\"}],\"parcoords\":[{\"type\":\"parcoords\",\"line\":{\"colorbar\":{\"outlinewidth\":0,\"ticks\":\"\"}}}],\"scatterpolargl\":[{\"type\":\"scatterpolargl\",\"marker\":{\"colorbar\":{\"outlinewidth\":0,\"ticks\":\"\"}}}],\"bar\":[{\"error_x\":{\"color\":\"#2a3f5f\"},\"error_y\":{\"color\":\"#2a3f5f\"},\"marker\":{\"line\":{\"color\":\"#E5ECF6\",\"width\":0.5},\"pattern\":{\"fillmode\":\"overlay\",\"size\":10,\"solidity\":0.2}},\"type\":\"bar\"}],\"scattergeo\":[{\"type\":\"scattergeo\",\"marker\":{\"colorbar\":{\"outlinewidth\":0,\"ticks\":\"\"}}}],\"scatterpolar\":[{\"type\":\"scatterpolar\",\"marker\":{\"colorbar\":{\"outlinewidth\":0,\"ticks\":\"\"}}}],\"histogram\":[{\"marker\":{\"pattern\":{\"fillmode\":\"overlay\",\"size\":10,\"solidity\":0.2}},\"type\":\"histogram\"}],\"scattergl\":[{\"type\":\"scattergl\",\"marker\":{\"colorbar\":{\"outlinewidth\":0,\"ticks\":\"\"}}}],\"scatter3d\":[{\"type\":\"scatter3d\",\"line\":{\"colorbar\":{\"outlinewidth\":0,\"ticks\":\"\"}},\"marker\":{\"colorbar\":{\"outlinewidth\":0,\"ticks\":\"\"}}}],\"scattermapbox\":[{\"type\":\"scattermapbox\",\"marker\":{\"colorbar\":{\"outlinewidth\":0,\"ticks\":\"\"}}}],\"scatterternary\":[{\"type\":\"scatterternary\",\"marker\":{\"colorbar\":{\"outlinewidth\":0,\"ticks\":\"\"}}}],\"scattercarpet\":[{\"type\":\"scattercarpet\",\"marker\":{\"colorbar\":{\"outlinewidth\":0,\"ticks\":\"\"}}}],\"carpet\":[{\"aaxis\":{\"endlinecolor\":\"#2a3f5f\",\"gridcolor\":\"white\",\"linecolor\":\"white\",\"minorgridcolor\":\"white\",\"startlinecolor\":\"#2a3f5f\"},\"baxis\":{\"endlinecolor\":\"#2a3f5f\",\"gridcolor\":\"white\",\"linecolor\":\"white\",\"minorgridcolor\":\"white\",\"startlinecolor\":\"#2a3f5f\"},\"type\":\"carpet\"}],\"table\":[{\"cells\":{\"fill\":{\"color\":\"#EBF0F8\"},\"line\":{\"color\":\"white\"}},\"header\":{\"fill\":{\"color\":\"#C8D4E3\"},\"line\":{\"color\":\"white\"}},\"type\":\"table\"}],\"barpolar\":[{\"marker\":{\"line\":{\"color\":\"#E5ECF6\",\"width\":0.5},\"pattern\":{\"fillmode\":\"overlay\",\"size\":10,\"solidity\":0.2}},\"type\":\"barpolar\"}],\"pie\":[{\"automargin\":true,\"type\":\"pie\"}]},\"layout\":{\"autotypenumbers\":\"strict\",\"colorway\":[\"#636efa\",\"#EF553B\",\"#00cc96\",\"#ab63fa\",\"#FFA15A\",\"#19d3f3\",\"#FF6692\",\"#B6E880\",\"#FF97FF\",\"#FECB52\"],\"font\":{\"color\":\"#2a3f5f\"},\"hovermode\":\"closest\",\"hoverlabel\":{\"align\":\"left\"},\"paper_bgcolor\":\"white\",\"plot_bgcolor\":\"#E5ECF6\",\"polar\":{\"bgcolor\":\"#E5ECF6\",\"angularaxis\":{\"gridcolor\":\"white\",\"linecolor\":\"white\",\"ticks\":\"\"},\"radialaxis\":{\"gridcolor\":\"white\",\"linecolor\":\"white\",\"ticks\":\"\"}},\"ternary\":{\"bgcolor\":\"#E5ECF6\",\"aaxis\":{\"gridcolor\":\"white\",\"linecolor\":\"white\",\"ticks\":\"\"},\"baxis\":{\"gridcolor\":\"white\",\"linecolor\":\"white\",\"ticks\":\"\"},\"caxis\":{\"gridcolor\":\"white\",\"linecolor\":\"white\",\"ticks\":\"\"}},\"coloraxis\":{\"colorbar\":{\"outlinewidth\":0,\"ticks\":\"\"}},\"colorscale\":{\"sequential\":[[0.0,\"#0d0887\"],[0.1111111111111111,\"#46039f\"],[0.2222222222222222,\"#7201a8\"],[0.3333333333333333,\"#9c179e\"],[0.4444444444444444,\"#bd3786\"],[0.5555555555555556,\"#d8576b\"],[0.6666666666666666,\"#ed7953\"],[0.7777777777777778,\"#fb9f3a\"],[0.8888888888888888,\"#fdca26\"],[1.0,\"#f0f921\"]],\"sequentialminus\":[[0.0,\"#0d0887\"],[0.1111111111111111,\"#46039f\"],[0.2222222222222222,\"#7201a8\"],[0.3333333333333333,\"#9c179e\"],[0.4444444444444444,\"#bd3786\"],[0.5555555555555556,\"#d8576b\"],[0.6666666666666666,\"#ed7953\"],[0.7777777777777778,\"#fb9f3a\"],[0.8888888888888888,\"#fdca26\"],[1.0,\"#f0f921\"]],\"diverging\":[[0,\"#8e0152\"],[0.1,\"#c51b7d\"],[0.2,\"#de77ae\"],[0.3,\"#f1b6da\"],[0.4,\"#fde0ef\"],[0.5,\"#f7f7f7\"],[0.6,\"#e6f5d0\"],[0.7,\"#b8e186\"],[0.8,\"#7fbc41\"],[0.9,\"#4d9221\"],[1,\"#276419\"]]},\"xaxis\":{\"gridcolor\":\"white\",\"linecolor\":\"white\",\"ticks\":\"\",\"title\":{\"standoff\":15},\"zerolinecolor\":\"white\",\"automargin\":true,\"zerolinewidth\":2},\"yaxis\":{\"gridcolor\":\"white\",\"linecolor\":\"white\",\"ticks\":\"\",\"title\":{\"standoff\":15},\"zerolinecolor\":\"white\",\"automargin\":true,\"zerolinewidth\":2},\"scene\":{\"xaxis\":{\"backgroundcolor\":\"#E5ECF6\",\"gridcolor\":\"white\",\"linecolor\":\"white\",\"showbackground\":true,\"ticks\":\"\",\"zerolinecolor\":\"white\",\"gridwidth\":2},\"yaxis\":{\"backgroundcolor\":\"#E5ECF6\",\"gridcolor\":\"white\",\"linecolor\":\"white\",\"showbackground\":true,\"ticks\":\"\",\"zerolinecolor\":\"white\",\"gridwidth\":2},\"zaxis\":{\"backgroundcolor\":\"#E5ECF6\",\"gridcolor\":\"white\",\"linecolor\":\"white\",\"showbackground\":true,\"ticks\":\"\",\"zerolinecolor\":\"white\",\"gridwidth\":2}},\"shapedefaults\":{\"line\":{\"color\":\"#2a3f5f\"}},\"annotationdefaults\":{\"arrowcolor\":\"#2a3f5f\",\"arrowhead\":0,\"arrowwidth\":1},\"geo\":{\"bgcolor\":\"white\",\"landcolor\":\"#E5ECF6\",\"subunitcolor\":\"white\",\"showland\":true,\"showlakes\":true,\"lakecolor\":\"white\"},\"title\":{\"x\":0.05},\"mapbox\":{\"style\":\"light\"}}},\"xaxis\":{\"anchor\":\"y\",\"domain\":[0.0,1.0],\"title\":{\"text\":\"Country\"}},\"yaxis\":{\"anchor\":\"x\",\"domain\":[0.0,1.0],\"title\":{\"text\":\"Distribution\"}},\"legend\":{\"tracegroupgap\":0},\"title\":{\"text\":\"Country Distribution\"},\"barmode\":\"relative\"},                        {\"responsive\": true}                    ).then(function(){\n",
       "                            \n",
       "var gd = document.getElementById('a89e39c2-b0f0-49bb-8cfa-aa30c0f273e5');\n",
       "var x = new MutationObserver(function (mutations, observer) {{\n",
       "        var display = window.getComputedStyle(gd).display;\n",
       "        if (!display || display === 'none') {{\n",
       "            console.log([gd, 'removed!']);\n",
       "            Plotly.purge(gd);\n",
       "            observer.disconnect();\n",
       "        }}\n",
       "}});\n",
       "\n",
       "// Listen for the removal of the full notebook cells\n",
       "var notebookContainer = gd.closest('#notebook-container');\n",
       "if (notebookContainer) {{\n",
       "    x.observe(notebookContainer, {childList: true});\n",
       "}}\n",
       "\n",
       "// Listen for the clearing of the current output cell\n",
       "var outputEl = gd.closest('.output');\n",
       "if (outputEl) {{\n",
       "    x.observe(outputEl, {childList: true});\n",
       "}}\n",
       "\n",
       "                        })                };                });            </script>        </div>"
      ]
     },
     "metadata": {},
     "output_type": "display_data"
    }
   ],
   "source": [
    "import plotly.express as px\n",
    "fig = px.histogram(hd, x=\"country\",nbins=30,title='Country Distribution')\n",
    "fig.update_layout(xaxis_title='Country',yaxis_title='Distribution')\n",
    "fig.show()\n"
   ]
  },
  {
   "cell_type": "code",
   "execution_count": 67,
   "id": "1daaa668-7c83-40bb-921f-de8d79debbca",
   "metadata": {},
   "outputs": [
    {
     "data": {
      "application/vnd.plotly.v1+json": {
       "config": {
        "plotlyServerURL": "https://plot.ly"
       },
       "data": [
        {
         "alignmentgroup": "True",
         "bingroup": "x",
         "hovertemplate": "arrival_date_month=%{x}<br>count=%{y}<extra></extra>",
         "legendgroup": "",
         "marker": {
          "color": "#636efa",
          "pattern": {
           "shape": ""
          }
         },
         "name": "",
         "nbinsx": 30,
         "offsetgroup": "",
         "orientation": "v",
         "showlegend": false,
         "type": "histogram",
         "x": [
          "October",
          "October",
          "November",
          "November",
          "November",
          "November",
          "November",
          "November",
          "November",
          "November",
          "November",
          "November",
          "November",
          "November",
          "November",
          "November",
          "November",
          "November",
          "November",
          "November",
          "November",
          "November",
          "November",
          "November",
          "November",
          "November",
          "November",
          "November",
          "November",
          "November",
          "November",
          "November",
          "November",
          "November",
          "November",
          "November",
          "November",
          "November",
          "November",
          "November",
          "November",
          "November",
          "November",
          "November",
          "November",
          "November",
          "November",
          "November",
          "November",
          "November",
          "November",
          "November",
          "November",
          "November",
          "November",
          "November",
          "November",
          "November",
          "November",
          "November",
          "November",
          "November",
          "November",
          "November",
          "November",
          "November",
          "May",
          "October",
          "June",
          "December",
          "January",
          "October",
          "October",
          "January",
          "May",
          "November",
          "November",
          "November",
          "November",
          "November",
          "November",
          "November",
          "November",
          "November",
          "November",
          "November",
          "November",
          "November",
          "November",
          "November",
          "November",
          "November",
          "November",
          "November",
          "November",
          "November",
          "November",
          "November",
          "November",
          "November",
          "November",
          "November",
          "November",
          "November",
          "November",
          "November",
          "November",
          "November",
          "November",
          "November",
          "November",
          "November",
          "November",
          "November",
          "November",
          "November",
          "November",
          "November",
          "November",
          "November",
          "November",
          "November",
          "November",
          "November",
          "November",
          "November",
          "November",
          "November",
          "November",
          "November",
          "November",
          "October",
          "November",
          "October",
          "November",
          "November",
          "October",
          "November",
          "March",
          "November",
          "January",
          "May",
          "February",
          "March",
          "April",
          "May",
          "May",
          "May",
          "May",
          "May",
          "May",
          "July",
          "July",
          "August",
          "September",
          "November",
          "November",
          "December",
          "December",
          "January",
          "January",
          "January",
          "January",
          "March",
          "March",
          "June",
          "June",
          "July",
          "August",
          "August",
          "August",
          "August",
          "August",
          "August",
          "August",
          "August",
          "August",
          "August",
          "August",
          "August",
          "September",
          "January",
          "August",
          "October",
          "January",
          "January",
          "May",
          "May",
          "July",
          "September",
          "September",
          "September",
          "October",
          "October",
          "October",
          "October",
          "October",
          "October",
          "October",
          "October",
          "October",
          "November",
          "November",
          "December",
          "December",
          "January",
          "February",
          "March",
          "May",
          "May",
          "May",
          "May",
          "May",
          "May",
          "May",
          "June",
          "July"
         ],
         "xaxis": "x",
         "yaxis": "y"
        }
       ],
       "layout": {
        "barmode": "relative",
        "legend": {
         "tracegroupgap": 0
        },
        "template": {
         "data": {
          "bar": [
           {
            "error_x": {
             "color": "#2a3f5f"
            },
            "error_y": {
             "color": "#2a3f5f"
            },
            "marker": {
             "line": {
              "color": "#E5ECF6",
              "width": 0.5
             },
             "pattern": {
              "fillmode": "overlay",
              "size": 10,
              "solidity": 0.2
             }
            },
            "type": "bar"
           }
          ],
          "barpolar": [
           {
            "marker": {
             "line": {
              "color": "#E5ECF6",
              "width": 0.5
             },
             "pattern": {
              "fillmode": "overlay",
              "size": 10,
              "solidity": 0.2
             }
            },
            "type": "barpolar"
           }
          ],
          "carpet": [
           {
            "aaxis": {
             "endlinecolor": "#2a3f5f",
             "gridcolor": "white",
             "linecolor": "white",
             "minorgridcolor": "white",
             "startlinecolor": "#2a3f5f"
            },
            "baxis": {
             "endlinecolor": "#2a3f5f",
             "gridcolor": "white",
             "linecolor": "white",
             "minorgridcolor": "white",
             "startlinecolor": "#2a3f5f"
            },
            "type": "carpet"
           }
          ],
          "choropleth": [
           {
            "colorbar": {
             "outlinewidth": 0,
             "ticks": ""
            },
            "type": "choropleth"
           }
          ],
          "contour": [
           {
            "colorbar": {
             "outlinewidth": 0,
             "ticks": ""
            },
            "colorscale": [
             [
              0,
              "#0d0887"
             ],
             [
              0.1111111111111111,
              "#46039f"
             ],
             [
              0.2222222222222222,
              "#7201a8"
             ],
             [
              0.3333333333333333,
              "#9c179e"
             ],
             [
              0.4444444444444444,
              "#bd3786"
             ],
             [
              0.5555555555555556,
              "#d8576b"
             ],
             [
              0.6666666666666666,
              "#ed7953"
             ],
             [
              0.7777777777777778,
              "#fb9f3a"
             ],
             [
              0.8888888888888888,
              "#fdca26"
             ],
             [
              1,
              "#f0f921"
             ]
            ],
            "type": "contour"
           }
          ],
          "contourcarpet": [
           {
            "colorbar": {
             "outlinewidth": 0,
             "ticks": ""
            },
            "type": "contourcarpet"
           }
          ],
          "heatmap": [
           {
            "colorbar": {
             "outlinewidth": 0,
             "ticks": ""
            },
            "colorscale": [
             [
              0,
              "#0d0887"
             ],
             [
              0.1111111111111111,
              "#46039f"
             ],
             [
              0.2222222222222222,
              "#7201a8"
             ],
             [
              0.3333333333333333,
              "#9c179e"
             ],
             [
              0.4444444444444444,
              "#bd3786"
             ],
             [
              0.5555555555555556,
              "#d8576b"
             ],
             [
              0.6666666666666666,
              "#ed7953"
             ],
             [
              0.7777777777777778,
              "#fb9f3a"
             ],
             [
              0.8888888888888888,
              "#fdca26"
             ],
             [
              1,
              "#f0f921"
             ]
            ],
            "type": "heatmap"
           }
          ],
          "heatmapgl": [
           {
            "colorbar": {
             "outlinewidth": 0,
             "ticks": ""
            },
            "colorscale": [
             [
              0,
              "#0d0887"
             ],
             [
              0.1111111111111111,
              "#46039f"
             ],
             [
              0.2222222222222222,
              "#7201a8"
             ],
             [
              0.3333333333333333,
              "#9c179e"
             ],
             [
              0.4444444444444444,
              "#bd3786"
             ],
             [
              0.5555555555555556,
              "#d8576b"
             ],
             [
              0.6666666666666666,
              "#ed7953"
             ],
             [
              0.7777777777777778,
              "#fb9f3a"
             ],
             [
              0.8888888888888888,
              "#fdca26"
             ],
             [
              1,
              "#f0f921"
             ]
            ],
            "type": "heatmapgl"
           }
          ],
          "histogram": [
           {
            "marker": {
             "pattern": {
              "fillmode": "overlay",
              "size": 10,
              "solidity": 0.2
             }
            },
            "type": "histogram"
           }
          ],
          "histogram2d": [
           {
            "colorbar": {
             "outlinewidth": 0,
             "ticks": ""
            },
            "colorscale": [
             [
              0,
              "#0d0887"
             ],
             [
              0.1111111111111111,
              "#46039f"
             ],
             [
              0.2222222222222222,
              "#7201a8"
             ],
             [
              0.3333333333333333,
              "#9c179e"
             ],
             [
              0.4444444444444444,
              "#bd3786"
             ],
             [
              0.5555555555555556,
              "#d8576b"
             ],
             [
              0.6666666666666666,
              "#ed7953"
             ],
             [
              0.7777777777777778,
              "#fb9f3a"
             ],
             [
              0.8888888888888888,
              "#fdca26"
             ],
             [
              1,
              "#f0f921"
             ]
            ],
            "type": "histogram2d"
           }
          ],
          "histogram2dcontour": [
           {
            "colorbar": {
             "outlinewidth": 0,
             "ticks": ""
            },
            "colorscale": [
             [
              0,
              "#0d0887"
             ],
             [
              0.1111111111111111,
              "#46039f"
             ],
             [
              0.2222222222222222,
              "#7201a8"
             ],
             [
              0.3333333333333333,
              "#9c179e"
             ],
             [
              0.4444444444444444,
              "#bd3786"
             ],
             [
              0.5555555555555556,
              "#d8576b"
             ],
             [
              0.6666666666666666,
              "#ed7953"
             ],
             [
              0.7777777777777778,
              "#fb9f3a"
             ],
             [
              0.8888888888888888,
              "#fdca26"
             ],
             [
              1,
              "#f0f921"
             ]
            ],
            "type": "histogram2dcontour"
           }
          ],
          "mesh3d": [
           {
            "colorbar": {
             "outlinewidth": 0,
             "ticks": ""
            },
            "type": "mesh3d"
           }
          ],
          "parcoords": [
           {
            "line": {
             "colorbar": {
              "outlinewidth": 0,
              "ticks": ""
             }
            },
            "type": "parcoords"
           }
          ],
          "pie": [
           {
            "automargin": true,
            "type": "pie"
           }
          ],
          "scatter": [
           {
            "fillpattern": {
             "fillmode": "overlay",
             "size": 10,
             "solidity": 0.2
            },
            "type": "scatter"
           }
          ],
          "scatter3d": [
           {
            "line": {
             "colorbar": {
              "outlinewidth": 0,
              "ticks": ""
             }
            },
            "marker": {
             "colorbar": {
              "outlinewidth": 0,
              "ticks": ""
             }
            },
            "type": "scatter3d"
           }
          ],
          "scattercarpet": [
           {
            "marker": {
             "colorbar": {
              "outlinewidth": 0,
              "ticks": ""
             }
            },
            "type": "scattercarpet"
           }
          ],
          "scattergeo": [
           {
            "marker": {
             "colorbar": {
              "outlinewidth": 0,
              "ticks": ""
             }
            },
            "type": "scattergeo"
           }
          ],
          "scattergl": [
           {
            "marker": {
             "colorbar": {
              "outlinewidth": 0,
              "ticks": ""
             }
            },
            "type": "scattergl"
           }
          ],
          "scattermapbox": [
           {
            "marker": {
             "colorbar": {
              "outlinewidth": 0,
              "ticks": ""
             }
            },
            "type": "scattermapbox"
           }
          ],
          "scatterpolar": [
           {
            "marker": {
             "colorbar": {
              "outlinewidth": 0,
              "ticks": ""
             }
            },
            "type": "scatterpolar"
           }
          ],
          "scatterpolargl": [
           {
            "marker": {
             "colorbar": {
              "outlinewidth": 0,
              "ticks": ""
             }
            },
            "type": "scatterpolargl"
           }
          ],
          "scatterternary": [
           {
            "marker": {
             "colorbar": {
              "outlinewidth": 0,
              "ticks": ""
             }
            },
            "type": "scatterternary"
           }
          ],
          "surface": [
           {
            "colorbar": {
             "outlinewidth": 0,
             "ticks": ""
            },
            "colorscale": [
             [
              0,
              "#0d0887"
             ],
             [
              0.1111111111111111,
              "#46039f"
             ],
             [
              0.2222222222222222,
              "#7201a8"
             ],
             [
              0.3333333333333333,
              "#9c179e"
             ],
             [
              0.4444444444444444,
              "#bd3786"
             ],
             [
              0.5555555555555556,
              "#d8576b"
             ],
             [
              0.6666666666666666,
              "#ed7953"
             ],
             [
              0.7777777777777778,
              "#fb9f3a"
             ],
             [
              0.8888888888888888,
              "#fdca26"
             ],
             [
              1,
              "#f0f921"
             ]
            ],
            "type": "surface"
           }
          ],
          "table": [
           {
            "cells": {
             "fill": {
              "color": "#EBF0F8"
             },
             "line": {
              "color": "white"
             }
            },
            "header": {
             "fill": {
              "color": "#C8D4E3"
             },
             "line": {
              "color": "white"
             }
            },
            "type": "table"
           }
          ]
         },
         "layout": {
          "annotationdefaults": {
           "arrowcolor": "#2a3f5f",
           "arrowhead": 0,
           "arrowwidth": 1
          },
          "autotypenumbers": "strict",
          "coloraxis": {
           "colorbar": {
            "outlinewidth": 0,
            "ticks": ""
           }
          },
          "colorscale": {
           "diverging": [
            [
             0,
             "#8e0152"
            ],
            [
             0.1,
             "#c51b7d"
            ],
            [
             0.2,
             "#de77ae"
            ],
            [
             0.3,
             "#f1b6da"
            ],
            [
             0.4,
             "#fde0ef"
            ],
            [
             0.5,
             "#f7f7f7"
            ],
            [
             0.6,
             "#e6f5d0"
            ],
            [
             0.7,
             "#b8e186"
            ],
            [
             0.8,
             "#7fbc41"
            ],
            [
             0.9,
             "#4d9221"
            ],
            [
             1,
             "#276419"
            ]
           ],
           "sequential": [
            [
             0,
             "#0d0887"
            ],
            [
             0.1111111111111111,
             "#46039f"
            ],
            [
             0.2222222222222222,
             "#7201a8"
            ],
            [
             0.3333333333333333,
             "#9c179e"
            ],
            [
             0.4444444444444444,
             "#bd3786"
            ],
            [
             0.5555555555555556,
             "#d8576b"
            ],
            [
             0.6666666666666666,
             "#ed7953"
            ],
            [
             0.7777777777777778,
             "#fb9f3a"
            ],
            [
             0.8888888888888888,
             "#fdca26"
            ],
            [
             1,
             "#f0f921"
            ]
           ],
           "sequentialminus": [
            [
             0,
             "#0d0887"
            ],
            [
             0.1111111111111111,
             "#46039f"
            ],
            [
             0.2222222222222222,
             "#7201a8"
            ],
            [
             0.3333333333333333,
             "#9c179e"
            ],
            [
             0.4444444444444444,
             "#bd3786"
            ],
            [
             0.5555555555555556,
             "#d8576b"
            ],
            [
             0.6666666666666666,
             "#ed7953"
            ],
            [
             0.7777777777777778,
             "#fb9f3a"
            ],
            [
             0.8888888888888888,
             "#fdca26"
            ],
            [
             1,
             "#f0f921"
            ]
           ]
          },
          "colorway": [
           "#636efa",
           "#EF553B",
           "#00cc96",
           "#ab63fa",
           "#FFA15A",
           "#19d3f3",
           "#FF6692",
           "#B6E880",
           "#FF97FF",
           "#FECB52"
          ],
          "font": {
           "color": "#2a3f5f"
          },
          "geo": {
           "bgcolor": "white",
           "lakecolor": "white",
           "landcolor": "#E5ECF6",
           "showlakes": true,
           "showland": true,
           "subunitcolor": "white"
          },
          "hoverlabel": {
           "align": "left"
          },
          "hovermode": "closest",
          "mapbox": {
           "style": "light"
          },
          "paper_bgcolor": "white",
          "plot_bgcolor": "#E5ECF6",
          "polar": {
           "angularaxis": {
            "gridcolor": "white",
            "linecolor": "white",
            "ticks": ""
           },
           "bgcolor": "#E5ECF6",
           "radialaxis": {
            "gridcolor": "white",
            "linecolor": "white",
            "ticks": ""
           }
          },
          "scene": {
           "xaxis": {
            "backgroundcolor": "#E5ECF6",
            "gridcolor": "white",
            "gridwidth": 2,
            "linecolor": "white",
            "showbackground": true,
            "ticks": "",
            "zerolinecolor": "white"
           },
           "yaxis": {
            "backgroundcolor": "#E5ECF6",
            "gridcolor": "white",
            "gridwidth": 2,
            "linecolor": "white",
            "showbackground": true,
            "ticks": "",
            "zerolinecolor": "white"
           },
           "zaxis": {
            "backgroundcolor": "#E5ECF6",
            "gridcolor": "white",
            "gridwidth": 2,
            "linecolor": "white",
            "showbackground": true,
            "ticks": "",
            "zerolinecolor": "white"
           }
          },
          "shapedefaults": {
           "line": {
            "color": "#2a3f5f"
           }
          },
          "ternary": {
           "aaxis": {
            "gridcolor": "white",
            "linecolor": "white",
            "ticks": ""
           },
           "baxis": {
            "gridcolor": "white",
            "linecolor": "white",
            "ticks": ""
           },
           "bgcolor": "#E5ECF6",
           "caxis": {
            "gridcolor": "white",
            "linecolor": "white",
            "ticks": ""
           }
          },
          "title": {
           "x": 0.05
          },
          "xaxis": {
           "automargin": true,
           "gridcolor": "white",
           "linecolor": "white",
           "ticks": "",
           "title": {
            "standoff": 15
           },
           "zerolinecolor": "white",
           "zerolinewidth": 2
          },
          "yaxis": {
           "automargin": true,
           "gridcolor": "white",
           "linecolor": "white",
           "ticks": "",
           "title": {
            "standoff": 15
           },
           "zerolinecolor": "white",
           "zerolinewidth": 2
          }
         }
        },
        "title": {
         "text": "Month Distribution"
        },
        "xaxis": {
         "anchor": "y",
         "domain": [
          0,
          1
         ],
         "title": {
          "text": "Month"
         }
        },
        "yaxis": {
         "anchor": "x",
         "domain": [
          0,
          1
         ],
         "title": {
          "text": "Distribution"
         }
        }
       }
      },
      "image/png": "[encoded data removed]",
      "text/html": [
       "<div>                            <div id=\"d538445a-a7fd-4c6d-a470-79f85de17cd2\" class=\"plotly-graph-div\" style=\"height:525px; width:100%;\"></div>            <script type=\"text/javascript\">                require([\"plotly\"], function(Plotly) {                    window.PLOTLYENV=window.PLOTLYENV || {};                                    if (document.getElementById(\"d538445a-a7fd-4c6d-a470-79f85de17cd2\")) {                    Plotly.newPlot(                        \"d538445a-a7fd-4c6d-a470-79f85de17cd2\",                        [{\"alignmentgroup\":\"True\",\"bingroup\":\"x\",\"hovertemplate\":\"arrival_date_month=%{x}\\u003cbr\\u003ecount=%{y}\\u003cextra\\u003e\\u003c\\u002fextra\\u003e\",\"legendgroup\":\"\",\"marker\":{\"color\":\"#636efa\",\"pattern\":{\"shape\":\"\"}},\"name\":\"\",\"nbinsx\":30,\"offsetgroup\":\"\",\"orientation\":\"v\",\"showlegend\":false,\"x\":[\"October\",\"October\",\"November\",\"November\",\"November\",\"November\",\"November\",\"November\",\"November\",\"November\",\"November\",\"November\",\"November\",\"November\",\"November\",\"November\",\"November\",\"November\",\"November\",\"November\",\"November\",\"November\",\"November\",\"November\",\"November\",\"November\",\"November\",\"November\",\"November\",\"November\",\"November\",\"November\",\"November\",\"November\",\"November\",\"November\",\"November\",\"November\",\"November\",\"November\",\"November\",\"November\",\"November\",\"November\",\"November\",\"November\",\"November\",\"November\",\"November\",\"November\",\"November\",\"November\",\"November\",\"November\",\"November\",\"November\",\"November\",\"November\",\"November\",\"November\",\"November\",\"November\",\"November\",\"November\",\"November\",\"November\",\"May\",\"October\",\"June\",\"December\",\"January\",\"October\",\"October\",\"January\",\"May\",\"November\",\"November\",\"November\",\"November\",\"November\",\"November\",\"November\",\"November\",\"November\",\"November\",\"November\",\"November\",\"November\",\"November\",\"November\",\"November\",\"November\",\"November\",\"November\",\"November\",\"November\",\"November\",\"November\",\"November\",\"November\",\"November\",\"November\",\"November\",\"November\",\"November\",\"November\",\"November\",\"November\",\"November\",\"November\",\"November\",\"November\",\"November\",\"November\",\"November\",\"November\",\"November\",\"November\",\"November\",\"November\",\"November\",\"November\",\"November\",\"November\",\"November\",\"November\",\"November\",\"November\",\"November\",\"November\",\"November\",\"October\",\"November\",\"October\",\"November\",\"November\",\"October\",\"November\",\"March\",\"November\",\"January\",\"May\",\"February\",\"March\",\"April\",\"May\",\"May\",\"May\",\"May\",\"May\",\"May\",\"July\",\"July\",\"August\",\"September\",\"November\",\"November\",\"December\",\"December\",\"January\",\"January\",\"January\",\"January\",\"March\",\"March\",\"June\",\"June\",\"July\",\"August\",\"August\",\"August\",\"August\",\"August\",\"August\",\"August\",\"August\",\"August\",\"August\",\"August\",\"August\",\"September\",\"January\",\"August\",\"October\",\"January\",\"January\",\"May\",\"May\",\"July\",\"September\",\"September\",\"September\",\"October\",\"October\",\"October\",\"October\",\"October\",\"October\",\"October\",\"October\",\"October\",\"November\",\"November\",\"December\",\"December\",\"January\",\"February\",\"March\",\"May\",\"May\",\"May\",\"May\",\"May\",\"May\",\"May\",\"June\",\"July\"],\"xaxis\":\"x\",\"yaxis\":\"y\",\"type\":\"histogram\"}],                        {\"template\":{\"data\":{\"histogram2dcontour\":[{\"type\":\"histogram2dcontour\",\"colorbar\":{\"outlinewidth\":0,\"ticks\":\"\"},\"colorscale\":[[0.0,\"#0d0887\"],[0.1111111111111111,\"#46039f\"],[0.2222222222222222,\"#7201a8\"],[0.3333333333333333,\"#9c179e\"],[0.4444444444444444,\"#bd3786\"],[0.5555555555555556,\"#d8576b\"],[0.6666666666666666,\"#ed7953\"],[0.7777777777777778,\"#fb9f3a\"],[0.8888888888888888,\"#fdca26\"],[1.0,\"#f0f921\"]]}],\"choropleth\":[{\"type\":\"choropleth\",\"colorbar\":{\"outlinewidth\":0,\"ticks\":\"\"}}],\"histogram2d\":[{\"type\":\"histogram2d\",\"colorbar\":{\"outlinewidth\":0,\"ticks\":\"\"},\"colorscale\":[[0.0,\"#0d0887\"],[0.1111111111111111,\"#46039f\"],[0.2222222222222222,\"#7201a8\"],[0.3333333333333333,\"#9c179e\"],[0.4444444444444444,\"#bd3786\"],[0.5555555555555556,\"#d8576b\"],[0.6666666666666666,\"#ed7953\"],[0.7777777777777778,\"#fb9f3a\"],[0.8888888888888888,\"#fdca26\"],[1.0,\"#f0f921\"]]}],\"heatmap\":[{\"type\":\"heatmap\",\"colorbar\":{\"outlinewidth\":0,\"ticks\":\"\"},\"colorscale\":[[0.0,\"#0d0887\"],[0.1111111111111111,\"#46039f\"],[0.2222222222222222,\"#7201a8\"],[0.3333333333333333,\"#9c179e\"],[0.4444444444444444,\"#bd3786\"],[0.5555555555555556,\"#d8576b\"],[0.6666666666666666,\"#ed7953\"],[0.7777777777777778,\"#fb9f3a\"],[0.8888888888888888,\"#fdca26\"],[1.0,\"#f0f921\"]]}],\"heatmapgl\":[{\"type\":\"heatmapgl\",\"colorbar\":{\"outlinewidth\":0,\"ticks\":\"\"},\"colorscale\":[[0.0,\"#0d0887\"],[0.1111111111111111,\"#46039f\"],[0.2222222222222222,\"#7201a8\"],[0.3333333333333333,\"#9c179e\"],[0.4444444444444444,\"#bd3786\"],[0.5555555555555556,\"#d8576b\"],[0.6666666666666666,\"#ed7953\"],[0.7777777777777778,\"#fb9f3a\"],[0.8888888888888888,\"#fdca26\"],[1.0,\"#f0f921\"]]}],\"contourcarpet\":[{\"type\":\"contourcarpet\",\"colorbar\":{\"outlinewidth\":0,\"ticks\":\"\"}}],\"contour\":[{\"type\":\"contour\",\"colorbar\":{\"outlinewidth\":0,\"ticks\":\"\"},\"colorscale\":[[0.0,\"#0d0887\"],[0.1111111111111111,\"#46039f\"],[0.2222222222222222,\"#7201a8\"],[0.3333333333333333,\"#9c179e\"],[0.4444444444444444,\"#bd3786\"],[0.5555555555555556,\"#d8576b\"],[0.6666666666666666,\"#ed7953\"],[0.7777777777777778,\"#fb9f3a\"],[0.8888888888888888,\"#fdca26\"],[1.0,\"#f0f921\"]]}],\"surface\":[{\"type\":\"surface\",\"colorbar\":{\"outlinewidth\":0,\"ticks\":\"\"},\"colorscale\":[[0.0,\"#0d0887\"],[0.1111111111111111,\"#46039f\"],[0.2222222222222222,\"#7201a8\"],[0.3333333333333333,\"#9c179e\"],[0.4444444444444444,\"#bd3786\"],[0.5555555555555556,\"#d8576b\"],[0.6666666666666666,\"#ed7953\"],[0.7777777777777778,\"#fb9f3a\"],[0.8888888888888888,\"#fdca26\"],[1.0,\"#f0f921\"]]}],\"mesh3d\":[{\"type\":\"mesh3d\",\"colorbar\":{\"outlinewidth\":0,\"ticks\":\"\"}}],\"scatter\":[{\"fillpattern\":{\"fillmode\":\"overlay\",\"size\":10,\"solidity\":0.2},\"type\":\"scatter\"}],\"parcoords\":[{\"type\":\"parcoords\",\"line\":{\"colorbar\":{\"outlinewidth\":0,\"ticks\":\"\"}}}],\"scatterpolargl\":[{\"type\":\"scatterpolargl\",\"marker\":{\"colorbar\":{\"outlinewidth\":0,\"ticks\":\"\"}}}],\"bar\":[{\"error_x\":{\"color\":\"#2a3f5f\"},\"error_y\":{\"color\":\"#2a3f5f\"},\"marker\":{\"line\":{\"color\":\"#E5ECF6\",\"width\":0.5},\"pattern\":{\"fillmode\":\"overlay\",\"size\":10,\"solidity\":0.2}},\"type\":\"bar\"}],\"scattergeo\":[{\"type\":\"scattergeo\",\"marker\":{\"colorbar\":{\"outlinewidth\":0,\"ticks\":\"\"}}}],\"scatterpolar\":[{\"type\":\"scatterpolar\",\"marker\":{\"colorbar\":{\"outlinewidth\":0,\"ticks\":\"\"}}}],\"histogram\":[{\"marker\":{\"pattern\":{\"fillmode\":\"overlay\",\"size\":10,\"solidity\":0.2}},\"type\":\"histogram\"}],\"scattergl\":[{\"type\":\"scattergl\",\"marker\":{\"colorbar\":{\"outlinewidth\":0,\"ticks\":\"\"}}}],\"scatter3d\":[{\"type\":\"scatter3d\",\"line\":{\"colorbar\":{\"outlinewidth\":0,\"ticks\":\"\"}},\"marker\":{\"colorbar\":{\"outlinewidth\":0,\"ticks\":\"\"}}}],\"scattermapbox\":[{\"type\":\"scattermapbox\",\"marker\":{\"colorbar\":{\"outlinewidth\":0,\"ticks\":\"\"}}}],\"scatterternary\":[{\"type\":\"scatterternary\",\"marker\":{\"colorbar\":{\"outlinewidth\":0,\"ticks\":\"\"}}}],\"scattercarpet\":[{\"type\":\"scattercarpet\",\"marker\":{\"colorbar\":{\"outlinewidth\":0,\"ticks\":\"\"}}}],\"carpet\":[{\"aaxis\":{\"endlinecolor\":\"#2a3f5f\",\"gridcolor\":\"white\",\"linecolor\":\"white\",\"minorgridcolor\":\"white\",\"startlinecolor\":\"#2a3f5f\"},\"baxis\":{\"endlinecolor\":\"#2a3f5f\",\"gridcolor\":\"white\",\"linecolor\":\"white\",\"minorgridcolor\":\"white\",\"startlinecolor\":\"#2a3f5f\"},\"type\":\"carpet\"}],\"table\":[{\"cells\":{\"fill\":{\"color\":\"#EBF0F8\"},\"line\":{\"color\":\"white\"}},\"header\":{\"fill\":{\"color\":\"#C8D4E3\"},\"line\":{\"color\":\"white\"}},\"type\":\"table\"}],\"barpolar\":[{\"marker\":{\"line\":{\"color\":\"#E5ECF6\",\"width\":0.5},\"pattern\":{\"fillmode\":\"overlay\",\"size\":10,\"solidity\":0.2}},\"type\":\"barpolar\"}],\"pie\":[{\"automargin\":true,\"type\":\"pie\"}]},\"layout\":{\"autotypenumbers\":\"strict\",\"colorway\":[\"#636efa\",\"#EF553B\",\"#00cc96\",\"#ab63fa\",\"#FFA15A\",\"#19d3f3\",\"#FF6692\",\"#B6E880\",\"#FF97FF\",\"#FECB52\"],\"font\":{\"color\":\"#2a3f5f\"},\"hovermode\":\"closest\",\"hoverlabel\":{\"align\":\"left\"},\"paper_bgcolor\":\"white\",\"plot_bgcolor\":\"#E5ECF6\",\"polar\":{\"bgcolor\":\"#E5ECF6\",\"angularaxis\":{\"gridcolor\":\"white\",\"linecolor\":\"white\",\"ticks\":\"\"},\"radialaxis\":{\"gridcolor\":\"white\",\"linecolor\":\"white\",\"ticks\":\"\"}},\"ternary\":{\"bgcolor\":\"#E5ECF6\",\"aaxis\":{\"gridcolor\":\"white\",\"linecolor\":\"white\",\"ticks\":\"\"},\"baxis\":{\"gridcolor\":\"white\",\"linecolor\":\"white\",\"ticks\":\"\"},\"caxis\":{\"gridcolor\":\"white\",\"linecolor\":\"white\",\"ticks\":\"\"}},\"coloraxis\":{\"colorbar\":{\"outlinewidth\":0,\"ticks\":\"\"}},\"colorscale\":{\"sequential\":[[0.0,\"#0d0887\"],[0.1111111111111111,\"#46039f\"],[0.2222222222222222,\"#7201a8\"],[0.3333333333333333,\"#9c179e\"],[0.4444444444444444,\"#bd3786\"],[0.5555555555555556,\"#d8576b\"],[0.6666666666666666,\"#ed7953\"],[0.7777777777777778,\"#fb9f3a\"],[0.8888888888888888,\"#fdca26\"],[1.0,\"#f0f921\"]],\"sequentialminus\":[[0.0,\"#0d0887\"],[0.1111111111111111,\"#46039f\"],[0.2222222222222222,\"#7201a8\"],[0.3333333333333333,\"#9c179e\"],[0.4444444444444444,\"#bd3786\"],[0.5555555555555556,\"#d8576b\"],[0.6666666666666666,\"#ed7953\"],[0.7777777777777778,\"#fb9f3a\"],[0.8888888888888888,\"#fdca26\"],[1.0,\"#f0f921\"]],\"diverging\":[[0,\"#8e0152\"],[0.1,\"#c51b7d\"],[0.2,\"#de77ae\"],[0.3,\"#f1b6da\"],[0.4,\"#fde0ef\"],[0.5,\"#f7f7f7\"],[0.6,\"#e6f5d0\"],[0.7,\"#b8e186\"],[0.8,\"#7fbc41\"],[0.9,\"#4d9221\"],[1,\"#276419\"]]},\"xaxis\":{\"gridcolor\":\"white\",\"linecolor\":\"white\",\"ticks\":\"\",\"title\":{\"standoff\":15},\"zerolinecolor\":\"white\",\"automargin\":true,\"zerolinewidth\":2},\"yaxis\":{\"gridcolor\":\"white\",\"linecolor\":\"white\",\"ticks\":\"\",\"title\":{\"standoff\":15},\"zerolinecolor\":\"white\",\"automargin\":true,\"zerolinewidth\":2},\"scene\":{\"xaxis\":{\"backgroundcolor\":\"#E5ECF6\",\"gridcolor\":\"white\",\"linecolor\":\"white\",\"showbackground\":true,\"ticks\":\"\",\"zerolinecolor\":\"white\",\"gridwidth\":2},\"yaxis\":{\"backgroundcolor\":\"#E5ECF6\",\"gridcolor\":\"white\",\"linecolor\":\"white\",\"showbackground\":true,\"ticks\":\"\",\"zerolinecolor\":\"white\",\"gridwidth\":2},\"zaxis\":{\"backgroundcolor\":\"#E5ECF6\",\"gridcolor\":\"white\",\"linecolor\":\"white\",\"showbackground\":true,\"ticks\":\"\",\"zerolinecolor\":\"white\",\"gridwidth\":2}},\"shapedefaults\":{\"line\":{\"color\":\"#2a3f5f\"}},\"annotationdefaults\":{\"arrowcolor\":\"#2a3f5f\",\"arrowhead\":0,\"arrowwidth\":1},\"geo\":{\"bgcolor\":\"white\",\"landcolor\":\"#E5ECF6\",\"subunitcolor\":\"white\",\"showland\":true,\"showlakes\":true,\"lakecolor\":\"white\"},\"title\":{\"x\":0.05},\"mapbox\":{\"style\":\"light\"}}},\"xaxis\":{\"anchor\":\"y\",\"domain\":[0.0,1.0],\"title\":{\"text\":\"Month\"}},\"yaxis\":{\"anchor\":\"x\",\"domain\":[0.0,1.0],\"title\":{\"text\":\"Distribution\"}},\"legend\":{\"tracegroupgap\":0},\"title\":{\"text\":\"Month Distribution\"},\"barmode\":\"relative\"},                        {\"responsive\": true}                    ).then(function(){\n",
       "                            \n",
       "var gd = document.getElementById('d538445a-a7fd-4c6d-a470-79f85de17cd2');\n",
       "var x = new MutationObserver(function (mutations, observer) {{\n",
       "        var display = window.getComputedStyle(gd).display;\n",
       "        if (!display || display === 'none') {{\n",
       "            console.log([gd, 'removed!']);\n",
       "            Plotly.purge(gd);\n",
       "            observer.disconnect();\n",
       "        }}\n",
       "}});\n",
       "\n",
       "// Listen for the removal of the full notebook cells\n",
       "var notebookContainer = gd.closest('#notebook-container');\n",
       "if (notebookContainer) {{\n",
       "    x.observe(notebookContainer, {childList: true});\n",
       "}}\n",
       "\n",
       "// Listen for the clearing of the current output cell\n",
       "var outputEl = gd.closest('.output');\n",
       "if (outputEl) {{\n",
       "    x.observe(outputEl, {childList: true});\n",
       "}}\n",
       "\n",
       "                        })                };                });            </script>        </div>"
      ]
     },
     "metadata": {},
     "output_type": "display_data"
    }
   ],
   "source": [
    "import plotly.express as px\n",
    "fig = px.histogram(hd, x=\"arrival_date_month\",nbins=30,title='Month Distribution')\n",
    "fig.update_layout(xaxis_title='Month',yaxis_title='Distribution')\n",
    "fig.show()"
   ]
  },
  {
   "cell_type": "code",
   "execution_count": 20,
   "id": "cbad224e-2974-41db-876c-b83e408c4ae8",
   "metadata": {},
   "outputs": [
    {
     "data": {
      "image/png": "[encoded data removed]",
      "text/plain": [
       "<Figure size 1000x600 with 1 Axes>"
      ]
     },
     "metadata": {},
     "output_type": "display_data"
    }
   ],
   "source": [
    "plt.figure(figsize=(10, 6))\n",
    "sns.countplot(x='hotel', data=hd,hue='hotel')\n",
    "plt.title('Hotel Type', fontsize=16)\n",
    "plt.xlabel('Hotel Type', fontsize=12)\n",
    "plt.ylabel('Distribution', fontsize=12)\n",
    "plt.xticks(rotation=45)\n",
    "plt.show()"
   ]
  },
  {
   "cell_type": "code",
   "execution_count": 89,
   "id": "cee1cb43-e099-4144-8968-99b6f6b524ef",
   "metadata": {},
   "outputs": [
    {
     "data": {
      "image/png": "[encoded data removed]",
      "text/plain": [
       "<Figure size 1000x300 with 1 Axes>"
      ]
     },
     "metadata": {},
     "output_type": "display_data"
    }
   ],
   "source": [
    "plt.figure(figsize=(10, 3))\n",
    "sns.boxplot(x=hd['lead_time'], color='black')\n",
    "plt.title('Amount Of Day To Stay', fontsize=15)\n",
    "plt.xlabel('Days', fontsize=10)\n",
    "plt.show()"
   ]
  },
  {
   "cell_type": "code",
   "execution_count": 94,
   "id": "ec3e4858-43d4-4609-96d5-f6f8646b7880",
   "metadata": {},
   "outputs": [
    {
     "data": {
      "image/png": "[encoded data removed]",
      "text/plain": [
       "<Figure size 1500x600 with 1 Axes>"
      ]
     },
     "metadata": {},
     "output_type": "display_data"
    }
   ],
   "source": [
    "plt.figure(figsize=(15, 6))\n",
    "sns.scatterplot(data=hd, x='arrival_date_month', y='country', hue='is_canceled', alpha=0.7)\n",
    "plt.title('Country and Month', fontsize=16)\n",
    "plt.xlabel('Month', fontsize=12)\n",
    "plt.ylabel('Country', fontsize=12)\n",
    "plt.legend(title='Status')\n",
    "plt.grid(alpha=1)\n",
    "plt.show()"
   ]
  },
  {
   "cell_type": "code",
   "execution_count": null,
   "id": "cc679e6b-56ae-4d08-a9e3-4cbead8baf75",
   "metadata": {},
   "outputs": [],
   "source": []
  },
  {
   "cell_type": "code",
   "execution_count": 14,
   "id": "54a3ea46-1a04-4c71-8175-0a20ff3a5850",
   "metadata": {},
   "outputs": [
    {
     "data": {
      "image/png": "[encoded data removed]",
      "text/plain": [
       "<Figure size 1200x600 with 1 Axes>"
      ]
     },
     "metadata": {},
     "output_type": "display_data"
    }
   ],
   "source": [
    "import matplotlib.pyplot as plt\n",
    "import seaborn as sns\n",
    "\n",
    "plt.figure(figsize=(12, 6))\n",
    "sns.histplot(data=hd, x='arrival_date_year', hue='is_canceled', kde=True, bins=60)\n",
    "plt.title('Year Distribution', fontsize=18)\n",
    "plt.xticks([2015,2016,2017])\n",
    "plt.xlabel('Year', fontsize=12)\n",
    "plt.ylabel('Amount', fontsize=12)\n",
    "plt.show()"
   ]
  },
  {
   "cell_type": "code",
   "execution_count": null,
   "id": "a84913dc-4c59-4208-affe-c337a12e3f0e",
   "metadata": {},
   "outputs": [],
   "source": [
    "# Hypothesis"
   ]
  },
  {
   "cell_type": "code",
   "execution_count": null,
   "id": "8d57dae4-5d79-4df2-af62-8962dd923f16",
   "metadata": {},
   "outputs": [],
   "source": [
    "# The best time to go to Europe in Resort Hotel is in summer, while City Hotels are popular in the colder seasons."
   ]
  },
  {
   "cell_type": "code",
   "execution_count": 21,
   "id": "691e6c98-c811-44ce-a419-0f815c4cf880",
   "metadata": {},
   "outputs": [
    {
     "data": {
      "application/vnd.plotly.v1+json": {
       "config": {
        "plotlyServerURL": "https://plot.ly"
       },
       "data": [
        {
         "branchvalues": "total",
         "customdata": [
          [
           1
          ],
          [
           1
          ],
          [
           1
          ],
          [
           1
          ],
          [
           1
          ],
          [
           1
          ],
          [
           1
          ],
          [
           1
          ],
          [
           1
          ],
          [
           1
          ],
          [
           1
          ],
          [
           1
          ],
          [
           1
          ],
          [
           1
          ],
          [
           1
          ],
          [
           1
          ],
          [
           1
          ],
          [
           1
          ],
          [
           1
          ],
          [
           1
          ],
          [
           1
          ],
          [
           1
          ],
          [
           1
          ],
          [
           1
          ],
          [
           1
          ],
          [
           1
          ],
          [
           1
          ],
          [
           1
          ],
          [
           1
          ],
          [
           1
          ],
          [
           0
          ],
          [
           1
          ],
          [
           1
          ],
          [
           1
          ],
          [
           0
          ],
          [
           1
          ],
          [
           1
          ],
          [
           0
          ],
          [
           1
          ],
          [
           1
          ],
          [
           1
          ],
          [
           1
          ],
          [
           0
          ],
          [
           1
          ],
          [
           1
          ],
          [
           1
          ],
          [
           1
          ],
          [
           1
          ],
          [
           1
          ],
          [
           1
          ],
          [
           0
          ],
          [
           0
          ],
          [
           0
          ],
          [
           1
          ],
          [
           1
          ],
          [
           1
          ],
          [
           0
          ],
          [
           1
          ],
          [
           1
          ],
          [
           0
          ],
          [
           0
          ],
          [
           1
          ],
          [
           0
          ],
          [
           1
          ],
          [
           0
          ],
          [
           1
          ],
          [
           1
          ],
          [
           1
          ],
          [
           1
          ],
          [
           1
          ],
          [
           0
          ],
          [
           1
          ],
          [
           1
          ],
          [
           1
          ],
          [
           1
          ],
          [
           1
          ],
          [
           1
          ],
          [
           1
          ],
          [
           1
          ],
          [
           0
          ],
          [
           0
          ],
          [
           1
          ],
          [
           0
          ],
          [
           1
          ],
          [
           0
          ],
          [
           0
          ],
          [
           0
          ],
          [
           1
          ],
          [
           1
          ],
          [
           1
          ],
          [
           1
          ],
          [
           0
          ],
          [
           0
          ],
          [
           1
          ],
          [
           0
          ],
          [
           1
          ],
          [
           1
          ],
          [
           0
          ],
          [
           1
          ],
          [
           1
          ],
          [
           1
          ],
          [
           1
          ],
          [
           1
          ],
          [
           0
          ],
          [
           1
          ],
          [
           0
          ],
          [
           1
          ],
          [
           0
          ],
          [
           1
          ],
          [
           0
          ],
          [
           0
          ],
          [
           0
          ],
          [
           0
          ],
          [
           1
          ],
          [
           1
          ],
          [
           0
          ],
          [
           1
          ],
          [
           0
          ],
          [
           0
          ],
          [
           0
          ],
          [
           0
          ],
          [
           0
          ],
          [
           0
          ],
          [
           1
          ],
          [
           0
          ],
          [
           1
          ],
          [
           0
          ],
          [
           1
          ],
          [
           0
          ],
          [
           1
          ],
          [
           1
          ],
          [
           0
          ],
          [
           1
          ],
          [
           0
          ],
          [
           1
          ],
          [
           1
          ],
          [
           0
          ],
          [
           0
          ],
          [
           0
          ],
          [
           0
          ],
          [
           0
          ],
          [
           1
          ],
          [
           0
          ],
          [
           1
          ],
          [
           0
          ],
          [
           0
          ],
          [
           0
          ],
          [
           0
          ],
          [
           0
          ],
          [
           1
          ],
          [
           0
          ],
          [
           0
          ],
          [
           0
          ],
          [
           0
          ],
          [
           1
          ],
          [
           0
          ],
          [
           0
          ],
          [
           0
          ],
          [
           0
          ],
          [
           0
          ],
          [
           0
          ],
          [
           0
          ],
          [
           0
          ],
          [
           0
          ],
          [
           0
          ],
          [
           0
          ],
          [
           0
          ],
          [
           0
          ],
          [
           0
          ],
          [
           0
          ],
          [
           1
          ],
          [
           0
          ],
          [
           0
          ],
          [
           0
          ],
          [
           0
          ],
          [
           0
          ],
          [
           0
          ],
          [
           0
          ],
          [
           0
          ],
          [
           0
          ],
          [
           0
          ],
          [
           0
          ],
          [
           0
          ],
          [
           0
          ],
          [
           0
          ],
          [
           1
          ],
          [
           0
          ],
          [
           0
          ],
          [
           1
          ],
          [
           1
          ],
          [
           1
          ],
          [
           0
          ],
          [
           0
          ],
          [
           0
          ],
          [
           0
          ],
          [
           0
          ],
          [
           1
          ],
          [
           0
          ],
          [
           0
          ],
          [
           0
          ],
          [
           1
          ],
          [
           0
          ],
          [
           0
          ],
          [
           1
          ],
          [
           0
          ],
          [
           0
          ],
          [
           0
          ],
          [
           0
          ],
          [
           0
          ],
          [
           0
          ],
          [
           0
          ],
          [
           1
          ],
          [
           0
          ],
          [
           0
          ],
          [
           0
          ],
          [
           0
          ],
          [
           1
          ],
          [
           0
          ],
          [
           0
          ],
          [
           0
          ],
          [
           1
          ],
          [
           0
          ],
          [
           1
          ],
          [
           0
          ],
          [
           0
          ],
          [
           1
          ],
          [
           0
          ],
          [
           1
          ],
          [
           0
          ],
          [
           0
          ],
          [
           0
          ],
          [
           1
          ],
          [
           0
          ],
          [
           1
          ],
          [
           1
          ],
          [
           1
          ],
          [
           1
          ],
          [
           1
          ],
          [
           1
          ],
          [
           1
          ],
          [
           0.5
          ],
          [
           0.5
          ],
          [
           0.5
          ],
          [
           0.5
          ],
          [
           0.5
          ],
          [
           0.5
          ],
          [
           0.5
          ],
          [
           0.5
          ],
          [
           0.5
          ],
          [
           0.5
          ],
          [
           0.5
          ],
          [
           0.5
          ],
          [
           0.5
          ],
          [
           0.5
          ],
          [
           0.5
          ],
          [
           0.5
          ],
          [
           0.5
          ],
          [
           0.5
          ],
          [
           0.5
          ],
          [
           0.5
          ],
          [
           0.5
          ],
          [
           0.5
          ],
          [
           0.5
          ],
          [
           0.5
          ],
          [
           0.5
          ],
          [
           0.5
          ],
          [
           0.5
          ],
          [
           0.5
          ],
          [
           0.5
          ],
          [
           0.5
          ],
          [
           0.5
          ],
          [
           0.5
          ],
          [
           0.5
          ],
          [
           0.5
          ],
          [
           0.5
          ],
          [
           0.5
          ],
          [
           0.5
          ],
          [
           0.5
          ],
          [
           0.5
          ],
          [
           0.5
          ],
          [
           0.5
          ],
          [
           0.5
          ],
          [
           0.5
          ],
          [
           0.5
          ],
          [
           0.5
          ],
          [
           0.5
          ],
          [
           0.5
          ],
          [
           0.5
          ],
          [
           0.5
          ],
          [
           0.5
          ],
          [
           0.5
          ],
          [
           0.5
          ],
          [
           0.5
          ],
          [
           0.5
          ],
          [
           0.5
          ],
          [
           0.5
          ],
          [
           0.5
          ],
          [
           0.5
          ],
          [
           0.5
          ],
          [
           0.5
          ],
          [
           0.5
          ],
          [
           0.5
          ],
          [
           0.5
          ],
          [
           0.5
          ],
          [
           0.5
          ],
          [
           0.5
          ],
          [
           0.5
          ],
          [
           0.5
          ],
          [
           0.5
          ],
          [
           0.5
          ],
          [
           0.5
          ],
          [
           0.5
          ],
          [
           0.5
          ],
          [
           0.5
          ],
          [
           0.5
          ],
          [
           0.5
          ],
          [
           0.5
          ],
          [
           0.5
          ],
          [
           0.5
          ],
          [
           0.5
          ],
          [
           0.5
          ],
          [
           0.5
          ],
          [
           0.5
          ],
          [
           0.5
          ],
          [
           0.5
          ],
          [
           0.5
          ],
          [
           0.5
          ],
          [
           0.5
          ],
          [
           0.5
          ],
          [
           0.5
          ],
          [
           0.5
          ],
          [
           0.5
          ],
          [
           0.5
          ],
          [
           0.5
          ],
          [
           0.5
          ],
          [
           0.5
          ],
          [
           0.5
          ],
          [
           0.5
          ],
          [
           0.5
          ],
          [
           0.5
          ],
          [
           0.5
          ],
          [
           0.5
          ],
          [
           0.5
          ],
          [
           0.5
          ],
          [
           0.5
          ],
          [
           0.5
          ],
          [
           0.5
          ],
          [
           0.5
          ],
          [
           0.5
          ],
          [
           0.5
          ],
          [
           0.5
          ],
          [
           0.5
          ],
          [
           0.5
          ],
          [
           0.5
          ],
          [
           0.5
          ],
          [
           0.5
          ],
          [
           0.5
          ],
          [
           0.5
          ],
          [
           0.5
          ],
          [
           0.5
          ],
          [
           0.5
          ],
          [
           0.5
          ],
          [
           0.5
          ],
          [
           0.5
          ],
          [
           0.5
          ],
          [
           0.5
          ],
          [
           0.5
          ],
          [
           0.5
          ],
          [
           0.5
          ],
          [
           0.5
          ],
          [
           0.5
          ],
          [
           0.5
          ],
          [
           0.5
          ],
          [
           0.5
          ],
          [
           0.5
          ]
         ],
         "domain": {
          "x": [
           0,
           1
          ],
          "y": [
           0,
           1
          ]
         },
         "hovertemplate": "labels=%{label}<br>countryhotelarrival_date_monthcountis_canceledcount_path_copyarrival_date_month_path_copyhotel_path_copycountry_path_copy=%{value}<br>parent=%{parent}<br>id=%{id}<br>is_canceled=%{color}<extra></extra>",
         "ids": [
          "DEU/Resort Hotel/March/3",
          "DEU/Resort Hotel/February/6",
          "DEU/Resort Hotel/January/7",
          "DEU/Resort Hotel/November/7",
          "FRA/Resort Hotel/September/7",
          "DEU/Resort Hotel/December/8",
          "FRA/Resort Hotel/November/8",
          "FRA/Resort Hotel/January/10",
          "FRA/Resort Hotel/June/10",
          "DEU/Resort Hotel/September/11",
          "DEU/Resort Hotel/July/12",
          "DEU/Resort Hotel/October/12",
          "FRA/Resort Hotel/October/12",
          "FRA/Resort Hotel/March/13",
          "FRA/Resort Hotel/February/15",
          "DEU/Resort Hotel/April/16",
          "DEU/Resort Hotel/June/16",
          "ESP/Resort Hotel/January/19",
          "FRA/Resort Hotel/December/21",
          "ESP/Resort Hotel/November/21",
          "ESP/Resort Hotel/March/22",
          "FRA/Resort Hotel/April/23",
          "DEU/Resort Hotel/May/23",
          "FRA/Resort Hotel/July/24",
          "FRA/Resort Hotel/May/24",
          "DEU/Resort Hotel/August/25",
          "DEU/City Hotel/January/29",
          "GBR/City Hotel/January/30",
          "GBR/Resort Hotel/January/30",
          "ESP/Resort Hotel/December/34",
          "DEU/Resort Hotel/December/36",
          "ESP/Resort Hotel/February/36",
          "FRA/City Hotel/November/36",
          "GBR/Resort Hotel/December/37",
          "DEU/Resort Hotel/January/37",
          "ESP/Resort Hotel/May/38",
          "ESP/Resort Hotel/September/38",
          "DEU/Resort Hotel/August/39",
          "ESP/City Hotel/October/43",
          "FRA/Resort Hotel/August/44",
          "ESP/City Hotel/November/44",
          "GBR/Resort Hotel/November/44",
          "DEU/Resort Hotel/February/46",
          "GBR/Resort Hotel/February/46",
          "GBR/Resort Hotel/March/46",
          "GBR/City Hotel/December/47",
          "DEU/City Hotel/November/47",
          "DEU/City Hotel/February/49",
          "GBR/City Hotel/November/49",
          "ESP/City Hotel/September/50",
          "DEU/Resort Hotel/July/51",
          "FRA/Resort Hotel/June/54",
          "DEU/Resort Hotel/June/56",
          "DEU/City Hotel/December/59",
          "ESP/Resort Hotel/June/61",
          "DEU/City Hotel/September/61",
          "DEU/Resort Hotel/September/63",
          "FRA/City Hotel/January/67",
          "ESP/City Hotel/January/69",
          "GBR/City Hotel/December/70",
          "DEU/Resort Hotel/November/70",
          "ESP/City Hotel/February/71",
          "FRA/Resort Hotel/July/71",
          "GBR/City Hotel/October/71",
          "DEU/Resort Hotel/October/71",
          "FRA/City Hotel/December/73",
          "DEU/City Hotel/October/73",
          "GBR/Resort Hotel/July/74",
          "GBR/Resort Hotel/October/77",
          "ESP/City Hotel/May/79",
          "FRA/Resort Hotel/January/81",
          "ESP/Resort Hotel/October/88",
          "ESP/Resort Hotel/April/95",
          "DEU/City Hotel/June/96",
          "GBR/Resort Hotel/August/97",
          "GBR/City Hotel/February/97",
          "ESP/City Hotel/June/99",
          "GBR/Resort Hotel/April/100",
          "GBR/Resort Hotel/June/102",
          "FRA/Resort Hotel/February/105",
          "GBR/City Hotel/January/105",
          "FRA/City Hotel/September/108",
          "FRA/Resort Hotel/March/111",
          "GBR/City Hotel/September/112",
          "ESP/Resort Hotel/June/113",
          "FRA/Resort Hotel/October/113",
          "ESP/Resort Hotel/May/114",
          "DEU/City Hotel/March/116",
          "GBR/Resort Hotel/May/119",
          "GBR/Resort Hotel/September/119",
          "DEU/City Hotel/July/123",
          "FRA/Resort Hotel/December/124",
          "DEU/City Hotel/December/125",
          "FRA/City Hotel/February/127",
          "FRA/Resort Hotel/April/129",
          "FRA/City Hotel/March/135",
          "DEU/City Hotel/August/137",
          "FRA/Resort Hotel/May/137",
          "DEU/City Hotel/April/138",
          "FRA/City Hotel/October/138",
          "GBR/City Hotel/March/139",
          "ESP/City Hotel/March/141",
          "ESP/City Hotel/July/142",
          "DEU/City Hotel/January/143",
          "ESP/Resort Hotel/July/143",
          "ESP/City Hotel/June/144",
          "DEU/City Hotel/May/144",
          "FRA/Resort Hotel/August/151",
          "ESP/City Hotel/April/153",
          "DEU/Resort Hotel/March/154",
          "ESP/Resort Hotel/September/154",
          "FRA/Resort Hotel/September/155",
          "ESP/City Hotel/May/160",
          "FRA/City Hotel/June/162",
          "GBR/City Hotel/April/164",
          "ESP/City Hotel/November/165",
          "FRA/City Hotel/July/168",
          "DEU/City Hotel/November/168",
          "GBR/City Hotel/November/169",
          "FRA/Resort Hotel/November/169",
          "ESP/Resort Hotel/January/178",
          "ESP/City Hotel/April/185",
          "DEU/City Hotel/February/187",
          "GBR/City Hotel/June/187",
          "DEU/Resort Hotel/May/188",
          "ESP/City Hotel/December/190",
          "ESP/City Hotel/January/200",
          "FRA/City Hotel/May/200",
          "GBR/Resort Hotel/January/202",
          "PRT/Resort Hotel/January/205",
          "FRA/City Hotel/April/210",
          "ESP/Resort Hotel/November/212",
          "GBR/City Hotel/July/216",
          "ESP/Resort Hotel/October/218",
          "GBR/City Hotel/May/223",
          "GBR/City Hotel/August/227",
          "GBR/Resort Hotel/December/227",
          "GBR/City Hotel/February/227",
          "ESP/City Hotel/July/235",
          "ESP/Resort Hotel/April/237",
          "ESP/City Hotel/October/241",
          "ESP/City Hotel/August/245",
          "DEU/Resort Hotel/April/246",
          "ESP/Resort Hotel/August/256",
          "GBR/Resort Hotel/November/258",
          "FRA/City Hotel/January/261",
          "ESP/City Hotel/February/285",
          "ESP/City Hotel/March/288",
          "GBR/City Hotel/October/294",
          "FRA/City Hotel/August/299",
          "ESP/Resort Hotel/February/300",
          "ESP/Resort Hotel/March/310",
          "GBR/City Hotel/April/328",
          "GBR/City Hotel/March/334",
          "PRT/Resort Hotel/November/334",
          "ESP/City Hotel/September/336",
          "GBR/City Hotel/September/337",
          "ESP/Resort Hotel/December/352",
          "ESP/City Hotel/December/359",
          "ESP/Resort Hotel/July/401",
          "DEU/City Hotel/March/410",
          "FRA/City Hotel/December/415",
          "GBR/Resort Hotel/February/423",
          "PRT/Resort Hotel/September/430",
          "GBR/City Hotel/May/432",
          "GBR/Resort Hotel/August/433",
          "GBR/City Hotel/August/444",
          "DEU/City Hotel/September/447",
          "GBR/Resort Hotel/March/469",
          "GBR/City Hotel/June/477",
          "PRT/Resort Hotel/December/483",
          "DEU/City Hotel/April/493",
          "FRA/City Hotel/November/500",
          "GBR/Resort Hotel/July/510",
          "PRT/Resort Hotel/June/514",
          "ESP/Resort Hotel/August/517",
          "DEU/City Hotel/May/518",
          "FRA/City Hotel/September/519",
          "FRA/City Hotel/July/520",
          "GBR/City Hotel/July/536",
          "GBR/Resort Hotel/April/555",
          "FRA/City Hotel/February/564",
          "GBR/Resort Hotel/September/568",
          "PRT/Resort Hotel/May/574",
          "DEU/City Hotel/October/584",
          "PRT/Resort Hotel/October/585",
          "FRA/City Hotel/June/590",
          "GBR/Resort Hotel/June/612",
          "PRT/Resort Hotel/June/623",
          "PRT/Resort Hotel/March/623",
          "PRT/Resort Hotel/February/625",
          "DEU/City Hotel/June/633",
          "PRT/City Hotel/January/644",
          "DEU/City Hotel/July/646",
          "DEU/City Hotel/August/658",
          "PRT/City Hotel/December/660",
          "PRT/Resort Hotel/May/660",
          "PRT/Resort Hotel/October/682",
          "FRA/City Hotel/October/685",
          "ESP/City Hotel/August/687",
          "PRT/Resort Hotel/September/696",
          "PRT/City Hotel/April/702",
          "PRT/City Hotel/November/704",
          "PRT/Resort Hotel/April/708",
          "FRA/City Hotel/April/712",
          "FRA/City Hotel/March/714",
          "PRT/Resort Hotel/April/768",
          "GBR/Resort Hotel/May/783",
          "FRA/City Hotel/May/786",
          "PRT/Resort Hotel/November/807",
          "FRA/City Hotel/August/815",
          "PRT/City Hotel/January/857",
          "PRT/City Hotel/February/870",
          "GBR/Resort Hotel/October/883",
          "PRT/City Hotel/March/888",
          "PRT/City Hotel/May/896",
          "PRT/Resort Hotel/July/911",
          "PRT/Resort Hotel/December/952",
          "PRT/City Hotel/June/955",
          "PRT/Resort Hotel/January/956",
          "PRT/City Hotel/December/963",
          "PRT/Resort Hotel/March/983",
          "PRT/Resort Hotel/August/985",
          "PRT/City Hotel/August/987",
          "PRT/Resort Hotel/February/1074",
          "PRT/City Hotel/February/1097",
          "PRT/Resort Hotel/July/1098",
          "PRT/City Hotel/November/1171",
          "PRT/City Hotel/July/1178",
          "PRT/City Hotel/September/1196",
          "PRT/City Hotel/October/1199",
          "PRT/City Hotel/March/1232",
          "PRT/Resort Hotel/August/1354",
          "PRT/City Hotel/July/1718",
          "PRT/City Hotel/August/1828",
          "PRT/City Hotel/April/1856",
          "PRT/City Hotel/May/2187",
          "PRT/City Hotel/June/2283",
          "PRT/City Hotel/October/2442",
          "PRT/City Hotel/September/2447",
          "DEU/City Hotel/April",
          "ESP/City Hotel/April",
          "FRA/City Hotel/April",
          "GBR/City Hotel/April",
          "PRT/City Hotel/April",
          "DEU/Resort Hotel/April",
          "ESP/Resort Hotel/April",
          "FRA/Resort Hotel/April",
          "GBR/Resort Hotel/April",
          "PRT/Resort Hotel/April",
          "DEU/City Hotel/August",
          "ESP/City Hotel/August",
          "FRA/City Hotel/August",
          "GBR/City Hotel/August",
          "PRT/City Hotel/August",
          "DEU/Resort Hotel/August",
          "ESP/Resort Hotel/August",
          "FRA/Resort Hotel/August",
          "GBR/Resort Hotel/August",
          "PRT/Resort Hotel/August",
          "DEU/City Hotel/December",
          "ESP/City Hotel/December",
          "FRA/City Hotel/December",
          "GBR/City Hotel/December",
          "PRT/City Hotel/December",
          "DEU/Resort Hotel/December",
          "ESP/Resort Hotel/December",
          "FRA/Resort Hotel/December",
          "GBR/Resort Hotel/December",
          "PRT/Resort Hotel/December",
          "DEU/City Hotel/February",
          "ESP/City Hotel/February",
          "FRA/City Hotel/February",
          "GBR/City Hotel/February",
          "PRT/City Hotel/February",
          "DEU/Resort Hotel/February",
          "ESP/Resort Hotel/February",
          "FRA/Resort Hotel/February",
          "GBR/Resort Hotel/February",
          "PRT/Resort Hotel/February",
          "DEU/City Hotel/January",
          "ESP/City Hotel/January",
          "FRA/City Hotel/January",
          "GBR/City Hotel/January",
          "PRT/City Hotel/January",
          "DEU/Resort Hotel/January",
          "ESP/Resort Hotel/January",
          "FRA/Resort Hotel/January",
          "GBR/Resort Hotel/January",
          "PRT/Resort Hotel/January",
          "DEU/City Hotel/July",
          "ESP/City Hotel/July",
          "FRA/City Hotel/July",
          "GBR/City Hotel/July",
          "PRT/City Hotel/July",
          "DEU/Resort Hotel/July",
          "ESP/Resort Hotel/July",
          "FRA/Resort Hotel/July",
          "GBR/Resort Hotel/July",
          "PRT/Resort Hotel/July",
          "DEU/City Hotel/June",
          "ESP/City Hotel/June",
          "FRA/City Hotel/June",
          "GBR/City Hotel/June",
          "PRT/City Hotel/June",
          "DEU/Resort Hotel/June",
          "ESP/Resort Hotel/June",
          "FRA/Resort Hotel/June",
          "GBR/Resort Hotel/June",
          "PRT/Resort Hotel/June",
          "DEU/City Hotel/March",
          "ESP/City Hotel/March",
          "FRA/City Hotel/March",
          "GBR/City Hotel/March",
          "PRT/City Hotel/March",
          "DEU/Resort Hotel/March",
          "ESP/Resort Hotel/March",
          "FRA/Resort Hotel/March",
          "GBR/Resort Hotel/March",
          "PRT/Resort Hotel/March",
          "DEU/City Hotel/May",
          "ESP/City Hotel/May",
          "FRA/City Hotel/May",
          "GBR/City Hotel/May",
          "PRT/City Hotel/May",
          "DEU/Resort Hotel/May",
          "ESP/Resort Hotel/May",
          "FRA/Resort Hotel/May",
          "GBR/Resort Hotel/May",
          "PRT/Resort Hotel/May",
          "DEU/City Hotel/November",
          "ESP/City Hotel/November",
          "FRA/City Hotel/November",
          "GBR/City Hotel/November",
          "PRT/City Hotel/November",
          "DEU/Resort Hotel/November",
          "ESP/Resort Hotel/November",
          "FRA/Resort Hotel/November",
          "GBR/Resort Hotel/November",
          "PRT/Resort Hotel/November",
          "DEU/City Hotel/October",
          "ESP/City Hotel/October",
          "FRA/City Hotel/October",
          "GBR/City Hotel/October",
          "PRT/City Hotel/October",
          "DEU/Resort Hotel/October",
          "ESP/Resort Hotel/October",
          "FRA/Resort Hotel/October",
          "GBR/Resort Hotel/October",
          "PRT/Resort Hotel/October",
          "DEU/City Hotel/September",
          "ESP/City Hotel/September",
          "FRA/City Hotel/September",
          "GBR/City Hotel/September",
          "PRT/City Hotel/September",
          "DEU/Resort Hotel/September",
          "ESP/Resort Hotel/September",
          "FRA/Resort Hotel/September",
          "GBR/Resort Hotel/September",
          "PRT/Resort Hotel/September",
          "DEU/City Hotel",
          "ESP/City Hotel",
          "FRA/City Hotel",
          "GBR/City Hotel",
          "PRT/City Hotel",
          "DEU/Resort Hotel",
          "ESP/Resort Hotel",
          "FRA/Resort Hotel",
          "GBR/Resort Hotel",
          "PRT/Resort Hotel",
          "DEU",
          "ESP",
          "FRA",
          "GBR",
          "PRT"
         ],
         "labels": [
          "3",
          "6",
          "7",
          "7",
          "7",
          "8",
          "8",
          "10",
          "10",
          "11",
          "12",
          "12",
          "12",
          "13",
          "15",
          "16",
          "16",
          "19",
          "21",
          "21",
          "22",
          "23",
          "23",
          "24",
          "24",
          "25",
          "29",
          "30",
          "30",
          "34",
          "36",
          "36",
          "36",
          "37",
          "37",
          "38",
          "38",
          "39",
          "43",
          "44",
          "44",
          "44",
          "46",
          "46",
          "46",
          "47",
          "47",
          "49",
          "49",
          "50",
          "51",
          "54",
          "56",
          "59",
          "61",
          "61",
          "63",
          "67",
          "69",
          "70",
          "70",
          "71",
          "71",
          "71",
          "71",
          "73",
          "73",
          "74",
          "77",
          "79",
          "81",
          "88",
          "95",
          "96",
          "97",
          "97",
          "99",
          "100",
          "102",
          "105",
          "105",
          "108",
          "111",
          "112",
          "113",
          "113",
          "114",
          "116",
          "119",
          "119",
          "123",
          "124",
          "125",
          "127",
          "129",
          "135",
          "137",
          "137",
          "138",
          "138",
          "139",
          "141",
          "142",
          "143",
          "143",
          "144",
          "144",
          "151",
          "153",
          "154",
          "154",
          "155",
          "160",
          "162",
          "164",
          "165",
          "168",
          "168",
          "169",
          "169",
          "178",
          "185",
          "187",
          "187",
          "188",
          "190",
          "200",
          "200",
          "202",
          "205",
          "210",
          "212",
          "216",
          "218",
          "223",
          "227",
          "227",
          "227",
          "235",
          "237",
          "241",
          "245",
          "246",
          "256",
          "258",
          "261",
          "285",
          "288",
          "294",
          "299",
          "300",
          "310",
          "328",
          "334",
          "334",
          "336",
          "337",
          "352",
          "359",
          "401",
          "410",
          "415",
          "423",
          "430",
          "432",
          "433",
          "444",
          "447",
          "469",
          "477",
          "483",
          "493",
          "500",
          "510",
          "514",
          "517",
          "518",
          "519",
          "520",
          "536",
          "555",
          "564",
          "568",
          "574",
          "584",
          "585",
          "590",
          "612",
          "623",
          "623",
          "625",
          "633",
          "644",
          "646",
          "658",
          "660",
          "660",
          "682",
          "685",
          "687",
          "696",
          "702",
          "704",
          "708",
          "712",
          "714",
          "768",
          "783",
          "786",
          "807",
          "815",
          "857",
          "870",
          "883",
          "888",
          "896",
          "911",
          "952",
          "955",
          "956",
          "963",
          "983",
          "985",
          "987",
          "1074",
          "1097",
          "1098",
          "1171",
          "1178",
          "1196",
          "1199",
          "1232",
          "1354",
          "1718",
          "1828",
          "1856",
          "2187",
          "2283",
          "2442",
          "2447",
          "April",
          "April",
          "April",
          "April",
          "April",
          "April",
          "April",
          "April",
          "April",
          "April",
          "August",
          "August",
          "August",
          "August",
          "August",
          "August",
          "August",
          "August",
          "August",
          "August",
          "December",
          "December",
          "December",
          "December",
          "December",
          "December",
          "December",
          "December",
          "December",
          "December",
          "February",
          "February",
          "February",
          "February",
          "February",
          "February",
          "February",
          "February",
          "February",
          "February",
          "January",
          "January",
          "January",
          "January",
          "January",
          "January",
          "January",
          "January",
          "January",
          "January",
          "July",
          "July",
          "July",
          "July",
          "July",
          "July",
          "July",
          "July",
          "July",
          "July",
          "June",
          "June",
          "June",
          "June",
          "June",
          "June",
          "June",
          "June",
          "June",
          "June",
          "March",
          "March",
          "March",
          "March",
          "March",
          "March",
          "March",
          "March",
          "March",
          "March",
          "May",
          "May",
          "May",
          "May",
          "May",
          "May",
          "May",
          "May",
          "May",
          "May",
          "November",
          "November",
          "November",
          "November",
          "November",
          "November",
          "November",
          "November",
          "November",
          "November",
          "October",
          "October",
          "October",
          "October",
          "October",
          "October",
          "October",
          "October",
          "October",
          "October",
          "September",
          "September",
          "September",
          "September",
          "September",
          "September",
          "September",
          "September",
          "September",
          "September",
          "City Hotel",
          "City Hotel",
          "City Hotel",
          "City Hotel",
          "City Hotel",
          "Resort Hotel",
          "Resort Hotel",
          "Resort Hotel",
          "Resort Hotel",
          "Resort Hotel",
          "DEU",
          "ESP",
          "FRA",
          "GBR",
          "PRT"
         ],
         "marker": {
          "coloraxis": "coloraxis",
          "colors": [
           1,
           1,
           1,
           1,
           1,
           1,
           1,
           1,
           1,
           1,
           1,
           1,
           1,
           1,
           1,
           1,
           1,
           1,
           1,
           1,
           1,
           1,
           1,
           1,
           1,
           1,
           1,
           1,
           1,
           1,
           0,
           1,
           1,
           1,
           0,
           1,
           1,
           0,
           1,
           1,
           1,
           1,
           0,
           1,
           1,
           1,
           1,
           1,
           1,
           1,
           0,
           0,
           0,
           1,
           1,
           1,
           0,
           1,
           1,
           0,
           0,
           1,
           0,
           1,
           0,
           1,
           1,
           1,
           1,
           1,
           0,
           1,
           1,
           1,
           1,
           1,
           1,
           1,
           1,
           0,
           0,
           1,
           0,
           1,
           0,
           0,
           0,
           1,
           1,
           1,
           1,
           0,
           0,
           1,
           0,
           1,
           1,
           0,
           1,
           1,
           1,
           1,
           1,
           0,
           1,
           0,
           1,
           0,
           1,
           0,
           0,
           0,
           0,
           1,
           1,
           0,
           1,
           0,
           0,
           0,
           0,
           0,
           0,
           1,
           0,
           1,
           0,
           1,
           0,
           1,
           1,
           0,
           1,
           0,
           1,
           1,
           0,
           0,
           0,
           0,
           0,
           1,
           0,
           1,
           0,
           0,
           0,
           0,
           0,
           1,
           0,
           0,
           0,
           0,
           1,
           0,
           0,
           0,
           0,
           0,
           0,
           0,
           0,
           0,
           0,
           0,
           0,
           0,
           0,
           0,
           1,
           0,
           0,
           0,
           0,
           0,
           0,
           0,
           0,
           0,
           0,
           0,
           0,
           0,
           0,
           1,
           0,
           0,
           1,
           1,
           1,
           0,
           0,
           0,
           0,
           0,
           1,
           0,
           0,
           0,
           1,
           0,
           0,
           1,
           0,
           0,
           0,
           0,
           0,
           0,
           0,
           1,
           0,
           0,
           0,
           0,
           1,
           0,
           0,
           0,
           1,
           0,
           1,
           0,
           0,
           1,
           0,
           1,
           0,
           0,
           0,
           1,
           0,
           1,
           1,
           1,
           1,
           1,
           1,
           1,
           0.5,
           0.5,
           0.5,
           0.5,
           0.5,
           0.5,
           0.5,
           0.5,
           0.5,
           0.5,
           0.5,
           0.5,
           0.5,
           0.5,
           0.5,
           0.5,
           0.5,
           0.5,
           0.5,
           0.5,
           0.5,
           0.5,
           0.5,
           0.5,
           0.5,
           0.5,
           0.5,
           0.5,
           0.5,
           0.5,
           0.5,
           0.5,
           0.5,
           0.5,
           0.5,
           0.5,
           0.5,
           0.5,
           0.5,
           0.5,
           0.5,
           0.5,
           0.5,
           0.5,
           0.5,
           0.5,
           0.5,
           0.5,
           0.5,
           0.5,
           0.5,
           0.5,
           0.5,
           0.5,
           0.5,
           0.5,
           0.5,
           0.5,
           0.5,
           0.5,
           0.5,
           0.5,
           0.5,
           0.5,
           0.5,
           0.5,
           0.5,
           0.5,
           0.5,
           0.5,
           0.5,
           0.5,
           0.5,
           0.5,
           0.5,
           0.5,
           0.5,
           0.5,
           0.5,
           0.5,
           0.5,
           0.5,
           0.5,
           0.5,
           0.5,
           0.5,
           0.5,
           0.5,
           0.5,
           0.5,
           0.5,
           0.5,
           0.5,
           0.5,
           0.5,
           0.5,
           0.5,
           0.5,
           0.5,
           0.5,
           0.5,
           0.5,
           0.5,
           0.5,
           0.5,
           0.5,
           0.5,
           0.5,
           0.5,
           0.5,
           0.5,
           0.5,
           0.5,
           0.5,
           0.5,
           0.5,
           0.5,
           0.5,
           0.5,
           0.5,
           0.5,
           0.5,
           0.5,
           0.5,
           0.5,
           0.5,
           0.5,
           0.5,
           0.5,
           0.5,
           0.5,
           0.5,
           0.5,
           0.5,
           0.5
          ]
         },
         "name": "",
         "parents": [
          "DEU/Resort Hotel/March",
          "DEU/Resort Hotel/February",
          "DEU/Resort Hotel/January",
          "DEU/Resort Hotel/November",
          "FRA/Resort Hotel/September",
          "DEU/Resort Hotel/December",
          "FRA/Resort Hotel/November",
          "FRA/Resort Hotel/January",
          "FRA/Resort Hotel/June",
          "DEU/Resort Hotel/September",
          "DEU/Resort Hotel/July",
          "DEU/Resort Hotel/October",
          "FRA/Resort Hotel/October",
          "FRA/Resort Hotel/March",
          "FRA/Resort Hotel/February",
          "DEU/Resort Hotel/April",
          "DEU/Resort Hotel/June",
          "ESP/Resort Hotel/January",
          "FRA/Resort Hotel/December",
          "ESP/Resort Hotel/November",
          "ESP/Resort Hotel/March",
          "FRA/Resort Hotel/April",
          "DEU/Resort Hotel/May",
          "FRA/Resort Hotel/July",
          "FRA/Resort Hotel/May",
          "DEU/Resort Hotel/August",
          "DEU/City Hotel/January",
          "GBR/City Hotel/January",
          "GBR/Resort Hotel/January",
          "ESP/Resort Hotel/December",
          "DEU/Resort Hotel/December",
          "ESP/Resort Hotel/February",
          "FRA/City Hotel/November",
          "GBR/Resort Hotel/December",
          "DEU/Resort Hotel/January",
          "ESP/Resort Hotel/May",
          "ESP/Resort Hotel/September",
          "DEU/Resort Hotel/August",
          "ESP/City Hotel/October",
          "FRA/Resort Hotel/August",
          "ESP/City Hotel/November",
          "GBR/Resort Hotel/November",
          "DEU/Resort Hotel/February",
          "GBR/Resort Hotel/February",
          "GBR/Resort Hotel/March",
          "GBR/City Hotel/December",
          "DEU/City Hotel/November",
          "DEU/City Hotel/February",
          "GBR/City Hotel/November",
          "ESP/City Hotel/September",
          "DEU/Resort Hotel/July",
          "FRA/Resort Hotel/June",
          "DEU/Resort Hotel/June",
          "DEU/City Hotel/December",
          "ESP/Resort Hotel/June",
          "DEU/City Hotel/September",
          "DEU/Resort Hotel/September",
          "FRA/City Hotel/January",
          "ESP/City Hotel/January",
          "GBR/City Hotel/December",
          "DEU/Resort Hotel/November",
          "ESP/City Hotel/February",
          "FRA/Resort Hotel/July",
          "GBR/City Hotel/October",
          "DEU/Resort Hotel/October",
          "FRA/City Hotel/December",
          "DEU/City Hotel/October",
          "GBR/Resort Hotel/July",
          "GBR/Resort Hotel/October",
          "ESP/City Hotel/May",
          "FRA/Resort Hotel/January",
          "ESP/Resort Hotel/October",
          "ESP/Resort Hotel/April",
          "DEU/City Hotel/June",
          "GBR/Resort Hotel/August",
          "GBR/City Hotel/February",
          "ESP/City Hotel/June",
          "GBR/Resort Hotel/April",
          "GBR/Resort Hotel/June",
          "FRA/Resort Hotel/February",
          "GBR/City Hotel/January",
          "FRA/City Hotel/September",
          "FRA/Resort Hotel/March",
          "GBR/City Hotel/September",
          "ESP/Resort Hotel/June",
          "FRA/Resort Hotel/October",
          "ESP/Resort Hotel/May",
          "DEU/City Hotel/March",
          "GBR/Resort Hotel/May",
          "GBR/Resort Hotel/September",
          "DEU/City Hotel/July",
          "FRA/Resort Hotel/December",
          "DEU/City Hotel/December",
          "FRA/City Hotel/February",
          "FRA/Resort Hotel/April",
          "FRA/City Hotel/March",
          "DEU/City Hotel/August",
          "FRA/Resort Hotel/May",
          "DEU/City Hotel/April",
          "FRA/City Hotel/October",
          "GBR/City Hotel/March",
          "ESP/City Hotel/March",
          "ESP/City Hotel/July",
          "DEU/City Hotel/January",
          "ESP/Resort Hotel/July",
          "ESP/City Hotel/June",
          "DEU/City Hotel/May",
          "FRA/Resort Hotel/August",
          "ESP/City Hotel/April",
          "DEU/Resort Hotel/March",
          "ESP/Resort Hotel/September",
          "FRA/Resort Hotel/September",
          "ESP/City Hotel/May",
          "FRA/City Hotel/June",
          "GBR/City Hotel/April",
          "ESP/City Hotel/November",
          "FRA/City Hotel/July",
          "DEU/City Hotel/November",
          "GBR/City Hotel/November",
          "FRA/Resort Hotel/November",
          "ESP/Resort Hotel/January",
          "ESP/City Hotel/April",
          "DEU/City Hotel/February",
          "GBR/City Hotel/June",
          "DEU/Resort Hotel/May",
          "ESP/City Hotel/December",
          "ESP/City Hotel/January",
          "FRA/City Hotel/May",
          "GBR/Resort Hotel/January",
          "PRT/Resort Hotel/January",
          "FRA/City Hotel/April",
          "ESP/Resort Hotel/November",
          "GBR/City Hotel/July",
          "ESP/Resort Hotel/October",
          "GBR/City Hotel/May",
          "GBR/City Hotel/August",
          "GBR/Resort Hotel/December",
          "GBR/City Hotel/February",
          "ESP/City Hotel/July",
          "ESP/Resort Hotel/April",
          "ESP/City Hotel/October",
          "ESP/City Hotel/August",
          "DEU/Resort Hotel/April",
          "ESP/Resort Hotel/August",
          "GBR/Resort Hotel/November",
          "FRA/City Hotel/January",
          "ESP/City Hotel/February",
          "ESP/City Hotel/March",
          "GBR/City Hotel/October",
          "FRA/City Hotel/August",
          "ESP/Resort Hotel/February",
          "ESP/Resort Hotel/March",
          "GBR/City Hotel/April",
          "GBR/City Hotel/March",
          "PRT/Resort Hotel/November",
          "ESP/City Hotel/September",
          "GBR/City Hotel/September",
          "ESP/Resort Hotel/December",
          "ESP/City Hotel/December",
          "ESP/Resort Hotel/July",
          "DEU/City Hotel/March",
          "FRA/City Hotel/December",
          "GBR/Resort Hotel/February",
          "PRT/Resort Hotel/September",
          "GBR/City Hotel/May",
          "GBR/Resort Hotel/August",
          "GBR/City Hotel/August",
          "DEU/City Hotel/September",
          "GBR/Resort Hotel/March",
          "GBR/City Hotel/June",
          "PRT/Resort Hotel/December",
          "DEU/City Hotel/April",
          "FRA/City Hotel/November",
          "GBR/Resort Hotel/July",
          "PRT/Resort Hotel/June",
          "ESP/Resort Hotel/August",
          "DEU/City Hotel/May",
          "FRA/City Hotel/September",
          "FRA/City Hotel/July",
          "GBR/City Hotel/July",
          "GBR/Resort Hotel/April",
          "FRA/City Hotel/February",
          "GBR/Resort Hotel/September",
          "PRT/Resort Hotel/May",
          "DEU/City Hotel/October",
          "PRT/Resort Hotel/October",
          "FRA/City Hotel/June",
          "GBR/Resort Hotel/June",
          "PRT/Resort Hotel/June",
          "PRT/Resort Hotel/March",
          "PRT/Resort Hotel/February",
          "DEU/City Hotel/June",
          "PRT/City Hotel/January",
          "DEU/City Hotel/July",
          "DEU/City Hotel/August",
          "PRT/City Hotel/December",
          "PRT/Resort Hotel/May",
          "PRT/Resort Hotel/October",
          "FRA/City Hotel/October",
          "ESP/City Hotel/August",
          "PRT/Resort Hotel/September",
          "PRT/City Hotel/April",
          "PRT/City Hotel/November",
          "PRT/Resort Hotel/April",
          "FRA/City Hotel/April",
          "FRA/City Hotel/March",
          "PRT/Resort Hotel/April",
          "GBR/Resort Hotel/May",
          "FRA/City Hotel/May",
          "PRT/Resort Hotel/November",
          "FRA/City Hotel/August",
          "PRT/City Hotel/January",
          "PRT/City Hotel/February",
          "GBR/Resort Hotel/October",
          "PRT/City Hotel/March",
          "PRT/City Hotel/May",
          "PRT/Resort Hotel/July",
          "PRT/Resort Hotel/December",
          "PRT/City Hotel/June",
          "PRT/Resort Hotel/January",
          "PRT/City Hotel/December",
          "PRT/Resort Hotel/March",
          "PRT/Resort Hotel/August",
          "PRT/City Hotel/August",
          "PRT/Resort Hotel/February",
          "PRT/City Hotel/February",
          "PRT/Resort Hotel/July",
          "PRT/City Hotel/November",
          "PRT/City Hotel/July",
          "PRT/City Hotel/September",
          "PRT/City Hotel/October",
          "PRT/City Hotel/March",
          "PRT/Resort Hotel/August",
          "PRT/City Hotel/July",
          "PRT/City Hotel/August",
          "PRT/City Hotel/April",
          "PRT/City Hotel/May",
          "PRT/City Hotel/June",
          "PRT/City Hotel/October",
          "PRT/City Hotel/September",
          "DEU/City Hotel",
          "ESP/City Hotel",
          "FRA/City Hotel",
          "GBR/City Hotel",
          "PRT/City Hotel",
          "DEU/Resort Hotel",
          "ESP/Resort Hotel",
          "FRA/Resort Hotel",
          "GBR/Resort Hotel",
          "PRT/Resort Hotel",
          "DEU/City Hotel",
          "ESP/City Hotel",
          "FRA/City Hotel",
          "GBR/City Hotel",
          "PRT/City Hotel",
          "DEU/Resort Hotel",
          "ESP/Resort Hotel",
          "FRA/Resort Hotel",
          "GBR/Resort Hotel",
          "PRT/Resort Hotel",
          "DEU/City Hotel",
          "ESP/City Hotel",
          "FRA/City Hotel",
          "GBR/City Hotel",
          "PRT/City Hotel",
          "DEU/Resort Hotel",
          "ESP/Resort Hotel",
          "FRA/Resort Hotel",
          "GBR/Resort Hotel",
          "PRT/Resort Hotel",
          "DEU/City Hotel",
          "ESP/City Hotel",
          "FRA/City Hotel",
          "GBR/City Hotel",
          "PRT/City Hotel",
          "DEU/Resort Hotel",
          "ESP/Resort Hotel",
          "FRA/Resort Hotel",
          "GBR/Resort Hotel",
          "PRT/Resort Hotel",
          "DEU/City Hotel",
          "ESP/City Hotel",
          "FRA/City Hotel",
          "GBR/City Hotel",
          "PRT/City Hotel",
          "DEU/Resort Hotel",
          "ESP/Resort Hotel",
          "FRA/Resort Hotel",
          "GBR/Resort Hotel",
          "PRT/Resort Hotel",
          "DEU/City Hotel",
          "ESP/City Hotel",
          "FRA/City Hotel",
          "GBR/City Hotel",
          "PRT/City Hotel",
          "DEU/Resort Hotel",
          "ESP/Resort Hotel",
          "FRA/Resort Hotel",
          "GBR/Resort Hotel",
          "PRT/Resort Hotel",
          "DEU/City Hotel",
          "ESP/City Hotel",
          "FRA/City Hotel",
          "GBR/City Hotel",
          "PRT/City Hotel",
          "DEU/Resort Hotel",
          "ESP/Resort Hotel",
          "FRA/Resort Hotel",
          "GBR/Resort Hotel",
          "PRT/Resort Hotel",
          "DEU/City Hotel",
          "ESP/City Hotel",
          "FRA/City Hotel",
          "GBR/City Hotel",
          "PRT/City Hotel",
          "DEU/Resort Hotel",
          "ESP/Resort Hotel",
          "FRA/Resort Hotel",
          "GBR/Resort Hotel",
          "PRT/Resort Hotel",
          "DEU/City Hotel",
          "ESP/City Hotel",
          "FRA/City Hotel",
          "GBR/City Hotel",
          "PRT/City Hotel",
          "DEU/Resort Hotel",
          "ESP/Resort Hotel",
          "FRA/Resort Hotel",
          "GBR/Resort Hotel",
          "PRT/Resort Hotel",
          "DEU/City Hotel",
          "ESP/City Hotel",
          "FRA/City Hotel",
          "GBR/City Hotel",
          "PRT/City Hotel",
          "DEU/Resort Hotel",
          "ESP/Resort Hotel",
          "FRA/Resort Hotel",
          "GBR/Resort Hotel",
          "PRT/Resort Hotel",
          "DEU/City Hotel",
          "ESP/City Hotel",
          "FRA/City Hotel",
          "GBR/City Hotel",
          "PRT/City Hotel",
          "DEU/Resort Hotel",
          "ESP/Resort Hotel",
          "FRA/Resort Hotel",
          "GBR/Resort Hotel",
          "PRT/Resort Hotel",
          "DEU/City Hotel",
          "ESP/City Hotel",
          "FRA/City Hotel",
          "GBR/City Hotel",
          "PRT/City Hotel",
          "DEU/Resort Hotel",
          "ESP/Resort Hotel",
          "FRA/Resort Hotel",
          "GBR/Resort Hotel",
          "PRT/Resort Hotel",
          "DEU",
          "ESP",
          "FRA",
          "GBR",
          "PRT",
          "DEU",
          "ESP",
          "FRA",
          "GBR",
          "PRT",
          "",
          "",
          "",
          "",
          ""
         ],
         "type": "sunburst",
         "values": [
          1,
          1,
          1,
          1,
          1,
          1,
          1,
          1,
          1,
          1,
          1,
          1,
          1,
          1,
          1,
          1,
          1,
          1,
          1,
          1,
          1,
          1,
          1,
          1,
          1,
          1,
          1,
          1,
          1,
          1,
          1,
          1,
          1,
          1,
          1,
          1,
          1,
          1,
          1,
          1,
          1,
          1,
          1,
          1,
          1,
          1,
          1,
          1,
          1,
          1,
          1,
          1,
          1,
          1,
          1,
          1,
          1,
          1,
          1,
          1,
          1,
          1,
          1,
          1,
          1,
          1,
          1,
          1,
          1,
          1,
          1,
          1,
          1,
          1,
          1,
          1,
          1,
          1,
          1,
          1,
          1,
          1,
          1,
          1,
          1,
          1,
          1,
          1,
          1,
          1,
          1,
          1,
          1,
          1,
          1,
          1,
          1,
          1,
          1,
          1,
          1,
          1,
          1,
          1,
          1,
          1,
          1,
          1,
          1,
          1,
          1,
          1,
          1,
          1,
          1,
          1,
          1,
          1,
          1,
          1,
          1,
          1,
          1,
          1,
          1,
          1,
          1,
          1,
          1,
          1,
          1,
          1,
          1,
          1,
          1,
          1,
          1,
          1,
          1,
          1,
          1,
          1,
          1,
          1,
          1,
          1,
          1,
          1,
          1,
          1,
          1,
          1,
          1,
          1,
          1,
          1,
          1,
          1,
          1,
          1,
          1,
          1,
          1,
          1,
          1,
          1,
          1,
          1,
          1,
          1,
          1,
          1,
          1,
          1,
          1,
          1,
          1,
          1,
          1,
          1,
          1,
          1,
          1,
          1,
          1,
          1,
          1,
          1,
          1,
          1,
          1,
          1,
          1,
          1,
          1,
          1,
          1,
          1,
          1,
          1,
          1,
          1,
          1,
          1,
          1,
          1,
          1,
          1,
          1,
          1,
          1,
          1,
          1,
          1,
          1,
          1,
          1,
          1,
          1,
          1,
          1,
          1,
          1,
          1,
          1,
          1,
          1,
          1,
          1,
          1,
          1,
          1,
          1,
          1,
          1,
          1,
          1,
          1,
          1,
          1,
          2,
          2,
          2,
          2,
          2,
          2,
          2,
          2,
          2,
          2,
          2,
          2,
          2,
          2,
          2,
          2,
          2,
          2,
          2,
          2,
          2,
          2,
          2,
          2,
          2,
          2,
          2,
          2,
          2,
          2,
          2,
          2,
          2,
          2,
          2,
          2,
          2,
          2,
          2,
          2,
          2,
          2,
          2,
          2,
          2,
          2,
          2,
          2,
          2,
          2,
          2,
          2,
          2,
          2,
          2,
          2,
          2,
          2,
          2,
          2,
          2,
          2,
          2,
          2,
          2,
          2,
          2,
          2,
          2,
          2,
          2,
          2,
          2,
          2,
          2,
          2,
          2,
          2,
          2,
          2,
          2,
          2,
          2,
          2,
          2,
          2,
          2,
          2,
          2,
          2,
          2,
          2,
          2,
          2,
          2,
          2,
          2,
          2,
          2,
          2,
          2,
          2,
          2,
          2,
          2,
          2,
          2,
          2,
          2,
          2,
          2,
          2,
          2,
          2,
          2,
          2,
          2,
          2,
          2,
          2,
          24,
          24,
          24,
          24,
          24,
          24,
          24,
          24,
          24,
          24,
          48,
          48,
          48,
          48,
          48
         ]
        }
       ],
       "layout": {
        "coloraxis": {
         "colorbar": {
          "title": {
           "text": "is_canceled"
          }
         },
         "colorscale": [
          [
           0,
           "#0d0887"
          ],
          [
           0.1111111111111111,
           "#46039f"
          ],
          [
           0.2222222222222222,
           "#7201a8"
          ],
          [
           0.3333333333333333,
           "#9c179e"
          ],
          [
           0.4444444444444444,
           "#bd3786"
          ],
          [
           0.5555555555555556,
           "#d8576b"
          ],
          [
           0.6666666666666666,
           "#ed7953"
          ],
          [
           0.7777777777777778,
           "#fb9f3a"
          ],
          [
           0.8888888888888888,
           "#fdca26"
          ],
          [
           1,
           "#f0f921"
          ]
         ]
        },
        "hovermode": false,
        "legend": {
         "tracegroupgap": 0
        },
        "margin": {
         "t": 60
        },
        "template": {
         "data": {
          "bar": [
           {
            "error_x": {
             "color": "#2a3f5f"
            },
            "error_y": {
             "color": "#2a3f5f"
            },
            "marker": {
             "line": {
              "color": "#E5ECF6",
              "width": 0.5
             },
             "pattern": {
              "fillmode": "overlay",
              "size": 10,
              "solidity": 0.2
             }
            },
            "type": "bar"
           }
          ],
          "barpolar": [
           {
            "marker": {
             "line": {
              "color": "#E5ECF6",
              "width": 0.5
             },
             "pattern": {
              "fillmode": "overlay",
              "size": 10,
              "solidity": 0.2
             }
            },
            "type": "barpolar"
           }
          ],
          "carpet": [
           {
            "aaxis": {
             "endlinecolor": "#2a3f5f",
             "gridcolor": "white",
             "linecolor": "white",
             "minorgridcolor": "white",
             "startlinecolor": "#2a3f5f"
            },
            "baxis": {
             "endlinecolor": "#2a3f5f",
             "gridcolor": "white",
             "linecolor": "white",
             "minorgridcolor": "white",
             "startlinecolor": "#2a3f5f"
            },
            "type": "carpet"
           }
          ],
          "choropleth": [
           {
            "colorbar": {
             "outlinewidth": 0,
             "ticks": ""
            },
            "type": "choropleth"
           }
          ],
          "contour": [
           {
            "colorbar": {
             "outlinewidth": 0,
             "ticks": ""
            },
            "colorscale": [
             [
              0,
              "#0d0887"
             ],
             [
              0.1111111111111111,
              "#46039f"
             ],
             [
              0.2222222222222222,
              "#7201a8"
             ],
             [
              0.3333333333333333,
              "#9c179e"
             ],
             [
              0.4444444444444444,
              "#bd3786"
             ],
             [
              0.5555555555555556,
              "#d8576b"
             ],
             [
              0.6666666666666666,
              "#ed7953"
             ],
             [
              0.7777777777777778,
              "#fb9f3a"
             ],
             [
              0.8888888888888888,
              "#fdca26"
             ],
             [
              1,
              "#f0f921"
             ]
            ],
            "type": "contour"
           }
          ],
          "contourcarpet": [
           {
            "colorbar": {
             "outlinewidth": 0,
             "ticks": ""
            },
            "type": "contourcarpet"
           }
          ],
          "heatmap": [
           {
            "colorbar": {
             "outlinewidth": 0,
             "ticks": ""
            },
            "colorscale": [
             [
              0,
              "#0d0887"
             ],
             [
              0.1111111111111111,
              "#46039f"
             ],
             [
              0.2222222222222222,
              "#7201a8"
             ],
             [
              0.3333333333333333,
              "#9c179e"
             ],
             [
              0.4444444444444444,
              "#bd3786"
             ],
             [
              0.5555555555555556,
              "#d8576b"
             ],
             [
              0.6666666666666666,
              "#ed7953"
             ],
             [
              0.7777777777777778,
              "#fb9f3a"
             ],
             [
              0.8888888888888888,
              "#fdca26"
             ],
             [
              1,
              "#f0f921"
             ]
            ],
            "type": "heatmap"
           }
          ],
          "heatmapgl": [
           {
            "colorbar": {
             "outlinewidth": 0,
             "ticks": ""
            },
            "colorscale": [
             [
              0,
              "#0d0887"
             ],
             [
              0.1111111111111111,
              "#46039f"
             ],
             [
              0.2222222222222222,
              "#7201a8"
             ],
             [
              0.3333333333333333,
              "#9c179e"
             ],
             [
              0.4444444444444444,
              "#bd3786"
             ],
             [
              0.5555555555555556,
              "#d8576b"
             ],
             [
              0.6666666666666666,
              "#ed7953"
             ],
             [
              0.7777777777777778,
              "#fb9f3a"
             ],
             [
              0.8888888888888888,
              "#fdca26"
             ],
             [
              1,
              "#f0f921"
             ]
            ],
            "type": "heatmapgl"
           }
          ],
          "histogram": [
           {
            "marker": {
             "pattern": {
              "fillmode": "overlay",
              "size": 10,
              "solidity": 0.2
             }
            },
            "type": "histogram"
           }
          ],
          "histogram2d": [
           {
            "colorbar": {
             "outlinewidth": 0,
             "ticks": ""
            },
            "colorscale": [
             [
              0,
              "#0d0887"
             ],
             [
              0.1111111111111111,
              "#46039f"
             ],
             [
              0.2222222222222222,
              "#7201a8"
             ],
             [
              0.3333333333333333,
              "#9c179e"
             ],
             [
              0.4444444444444444,
              "#bd3786"
             ],
             [
              0.5555555555555556,
              "#d8576b"
             ],
             [
              0.6666666666666666,
              "#ed7953"
             ],
             [
              0.7777777777777778,
              "#fb9f3a"
             ],
             [
              0.8888888888888888,
              "#fdca26"
             ],
             [
              1,
              "#f0f921"
             ]
            ],
            "type": "histogram2d"
           }
          ],
          "histogram2dcontour": [
           {
            "colorbar": {
             "outlinewidth": 0,
             "ticks": ""
            },
            "colorscale": [
             [
              0,
              "#0d0887"
             ],
             [
              0.1111111111111111,
              "#46039f"
             ],
             [
              0.2222222222222222,
              "#7201a8"
             ],
             [
              0.3333333333333333,
              "#9c179e"
             ],
             [
              0.4444444444444444,
              "#bd3786"
             ],
             [
              0.5555555555555556,
              "#d8576b"
             ],
             [
              0.6666666666666666,
              "#ed7953"
             ],
             [
              0.7777777777777778,
              "#fb9f3a"
             ],
             [
              0.8888888888888888,
              "#fdca26"
             ],
             [
              1,
              "#f0f921"
             ]
            ],
            "type": "histogram2dcontour"
           }
          ],
          "mesh3d": [
           {
            "colorbar": {
             "outlinewidth": 0,
             "ticks": ""
            },
            "type": "mesh3d"
           }
          ],
          "parcoords": [
           {
            "line": {
             "colorbar": {
              "outlinewidth": 0,
              "ticks": ""
             }
            },
            "type": "parcoords"
           }
          ],
          "pie": [
           {
            "automargin": true,
            "type": "pie"
           }
          ],
          "scatter": [
           {
            "fillpattern": {
             "fillmode": "overlay",
             "size": 10,
             "solidity": 0.2
            },
            "type": "scatter"
           }
          ],
          "scatter3d": [
           {
            "line": {
             "colorbar": {
              "outlinewidth": 0,
              "ticks": ""
             }
            },
            "marker": {
             "colorbar": {
              "outlinewidth": 0,
              "ticks": ""
             }
            },
            "type": "scatter3d"
           }
          ],
          "scattercarpet": [
           {
            "marker": {
             "colorbar": {
              "outlinewidth": 0,
              "ticks": ""
             }
            },
            "type": "scattercarpet"
           }
          ],
          "scattergeo": [
           {
            "marker": {
             "colorbar": {
              "outlinewidth": 0,
              "ticks": ""
             }
            },
            "type": "scattergeo"
           }
          ],
          "scattergl": [
           {
            "marker": {
             "colorbar": {
              "outlinewidth": 0,
              "ticks": ""
             }
            },
            "type": "scattergl"
           }
          ],
          "scattermapbox": [
           {
            "marker": {
             "colorbar": {
              "outlinewidth": 0,
              "ticks": ""
             }
            },
            "type": "scattermapbox"
           }
          ],
          "scatterpolar": [
           {
            "marker": {
             "colorbar": {
              "outlinewidth": 0,
              "ticks": ""
             }
            },
            "type": "scatterpolar"
           }
          ],
          "scatterpolargl": [
           {
            "marker": {
             "colorbar": {
              "outlinewidth": 0,
              "ticks": ""
             }
            },
            "type": "scatterpolargl"
           }
          ],
          "scatterternary": [
           {
            "marker": {
             "colorbar": {
              "outlinewidth": 0,
              "ticks": ""
             }
            },
            "type": "scatterternary"
           }
          ],
          "surface": [
           {
            "colorbar": {
             "outlinewidth": 0,
             "ticks": ""
            },
            "colorscale": [
             [
              0,
              "#0d0887"
             ],
             [
              0.1111111111111111,
              "#46039f"
             ],
             [
              0.2222222222222222,
              "#7201a8"
             ],
             [
              0.3333333333333333,
              "#9c179e"
             ],
             [
              0.4444444444444444,
              "#bd3786"
             ],
             [
              0.5555555555555556,
              "#d8576b"
             ],
             [
              0.6666666666666666,
              "#ed7953"
             ],
             [
              0.7777777777777778,
              "#fb9f3a"
             ],
             [
              0.8888888888888888,
              "#fdca26"
             ],
             [
              1,
              "#f0f921"
             ]
            ],
            "type": "surface"
           }
          ],
          "table": [
           {
            "cells": {
             "fill": {
              "color": "#EBF0F8"
             },
             "line": {
              "color": "white"
             }
            },
            "header": {
             "fill": {
              "color": "#C8D4E3"
             },
             "line": {
              "color": "white"
             }
            },
            "type": "table"
           }
          ]
         },
         "layout": {
          "annotationdefaults": {
           "arrowcolor": "#2a3f5f",
           "arrowhead": 0,
           "arrowwidth": 1
          },
          "autotypenumbers": "strict",
          "coloraxis": {
           "colorbar": {
            "outlinewidth": 0,
            "ticks": ""
           }
          },
          "colorscale": {
           "diverging": [
            [
             0,
             "#8e0152"
            ],
            [
             0.1,
             "#c51b7d"
            ],
            [
             0.2,
             "#de77ae"
            ],
            [
             0.3,
             "#f1b6da"
            ],
            [
             0.4,
             "#fde0ef"
            ],
            [
             0.5,
             "#f7f7f7"
            ],
            [
             0.6,
             "#e6f5d0"
            ],
            [
             0.7,
             "#b8e186"
            ],
            [
             0.8,
             "#7fbc41"
            ],
            [
             0.9,
             "#4d9221"
            ],
            [
             1,
             "#276419"
            ]
           ],
           "sequential": [
            [
             0,
             "#0d0887"
            ],
            [
             0.1111111111111111,
             "#46039f"
            ],
            [
             0.2222222222222222,
             "#7201a8"
            ],
            [
             0.3333333333333333,
             "#9c179e"
            ],
            [
             0.4444444444444444,
             "#bd3786"
            ],
            [
             0.5555555555555556,
             "#d8576b"
            ],
            [
             0.6666666666666666,
             "#ed7953"
            ],
            [
             0.7777777777777778,
             "#fb9f3a"
            ],
            [
             0.8888888888888888,
             "#fdca26"
            ],
            [
             1,
             "#f0f921"
            ]
           ],
           "sequentialminus": [
            [
             0,
             "#0d0887"
            ],
            [
             0.1111111111111111,
             "#46039f"
            ],
            [
             0.2222222222222222,
             "#7201a8"
            ],
            [
             0.3333333333333333,
             "#9c179e"
            ],
            [
             0.4444444444444444,
             "#bd3786"
            ],
            [
             0.5555555555555556,
             "#d8576b"
            ],
            [
             0.6666666666666666,
             "#ed7953"
            ],
            [
             0.7777777777777778,
             "#fb9f3a"
            ],
            [
             0.8888888888888888,
             "#fdca26"
            ],
            [
             1,
             "#f0f921"
            ]
           ]
          },
          "colorway": [
           "#636efa",
           "#EF553B",
           "#00cc96",
           "#ab63fa",
           "#FFA15A",
           "#19d3f3",
           "#FF6692",
           "#B6E880",
           "#FF97FF",
           "#FECB52"
          ],
          "font": {
           "color": "#2a3f5f"
          },
          "geo": {
           "bgcolor": "white",
           "lakecolor": "white",
           "landcolor": "#E5ECF6",
           "showlakes": true,
           "showland": true,
           "subunitcolor": "white"
          },
          "hoverlabel": {
           "align": "left"
          },
          "hovermode": "closest",
          "mapbox": {
           "style": "light"
          },
          "paper_bgcolor": "white",
          "plot_bgcolor": "#E5ECF6",
          "polar": {
           "angularaxis": {
            "gridcolor": "white",
            "linecolor": "white",
            "ticks": ""
           },
           "bgcolor": "#E5ECF6",
           "radialaxis": {
            "gridcolor": "white",
            "linecolor": "white",
            "ticks": ""
           }
          },
          "scene": {
           "xaxis": {
            "backgroundcolor": "#E5ECF6",
            "gridcolor": "white",
            "gridwidth": 2,
            "linecolor": "white",
            "showbackground": true,
            "ticks": "",
            "zerolinecolor": "white"
           },
           "yaxis": {
            "backgroundcolor": "#E5ECF6",
            "gridcolor": "white",
            "gridwidth": 2,
            "linecolor": "white",
            "showbackground": true,
            "ticks": "",
            "zerolinecolor": "white"
           },
           "zaxis": {
            "backgroundcolor": "#E5ECF6",
            "gridcolor": "white",
            "gridwidth": 2,
            "linecolor": "white",
            "showbackground": true,
            "ticks": "",
            "zerolinecolor": "white"
           }
          },
          "shapedefaults": {
           "line": {
            "color": "#2a3f5f"
           }
          },
          "ternary": {
           "aaxis": {
            "gridcolor": "white",
            "linecolor": "white",
            "ticks": ""
           },
           "baxis": {
            "gridcolor": "white",
            "linecolor": "white",
            "ticks": ""
           },
           "bgcolor": "#E5ECF6",
           "caxis": {
            "gridcolor": "white",
            "linecolor": "white",
            "ticks": ""
           }
          },
          "title": {
           "x": 0.05
          },
          "xaxis": {
           "automargin": true,
           "gridcolor": "white",
           "linecolor": "white",
           "ticks": "",
           "title": {
            "standoff": 15
           },
           "zerolinecolor": "white",
           "zerolinewidth": 2
          },
          "yaxis": {
           "automargin": true,
           "gridcolor": "white",
           "linecolor": "white",
           "ticks": "",
           "title": {
            "standoff": 15
           },
           "zerolinecolor": "white",
           "zerolinewidth": 2
          }
         }
        }
       }
      },
      "image/png": "[encoded data removed]",
      "text/html": [
       "<div>                            <div id=\"869c2d95-df36-4367-a148-5b4d5440625a\" class=\"plotly-graph-div\" style=\"height:525px; width:100%;\"></div>            <script type=\"text/javascript\">                require([\"plotly\"], function(Plotly) {                    window.PLOTLYENV=window.PLOTLYENV || {};                                    if (document.getElementById(\"869c2d95-df36-4367-a148-5b4d5440625a\")) {                    Plotly.newPlot(                        \"869c2d95-df36-4367-a148-5b4d5440625a\",                        [{\"branchvalues\":\"total\",\"customdata\":[[1.0],[1.0],[1.0],[1.0],[1.0],[1.0],[1.0],[1.0],[1.0],[1.0],[1.0],[1.0],[1.0],[1.0],[1.0],[1.0],[1.0],[1.0],[1.0],[1.0],[1.0],[1.0],[1.0],[1.0],[1.0],[1.0],[1.0],[1.0],[1.0],[1.0],[0.0],[1.0],[1.0],[1.0],[0.0],[1.0],[1.0],[0.0],[1.0],[1.0],[1.0],[1.0],[0.0],[1.0],[1.0],[1.0],[1.0],[1.0],[1.0],[1.0],[0.0],[0.0],[0.0],[1.0],[1.0],[1.0],[0.0],[1.0],[1.0],[0.0],[0.0],[1.0],[0.0],[1.0],[0.0],[1.0],[1.0],[1.0],[1.0],[1.0],[0.0],[1.0],[1.0],[1.0],[1.0],[1.0],[1.0],[1.0],[1.0],[0.0],[0.0],[1.0],[0.0],[1.0],[0.0],[0.0],[0.0],[1.0],[1.0],[1.0],[1.0],[0.0],[0.0],[1.0],[0.0],[1.0],[1.0],[0.0],[1.0],[1.0],[1.0],[1.0],[1.0],[0.0],[1.0],[0.0],[1.0],[0.0],[1.0],[0.0],[0.0],[0.0],[0.0],[1.0],[1.0],[0.0],[1.0],[0.0],[0.0],[0.0],[0.0],[0.0],[0.0],[1.0],[0.0],[1.0],[0.0],[1.0],[0.0],[1.0],[1.0],[0.0],[1.0],[0.0],[1.0],[1.0],[0.0],[0.0],[0.0],[0.0],[0.0],[1.0],[0.0],[1.0],[0.0],[0.0],[0.0],[0.0],[0.0],[1.0],[0.0],[0.0],[0.0],[0.0],[1.0],[0.0],[0.0],[0.0],[0.0],[0.0],[0.0],[0.0],[0.0],[0.0],[0.0],[0.0],[0.0],[0.0],[0.0],[0.0],[1.0],[0.0],[0.0],[0.0],[0.0],[0.0],[0.0],[0.0],[0.0],[0.0],[0.0],[0.0],[0.0],[0.0],[0.0],[1.0],[0.0],[0.0],[1.0],[1.0],[1.0],[0.0],[0.0],[0.0],[0.0],[0.0],[1.0],[0.0],[0.0],[0.0],[1.0],[0.0],[0.0],[1.0],[0.0],[0.0],[0.0],[0.0],[0.0],[0.0],[0.0],[1.0],[0.0],[0.0],[0.0],[0.0],[1.0],[0.0],[0.0],[0.0],[1.0],[0.0],[1.0],[0.0],[0.0],[1.0],[0.0],[1.0],[0.0],[0.0],[0.0],[1.0],[0.0],[1.0],[1.0],[1.0],[1.0],[1.0],[1.0],[1.0],[0.5],[0.5],[0.5],[0.5],[0.5],[0.5],[0.5],[0.5],[0.5],[0.5],[0.5],[0.5],[0.5],[0.5],[0.5],[0.5],[0.5],[0.5],[0.5],[0.5],[0.5],[0.5],[0.5],[0.5],[0.5],[0.5],[0.5],[0.5],[0.5],[0.5],[0.5],[0.5],[0.5],[0.5],[0.5],[0.5],[0.5],[0.5],[0.5],[0.5],[0.5],[0.5],[0.5],[0.5],[0.5],[0.5],[0.5],[0.5],[0.5],[0.5],[0.5],[0.5],[0.5],[0.5],[0.5],[0.5],[0.5],[0.5],[0.5],[0.5],[0.5],[0.5],[0.5],[0.5],[0.5],[0.5],[0.5],[0.5],[0.5],[0.5],[0.5],[0.5],[0.5],[0.5],[0.5],[0.5],[0.5],[0.5],[0.5],[0.5],[0.5],[0.5],[0.5],[0.5],[0.5],[0.5],[0.5],[0.5],[0.5],[0.5],[0.5],[0.5],[0.5],[0.5],[0.5],[0.5],[0.5],[0.5],[0.5],[0.5],[0.5],[0.5],[0.5],[0.5],[0.5],[0.5],[0.5],[0.5],[0.5],[0.5],[0.5],[0.5],[0.5],[0.5],[0.5],[0.5],[0.5],[0.5],[0.5],[0.5],[0.5],[0.5],[0.5],[0.5],[0.5],[0.5],[0.5],[0.5],[0.5],[0.5],[0.5],[0.5],[0.5],[0.5],[0.5]],\"domain\":{\"x\":[0.0,1.0],\"y\":[0.0,1.0]},\"hovertemplate\":\"labels=%{label}\\u003cbr\\u003ecountryhotelarrival_date_monthcountis_canceledcount_path_copyarrival_date_month_path_copyhotel_path_copycountry_path_copy=%{value}\\u003cbr\\u003eparent=%{parent}\\u003cbr\\u003eid=%{id}\\u003cbr\\u003eis_canceled=%{color}\\u003cextra\\u003e\\u003c\\u002fextra\\u003e\",\"ids\":[\"DEU\\u002fResort Hotel\\u002fMarch\\u002f3\",\"DEU\\u002fResort Hotel\\u002fFebruary\\u002f6\",\"DEU\\u002fResort Hotel\\u002fJanuary\\u002f7\",\"DEU\\u002fResort Hotel\\u002fNovember\\u002f7\",\"FRA\\u002fResort Hotel\\u002fSeptember\\u002f7\",\"DEU\\u002fResort Hotel\\u002fDecember\\u002f8\",\"FRA\\u002fResort Hotel\\u002fNovember\\u002f8\",\"FRA\\u002fResort Hotel\\u002fJanuary\\u002f10\",\"FRA\\u002fResort Hotel\\u002fJune\\u002f10\",\"DEU\\u002fResort Hotel\\u002fSeptember\\u002f11\",\"DEU\\u002fResort Hotel\\u002fJuly\\u002f12\",\"DEU\\u002fResort Hotel\\u002fOctober\\u002f12\",\"FRA\\u002fResort Hotel\\u002fOctober\\u002f12\",\"FRA\\u002fResort Hotel\\u002fMarch\\u002f13\",\"FRA\\u002fResort Hotel\\u002fFebruary\\u002f15\",\"DEU\\u002fResort Hotel\\u002fApril\\u002f16\",\"DEU\\u002fResort Hotel\\u002fJune\\u002f16\",\"ESP\\u002fResort Hotel\\u002fJanuary\\u002f19\",\"FRA\\u002fResort Hotel\\u002fDecember\\u002f21\",\"ESP\\u002fResort Hotel\\u002fNovember\\u002f21\",\"ESP\\u002fResort Hotel\\u002fMarch\\u002f22\",\"FRA\\u002fResort Hotel\\u002fApril\\u002f23\",\"DEU\\u002fResort Hotel\\u002fMay\\u002f23\",\"FRA\\u002fResort Hotel\\u002fJuly\\u002f24\",\"FRA\\u002fResort Hotel\\u002fMay\\u002f24\",\"DEU\\u002fResort Hotel\\u002fAugust\\u002f25\",\"DEU\\u002fCity Hotel\\u002fJanuary\\u002f29\",\"GBR\\u002fCity Hotel\\u002fJanuary\\u002f30\",\"GBR\\u002fResort Hotel\\u002fJanuary\\u002f30\",\"ESP\\u002fResort Hotel\\u002fDecember\\u002f34\",\"DEU\\u002fResort Hotel\\u002fDecember\\u002f36\",\"ESP\\u002fResort Hotel\\u002fFebruary\\u002f36\",\"FRA\\u002fCity Hotel\\u002fNovember\\u002f36\",\"GBR\\u002fResort Hotel\\u002fDecember\\u002f37\",\"DEU\\u002fResort Hotel\\u002fJanuary\\u002f37\",\"ESP\\u002fResort Hotel\\u002fMay\\u002f38\",\"ESP\\u002fResort Hotel\\u002fSeptember\\u002f38\",\"DEU\\u002fResort Hotel\\u002fAugust\\u002f39\",\"ESP\\u002fCity Hotel\\u002fOctober\\u002f43\",\"FRA\\u002fResort Hotel\\u002fAugust\\u002f44\",\"ESP\\u002fCity Hotel\\u002fNovember\\u002f44\",\"GBR\\u002fResort Hotel\\u002fNovember\\u002f44\",\"DEU\\u002fResort Hotel\\u002fFebruary\\u002f46\",\"GBR\\u002fResort Hotel\\u002fFebruary\\u002f46\",\"GBR\\u002fResort Hotel\\u002fMarch\\u002f46\",\"GBR\\u002fCity Hotel\\u002fDecember\\u002f47\",\"DEU\\u002fCity Hotel\\u002fNovember\\u002f47\",\"DEU\\u002fCity Hotel\\u002fFebruary\\u002f49\",\"GBR\\u002fCity Hotel\\u002fNovember\\u002f49\",\"ESP\\u002fCity Hotel\\u002fSeptember\\u002f50\",\"DEU\\u002fResort Hotel\\u002fJuly\\u002f51\",\"FRA\\u002fResort Hotel\\u002fJune\\u002f54\",\"DEU\\u002fResort Hotel\\u002fJune\\u002f56\",\"DEU\\u002fCity Hotel\\u002fDecember\\u002f59\",\"ESP\\u002fResort Hotel\\u002fJune\\u002f61\",\"DEU\\u002fCity Hotel\\u002fSeptember\\u002f61\",\"DEU\\u002fResort Hotel\\u002fSeptember\\u002f63\",\"FRA\\u002fCity Hotel\\u002fJanuary\\u002f67\",\"ESP\\u002fCity Hotel\\u002fJanuary\\u002f69\",\"GBR\\u002fCity Hotel\\u002fDecember\\u002f70\",\"DEU\\u002fResort Hotel\\u002fNovember\\u002f70\",\"ESP\\u002fCity Hotel\\u002fFebruary\\u002f71\",\"FRA\\u002fResort Hotel\\u002fJuly\\u002f71\",\"GBR\\u002fCity Hotel\\u002fOctober\\u002f71\",\"DEU\\u002fResort Hotel\\u002fOctober\\u002f71\",\"FRA\\u002fCity Hotel\\u002fDecember\\u002f73\",\"DEU\\u002fCity Hotel\\u002fOctober\\u002f73\",\"GBR\\u002fResort Hotel\\u002fJuly\\u002f74\",\"GBR\\u002fResort Hotel\\u002fOctober\\u002f77\",\"ESP\\u002fCity Hotel\\u002fMay\\u002f79\",\"FRA\\u002fResort Hotel\\u002fJanuary\\u002f81\",\"ESP\\u002fResort Hotel\\u002fOctober\\u002f88\",\"ESP\\u002fResort Hotel\\u002fApril\\u002f95\",\"DEU\\u002fCity Hotel\\u002fJune\\u002f96\",\"GBR\\u002fResort Hotel\\u002fAugust\\u002f97\",\"GBR\\u002fCity Hotel\\u002fFebruary\\u002f97\",\"ESP\\u002fCity Hotel\\u002fJune\\u002f99\",\"GBR\\u002fResort Hotel\\u002fApril\\u002f100\",\"GBR\\u002fResort Hotel\\u002fJune\\u002f102\",\"FRA\\u002fResort Hotel\\u002fFebruary\\u002f105\",\"GBR\\u002fCity Hotel\\u002fJanuary\\u002f105\",\"FRA\\u002fCity Hotel\\u002fSeptember\\u002f108\",\"FRA\\u002fResort Hotel\\u002fMarch\\u002f111\",\"GBR\\u002fCity Hotel\\u002fSeptember\\u002f112\",\"ESP\\u002fResort Hotel\\u002fJune\\u002f113\",\"FRA\\u002fResort Hotel\\u002fOctober\\u002f113\",\"ESP\\u002fResort Hotel\\u002fMay\\u002f114\",\"DEU\\u002fCity Hotel\\u002fMarch\\u002f116\",\"GBR\\u002fResort Hotel\\u002fMay\\u002f119\",\"GBR\\u002fResort Hotel\\u002fSeptember\\u002f119\",\"DEU\\u002fCity Hotel\\u002fJuly\\u002f123\",\"FRA\\u002fResort Hotel\\u002fDecember\\u002f124\",\"DEU\\u002fCity Hotel\\u002fDecember\\u002f125\",\"FRA\\u002fCity Hotel\\u002fFebruary\\u002f127\",\"FRA\\u002fResort Hotel\\u002fApril\\u002f129\",\"FRA\\u002fCity Hotel\\u002fMarch\\u002f135\",\"DEU\\u002fCity Hotel\\u002fAugust\\u002f137\",\"FRA\\u002fResort Hotel\\u002fMay\\u002f137\",\"DEU\\u002fCity Hotel\\u002fApril\\u002f138\",\"FRA\\u002fCity Hotel\\u002fOctober\\u002f138\",\"GBR\\u002fCity Hotel\\u002fMarch\\u002f139\",\"ESP\\u002fCity Hotel\\u002fMarch\\u002f141\",\"ESP\\u002fCity Hotel\\u002fJuly\\u002f142\",\"DEU\\u002fCity Hotel\\u002fJanuary\\u002f143\",\"ESP\\u002fResort Hotel\\u002fJuly\\u002f143\",\"ESP\\u002fCity Hotel\\u002fJune\\u002f144\",\"DEU\\u002fCity Hotel\\u002fMay\\u002f144\",\"FRA\\u002fResort Hotel\\u002fAugust\\u002f151\",\"ESP\\u002fCity Hotel\\u002fApril\\u002f153\",\"DEU\\u002fResort Hotel\\u002fMarch\\u002f154\",\"ESP\\u002fResort Hotel\\u002fSeptember\\u002f154\",\"FRA\\u002fResort Hotel\\u002fSeptember\\u002f155\",\"ESP\\u002fCity Hotel\\u002fMay\\u002f160\",\"FRA\\u002fCity Hotel\\u002fJune\\u002f162\",\"GBR\\u002fCity Hotel\\u002fApril\\u002f164\",\"ESP\\u002fCity Hotel\\u002fNovember\\u002f165\",\"FRA\\u002fCity Hotel\\u002fJuly\\u002f168\",\"DEU\\u002fCity Hotel\\u002fNovember\\u002f168\",\"GBR\\u002fCity Hotel\\u002fNovember\\u002f169\",\"FRA\\u002fResort Hotel\\u002fNovember\\u002f169\",\"ESP\\u002fResort Hotel\\u002fJanuary\\u002f178\",\"ESP\\u002fCity Hotel\\u002fApril\\u002f185\",\"DEU\\u002fCity Hotel\\u002fFebruary\\u002f187\",\"GBR\\u002fCity Hotel\\u002fJune\\u002f187\",\"DEU\\u002fResort Hotel\\u002fMay\\u002f188\",\"ESP\\u002fCity Hotel\\u002fDecember\\u002f190\",\"ESP\\u002fCity Hotel\\u002fJanuary\\u002f200\",\"FRA\\u002fCity Hotel\\u002fMay\\u002f200\",\"GBR\\u002fResort Hotel\\u002fJanuary\\u002f202\",\"PRT\\u002fResort Hotel\\u002fJanuary\\u002f205\",\"FRA\\u002fCity Hotel\\u002fApril\\u002f210\",\"ESP\\u002fResort Hotel\\u002fNovember\\u002f212\",\"GBR\\u002fCity Hotel\\u002fJuly\\u002f216\",\"ESP\\u002fResort Hotel\\u002fOctober\\u002f218\",\"GBR\\u002fCity Hotel\\u002fMay\\u002f223\",\"GBR\\u002fCity Hotel\\u002fAugust\\u002f227\",\"GBR\\u002fResort Hotel\\u002fDecember\\u002f227\",\"GBR\\u002fCity Hotel\\u002fFebruary\\u002f227\",\"ESP\\u002fCity Hotel\\u002fJuly\\u002f235\",\"ESP\\u002fResort Hotel\\u002fApril\\u002f237\",\"ESP\\u002fCity Hotel\\u002fOctober\\u002f241\",\"ESP\\u002fCity Hotel\\u002fAugust\\u002f245\",\"DEU\\u002fResort Hotel\\u002fApril\\u002f246\",\"ESP\\u002fResort Hotel\\u002fAugust\\u002f256\",\"GBR\\u002fResort Hotel\\u002fNovember\\u002f258\",\"FRA\\u002fCity Hotel\\u002fJanuary\\u002f261\",\"ESP\\u002fCity Hotel\\u002fFebruary\\u002f285\",\"ESP\\u002fCity Hotel\\u002fMarch\\u002f288\",\"GBR\\u002fCity Hotel\\u002fOctober\\u002f294\",\"FRA\\u002fCity Hotel\\u002fAugust\\u002f299\",\"ESP\\u002fResort Hotel\\u002fFebruary\\u002f300\",\"ESP\\u002fResort Hotel\\u002fMarch\\u002f310\",\"GBR\\u002fCity Hotel\\u002fApril\\u002f328\",\"GBR\\u002fCity Hotel\\u002fMarch\\u002f334\",\"PRT\\u002fResort Hotel\\u002fNovember\\u002f334\",\"ESP\\u002fCity Hotel\\u002fSeptember\\u002f336\",\"GBR\\u002fCity Hotel\\u002fSeptember\\u002f337\",\"ESP\\u002fResort Hotel\\u002fDecember\\u002f352\",\"ESP\\u002fCity Hotel\\u002fDecember\\u002f359\",\"ESP\\u002fResort Hotel\\u002fJuly\\u002f401\",\"DEU\\u002fCity Hotel\\u002fMarch\\u002f410\",\"FRA\\u002fCity Hotel\\u002fDecember\\u002f415\",\"GBR\\u002fResort Hotel\\u002fFebruary\\u002f423\",\"PRT\\u002fResort Hotel\\u002fSeptember\\u002f430\",\"GBR\\u002fCity Hotel\\u002fMay\\u002f432\",\"GBR\\u002fResort Hotel\\u002fAugust\\u002f433\",\"GBR\\u002fCity Hotel\\u002fAugust\\u002f444\",\"DEU\\u002fCity Hotel\\u002fSeptember\\u002f447\",\"GBR\\u002fResort Hotel\\u002fMarch\\u002f469\",\"GBR\\u002fCity Hotel\\u002fJune\\u002f477\",\"PRT\\u002fResort Hotel\\u002fDecember\\u002f483\",\"DEU\\u002fCity Hotel\\u002fApril\\u002f493\",\"FRA\\u002fCity Hotel\\u002fNovember\\u002f500\",\"GBR\\u002fResort Hotel\\u002fJuly\\u002f510\",\"PRT\\u002fResort Hotel\\u002fJune\\u002f514\",\"ESP\\u002fResort Hotel\\u002fAugust\\u002f517\",\"DEU\\u002fCity Hotel\\u002fMay\\u002f518\",\"FRA\\u002fCity Hotel\\u002fSeptember\\u002f519\",\"FRA\\u002fCity Hotel\\u002fJuly\\u002f520\",\"GBR\\u002fCity Hotel\\u002fJuly\\u002f536\",\"GBR\\u002fResort Hotel\\u002fApril\\u002f555\",\"FRA\\u002fCity Hotel\\u002fFebruary\\u002f564\",\"GBR\\u002fResort Hotel\\u002fSeptember\\u002f568\",\"PRT\\u002fResort Hotel\\u002fMay\\u002f574\",\"DEU\\u002fCity Hotel\\u002fOctober\\u002f584\",\"PRT\\u002fResort Hotel\\u002fOctober\\u002f585\",\"FRA\\u002fCity Hotel\\u002fJune\\u002f590\",\"GBR\\u002fResort Hotel\\u002fJune\\u002f612\",\"PRT\\u002fResort Hotel\\u002fJune\\u002f623\",\"PRT\\u002fResort Hotel\\u002fMarch\\u002f623\",\"PRT\\u002fResort Hotel\\u002fFebruary\\u002f625\",\"DEU\\u002fCity Hotel\\u002fJune\\u002f633\",\"PRT\\u002fCity Hotel\\u002fJanuary\\u002f644\",\"DEU\\u002fCity Hotel\\u002fJuly\\u002f646\",\"DEU\\u002fCity Hotel\\u002fAugust\\u002f658\",\"PRT\\u002fCity Hotel\\u002fDecember\\u002f660\",\"PRT\\u002fResort Hotel\\u002fMay\\u002f660\",\"PRT\\u002fResort Hotel\\u002fOctober\\u002f682\",\"FRA\\u002fCity Hotel\\u002fOctober\\u002f685\",\"ESP\\u002fCity Hotel\\u002fAugust\\u002f687\",\"PRT\\u002fResort Hotel\\u002fSeptember\\u002f696\",\"PRT\\u002fCity Hotel\\u002fApril\\u002f702\",\"PRT\\u002fCity Hotel\\u002fNovember\\u002f704\",\"PRT\\u002fResort Hotel\\u002fApril\\u002f708\",\"FRA\\u002fCity Hotel\\u002fApril\\u002f712\",\"FRA\\u002fCity Hotel\\u002fMarch\\u002f714\",\"PRT\\u002fResort Hotel\\u002fApril\\u002f768\",\"GBR\\u002fResort Hotel\\u002fMay\\u002f783\",\"FRA\\u002fCity Hotel\\u002fMay\\u002f786\",\"PRT\\u002fResort Hotel\\u002fNovember\\u002f807\",\"FRA\\u002fCity Hotel\\u002fAugust\\u002f815\",\"PRT\\u002fCity Hotel\\u002fJanuary\\u002f857\",\"PRT\\u002fCity Hotel\\u002fFebruary\\u002f870\",\"GBR\\u002fResort Hotel\\u002fOctober\\u002f883\",\"PRT\\u002fCity Hotel\\u002fMarch\\u002f888\",\"PRT\\u002fCity Hotel\\u002fMay\\u002f896\",\"PRT\\u002fResort Hotel\\u002fJuly\\u002f911\",\"PRT\\u002fResort Hotel\\u002fDecember\\u002f952\",\"PRT\\u002fCity Hotel\\u002fJune\\u002f955\",\"PRT\\u002fResort Hotel\\u002fJanuary\\u002f956\",\"PRT\\u002fCity Hotel\\u002fDecember\\u002f963\",\"PRT\\u002fResort Hotel\\u002fMarch\\u002f983\",\"PRT\\u002fResort Hotel\\u002fAugust\\u002f985\",\"PRT\\u002fCity Hotel\\u002fAugust\\u002f987\",\"PRT\\u002fResort Hotel\\u002fFebruary\\u002f1074\",\"PRT\\u002fCity Hotel\\u002fFebruary\\u002f1097\",\"PRT\\u002fResort Hotel\\u002fJuly\\u002f1098\",\"PRT\\u002fCity Hotel\\u002fNovember\\u002f1171\",\"PRT\\u002fCity Hotel\\u002fJuly\\u002f1178\",\"PRT\\u002fCity Hotel\\u002fSeptember\\u002f1196\",\"PRT\\u002fCity Hotel\\u002fOctober\\u002f1199\",\"PRT\\u002fCity Hotel\\u002fMarch\\u002f1232\",\"PRT\\u002fResort Hotel\\u002fAugust\\u002f1354\",\"PRT\\u002fCity Hotel\\u002fJuly\\u002f1718\",\"PRT\\u002fCity Hotel\\u002fAugust\\u002f1828\",\"PRT\\u002fCity Hotel\\u002fApril\\u002f1856\",\"PRT\\u002fCity Hotel\\u002fMay\\u002f2187\",\"PRT\\u002fCity Hotel\\u002fJune\\u002f2283\",\"PRT\\u002fCity Hotel\\u002fOctober\\u002f2442\",\"PRT\\u002fCity Hotel\\u002fSeptember\\u002f2447\",\"DEU\\u002fCity Hotel\\u002fApril\",\"ESP\\u002fCity Hotel\\u002fApril\",\"FRA\\u002fCity Hotel\\u002fApril\",\"GBR\\u002fCity Hotel\\u002fApril\",\"PRT\\u002fCity Hotel\\u002fApril\",\"DEU\\u002fResort Hotel\\u002fApril\",\"ESP\\u002fResort Hotel\\u002fApril\",\"FRA\\u002fResort Hotel\\u002fApril\",\"GBR\\u002fResort Hotel\\u002fApril\",\"PRT\\u002fResort Hotel\\u002fApril\",\"DEU\\u002fCity Hotel\\u002fAugust\",\"ESP\\u002fCity Hotel\\u002fAugust\",\"FRA\\u002fCity Hotel\\u002fAugust\",\"GBR\\u002fCity Hotel\\u002fAugust\",\"PRT\\u002fCity Hotel\\u002fAugust\",\"DEU\\u002fResort Hotel\\u002fAugust\",\"ESP\\u002fResort Hotel\\u002fAugust\",\"FRA\\u002fResort Hotel\\u002fAugust\",\"GBR\\u002fResort Hotel\\u002fAugust\",\"PRT\\u002fResort Hotel\\u002fAugust\",\"DEU\\u002fCity Hotel\\u002fDecember\",\"ESP\\u002fCity Hotel\\u002fDecember\",\"FRA\\u002fCity Hotel\\u002fDecember\",\"GBR\\u002fCity Hotel\\u002fDecember\",\"PRT\\u002fCity Hotel\\u002fDecember\",\"DEU\\u002fResort Hotel\\u002fDecember\",\"ESP\\u002fResort Hotel\\u002fDecember\",\"FRA\\u002fResort Hotel\\u002fDecember\",\"GBR\\u002fResort Hotel\\u002fDecember\",\"PRT\\u002fResort Hotel\\u002fDecember\",\"DEU\\u002fCity Hotel\\u002fFebruary\",\"ESP\\u002fCity Hotel\\u002fFebruary\",\"FRA\\u002fCity Hotel\\u002fFebruary\",\"GBR\\u002fCity Hotel\\u002fFebruary\",\"PRT\\u002fCity Hotel\\u002fFebruary\",\"DEU\\u002fResort Hotel\\u002fFebruary\",\"ESP\\u002fResort Hotel\\u002fFebruary\",\"FRA\\u002fResort Hotel\\u002fFebruary\",\"GBR\\u002fResort Hotel\\u002fFebruary\",\"PRT\\u002fResort Hotel\\u002fFebruary\",\"DEU\\u002fCity Hotel\\u002fJanuary\",\"ESP\\u002fCity Hotel\\u002fJanuary\",\"FRA\\u002fCity Hotel\\u002fJanuary\",\"GBR\\u002fCity Hotel\\u002fJanuary\",\"PRT\\u002fCity Hotel\\u002fJanuary\",\"DEU\\u002fResort Hotel\\u002fJanuary\",\"ESP\\u002fResort Hotel\\u002fJanuary\",\"FRA\\u002fResort Hotel\\u002fJanuary\",\"GBR\\u002fResort Hotel\\u002fJanuary\",\"PRT\\u002fResort Hotel\\u002fJanuary\",\"DEU\\u002fCity Hotel\\u002fJuly\",\"ESP\\u002fCity Hotel\\u002fJuly\",\"FRA\\u002fCity Hotel\\u002fJuly\",\"GBR\\u002fCity Hotel\\u002fJuly\",\"PRT\\u002fCity Hotel\\u002fJuly\",\"DEU\\u002fResort Hotel\\u002fJuly\",\"ESP\\u002fResort Hotel\\u002fJuly\",\"FRA\\u002fResort Hotel\\u002fJuly\",\"GBR\\u002fResort Hotel\\u002fJuly\",\"PRT\\u002fResort Hotel\\u002fJuly\",\"DEU\\u002fCity Hotel\\u002fJune\",\"ESP\\u002fCity Hotel\\u002fJune\",\"FRA\\u002fCity Hotel\\u002fJune\",\"GBR\\u002fCity Hotel\\u002fJune\",\"PRT\\u002fCity Hotel\\u002fJune\",\"DEU\\u002fResort Hotel\\u002fJune\",\"ESP\\u002fResort Hotel\\u002fJune\",\"FRA\\u002fResort Hotel\\u002fJune\",\"GBR\\u002fResort Hotel\\u002fJune\",\"PRT\\u002fResort Hotel\\u002fJune\",\"DEU\\u002fCity Hotel\\u002fMarch\",\"ESP\\u002fCity Hotel\\u002fMarch\",\"FRA\\u002fCity Hotel\\u002fMarch\",\"GBR\\u002fCity Hotel\\u002fMarch\",\"PRT\\u002fCity Hotel\\u002fMarch\",\"DEU\\u002fResort Hotel\\u002fMarch\",\"ESP\\u002fResort Hotel\\u002fMarch\",\"FRA\\u002fResort Hotel\\u002fMarch\",\"GBR\\u002fResort Hotel\\u002fMarch\",\"PRT\\u002fResort Hotel\\u002fMarch\",\"DEU\\u002fCity Hotel\\u002fMay\",\"ESP\\u002fCity Hotel\\u002fMay\",\"FRA\\u002fCity Hotel\\u002fMay\",\"GBR\\u002fCity Hotel\\u002fMay\",\"PRT\\u002fCity Hotel\\u002fMay\",\"DEU\\u002fResort Hotel\\u002fMay\",\"ESP\\u002fResort Hotel\\u002fMay\",\"FRA\\u002fResort Hotel\\u002fMay\",\"GBR\\u002fResort Hotel\\u002fMay\",\"PRT\\u002fResort Hotel\\u002fMay\",\"DEU\\u002fCity Hotel\\u002fNovember\",\"ESP\\u002fCity Hotel\\u002fNovember\",\"FRA\\u002fCity Hotel\\u002fNovember\",\"GBR\\u002fCity Hotel\\u002fNovember\",\"PRT\\u002fCity Hotel\\u002fNovember\",\"DEU\\u002fResort Hotel\\u002fNovember\",\"ESP\\u002fResort Hotel\\u002fNovember\",\"FRA\\u002fResort Hotel\\u002fNovember\",\"GBR\\u002fResort Hotel\\u002fNovember\",\"PRT\\u002fResort Hotel\\u002fNovember\",\"DEU\\u002fCity Hotel\\u002fOctober\",\"ESP\\u002fCity Hotel\\u002fOctober\",\"FRA\\u002fCity Hotel\\u002fOctober\",\"GBR\\u002fCity Hotel\\u002fOctober\",\"PRT\\u002fCity Hotel\\u002fOctober\",\"DEU\\u002fResort Hotel\\u002fOctober\",\"ESP\\u002fResort Hotel\\u002fOctober\",\"FRA\\u002fResort Hotel\\u002fOctober\",\"GBR\\u002fResort Hotel\\u002fOctober\",\"PRT\\u002fResort Hotel\\u002fOctober\",\"DEU\\u002fCity Hotel\\u002fSeptember\",\"ESP\\u002fCity Hotel\\u002fSeptember\",\"FRA\\u002fCity Hotel\\u002fSeptember\",\"GBR\\u002fCity Hotel\\u002fSeptember\",\"PRT\\u002fCity Hotel\\u002fSeptember\",\"DEU\\u002fResort Hotel\\u002fSeptember\",\"ESP\\u002fResort Hotel\\u002fSeptember\",\"FRA\\u002fResort Hotel\\u002fSeptember\",\"GBR\\u002fResort Hotel\\u002fSeptember\",\"PRT\\u002fResort Hotel\\u002fSeptember\",\"DEU\\u002fCity Hotel\",\"ESP\\u002fCity Hotel\",\"FRA\\u002fCity Hotel\",\"GBR\\u002fCity Hotel\",\"PRT\\u002fCity Hotel\",\"DEU\\u002fResort Hotel\",\"ESP\\u002fResort Hotel\",\"FRA\\u002fResort Hotel\",\"GBR\\u002fResort Hotel\",\"PRT\\u002fResort Hotel\",\"DEU\",\"ESP\",\"FRA\",\"GBR\",\"PRT\"],\"labels\":[\"3\",\"6\",\"7\",\"7\",\"7\",\"8\",\"8\",\"10\",\"10\",\"11\",\"12\",\"12\",\"12\",\"13\",\"15\",\"16\",\"16\",\"19\",\"21\",\"21\",\"22\",\"23\",\"23\",\"24\",\"24\",\"25\",\"29\",\"30\",\"30\",\"34\",\"36\",\"36\",\"36\",\"37\",\"37\",\"38\",\"38\",\"39\",\"43\",\"44\",\"44\",\"44\",\"46\",\"46\",\"46\",\"47\",\"47\",\"49\",\"49\",\"50\",\"51\",\"54\",\"56\",\"59\",\"61\",\"61\",\"63\",\"67\",\"69\",\"70\",\"70\",\"71\",\"71\",\"71\",\"71\",\"73\",\"73\",\"74\",\"77\",\"79\",\"81\",\"88\",\"95\",\"96\",\"97\",\"97\",\"99\",\"100\",\"102\",\"105\",\"105\",\"108\",\"111\",\"112\",\"113\",\"113\",\"114\",\"116\",\"119\",\"119\",\"123\",\"124\",\"125\",\"127\",\"129\",\"135\",\"137\",\"137\",\"138\",\"138\",\"139\",\"141\",\"142\",\"143\",\"143\",\"144\",\"144\",\"151\",\"153\",\"154\",\"154\",\"155\",\"160\",\"162\",\"164\",\"165\",\"168\",\"168\",\"169\",\"169\",\"178\",\"185\",\"187\",\"187\",\"188\",\"190\",\"200\",\"200\",\"202\",\"205\",\"210\",\"212\",\"216\",\"218\",\"223\",\"227\",\"227\",\"227\",\"235\",\"237\",\"241\",\"245\",\"246\",\"256\",\"258\",\"261\",\"285\",\"288\",\"294\",\"299\",\"300\",\"310\",\"328\",\"334\",\"334\",\"336\",\"337\",\"352\",\"359\",\"401\",\"410\",\"415\",\"423\",\"430\",\"432\",\"433\",\"444\",\"447\",\"469\",\"477\",\"483\",\"493\",\"500\",\"510\",\"514\",\"517\",\"518\",\"519\",\"520\",\"536\",\"555\",\"564\",\"568\",\"574\",\"584\",\"585\",\"590\",\"612\",\"623\",\"623\",\"625\",\"633\",\"644\",\"646\",\"658\",\"660\",\"660\",\"682\",\"685\",\"687\",\"696\",\"702\",\"704\",\"708\",\"712\",\"714\",\"768\",\"783\",\"786\",\"807\",\"815\",\"857\",\"870\",\"883\",\"888\",\"896\",\"911\",\"952\",\"955\",\"956\",\"963\",\"983\",\"985\",\"987\",\"1074\",\"1097\",\"1098\",\"1171\",\"1178\",\"1196\",\"1199\",\"1232\",\"1354\",\"1718\",\"1828\",\"1856\",\"2187\",\"2283\",\"2442\",\"2447\",\"April\",\"April\",\"April\",\"April\",\"April\",\"April\",\"April\",\"April\",\"April\",\"April\",\"August\",\"August\",\"August\",\"August\",\"August\",\"August\",\"August\",\"August\",\"August\",\"August\",\"December\",\"December\",\"December\",\"December\",\"December\",\"December\",\"December\",\"December\",\"December\",\"December\",\"February\",\"February\",\"February\",\"February\",\"February\",\"February\",\"February\",\"February\",\"February\",\"February\",\"January\",\"January\",\"January\",\"January\",\"January\",\"January\",\"January\",\"January\",\"January\",\"January\",\"July\",\"July\",\"July\",\"July\",\"July\",\"July\",\"July\",\"July\",\"July\",\"July\",\"June\",\"June\",\"June\",\"June\",\"June\",\"June\",\"June\",\"June\",\"June\",\"June\",\"March\",\"March\",\"March\",\"March\",\"March\",\"March\",\"March\",\"March\",\"March\",\"March\",\"May\",\"May\",\"May\",\"May\",\"May\",\"May\",\"May\",\"May\",\"May\",\"May\",\"November\",\"November\",\"November\",\"November\",\"November\",\"November\",\"November\",\"November\",\"November\",\"November\",\"October\",\"October\",\"October\",\"October\",\"October\",\"October\",\"October\",\"October\",\"October\",\"October\",\"September\",\"September\",\"September\",\"September\",\"September\",\"September\",\"September\",\"September\",\"September\",\"September\",\"City Hotel\",\"City Hotel\",\"City Hotel\",\"City Hotel\",\"City Hotel\",\"Resort Hotel\",\"Resort Hotel\",\"Resort Hotel\",\"Resort Hotel\",\"Resort Hotel\",\"DEU\",\"ESP\",\"FRA\",\"GBR\",\"PRT\"],\"marker\":{\"coloraxis\":\"coloraxis\",\"colors\":[1.0,1.0,1.0,1.0,1.0,1.0,1.0,1.0,1.0,1.0,1.0,1.0,1.0,1.0,1.0,1.0,1.0,1.0,1.0,1.0,1.0,1.0,1.0,1.0,1.0,1.0,1.0,1.0,1.0,1.0,0.0,1.0,1.0,1.0,0.0,1.0,1.0,0.0,1.0,1.0,1.0,1.0,0.0,1.0,1.0,1.0,1.0,1.0,1.0,1.0,0.0,0.0,0.0,1.0,1.0,1.0,0.0,1.0,1.0,0.0,0.0,1.0,0.0,1.0,0.0,1.0,1.0,1.0,1.0,1.0,0.0,1.0,1.0,1.0,1.0,1.0,1.0,1.0,1.0,0.0,0.0,1.0,0.0,1.0,0.0,0.0,0.0,1.0,1.0,1.0,1.0,0.0,0.0,1.0,0.0,1.0,1.0,0.0,1.0,1.0,1.0,1.0,1.0,0.0,1.0,0.0,1.0,0.0,1.0,0.0,0.0,0.0,0.0,1.0,1.0,0.0,1.0,0.0,0.0,0.0,0.0,0.0,0.0,1.0,0.0,1.0,0.0,1.0,0.0,1.0,1.0,0.0,1.0,0.0,1.0,1.0,0.0,0.0,0.0,0.0,0.0,1.0,0.0,1.0,0.0,0.0,0.0,0.0,0.0,1.0,0.0,0.0,0.0,0.0,1.0,0.0,0.0,0.0,0.0,0.0,0.0,0.0,0.0,0.0,0.0,0.0,0.0,0.0,0.0,0.0,1.0,0.0,0.0,0.0,0.0,0.0,0.0,0.0,0.0,0.0,0.0,0.0,0.0,0.0,0.0,1.0,0.0,0.0,1.0,1.0,1.0,0.0,0.0,0.0,0.0,0.0,1.0,0.0,0.0,0.0,1.0,0.0,0.0,1.0,0.0,0.0,0.0,0.0,0.0,0.0,0.0,1.0,0.0,0.0,0.0,0.0,1.0,0.0,0.0,0.0,1.0,0.0,1.0,0.0,0.0,1.0,0.0,1.0,0.0,0.0,0.0,1.0,0.0,1.0,1.0,1.0,1.0,1.0,1.0,1.0,0.5,0.5,0.5,0.5,0.5,0.5,0.5,0.5,0.5,0.5,0.5,0.5,0.5,0.5,0.5,0.5,0.5,0.5,0.5,0.5,0.5,0.5,0.5,0.5,0.5,0.5,0.5,0.5,0.5,0.5,0.5,0.5,0.5,0.5,0.5,0.5,0.5,0.5,0.5,0.5,0.5,0.5,0.5,0.5,0.5,0.5,0.5,0.5,0.5,0.5,0.5,0.5,0.5,0.5,0.5,0.5,0.5,0.5,0.5,0.5,0.5,0.5,0.5,0.5,0.5,0.5,0.5,0.5,0.5,0.5,0.5,0.5,0.5,0.5,0.5,0.5,0.5,0.5,0.5,0.5,0.5,0.5,0.5,0.5,0.5,0.5,0.5,0.5,0.5,0.5,0.5,0.5,0.5,0.5,0.5,0.5,0.5,0.5,0.5,0.5,0.5,0.5,0.5,0.5,0.5,0.5,0.5,0.5,0.5,0.5,0.5,0.5,0.5,0.5,0.5,0.5,0.5,0.5,0.5,0.5,0.5,0.5,0.5,0.5,0.5,0.5,0.5,0.5,0.5,0.5,0.5,0.5,0.5,0.5,0.5]},\"name\":\"\",\"parents\":[\"DEU\\u002fResort Hotel\\u002fMarch\",\"DEU\\u002fResort Hotel\\u002fFebruary\",\"DEU\\u002fResort Hotel\\u002fJanuary\",\"DEU\\u002fResort Hotel\\u002fNovember\",\"FRA\\u002fResort Hotel\\u002fSeptember\",\"DEU\\u002fResort Hotel\\u002fDecember\",\"FRA\\u002fResort Hotel\\u002fNovember\",\"FRA\\u002fResort Hotel\\u002fJanuary\",\"FRA\\u002fResort Hotel\\u002fJune\",\"DEU\\u002fResort Hotel\\u002fSeptember\",\"DEU\\u002fResort Hotel\\u002fJuly\",\"DEU\\u002fResort Hotel\\u002fOctober\",\"FRA\\u002fResort Hotel\\u002fOctober\",\"FRA\\u002fResort Hotel\\u002fMarch\",\"FRA\\u002fResort Hotel\\u002fFebruary\",\"DEU\\u002fResort Hotel\\u002fApril\",\"DEU\\u002fResort Hotel\\u002fJune\",\"ESP\\u002fResort Hotel\\u002fJanuary\",\"FRA\\u002fResort Hotel\\u002fDecember\",\"ESP\\u002fResort Hotel\\u002fNovember\",\"ESP\\u002fResort Hotel\\u002fMarch\",\"FRA\\u002fResort Hotel\\u002fApril\",\"DEU\\u002fResort Hotel\\u002fMay\",\"FRA\\u002fResort Hotel\\u002fJuly\",\"FRA\\u002fResort Hotel\\u002fMay\",\"DEU\\u002fResort Hotel\\u002fAugust\",\"DEU\\u002fCity Hotel\\u002fJanuary\",\"GBR\\u002fCity Hotel\\u002fJanuary\",\"GBR\\u002fResort Hotel\\u002fJanuary\",\"ESP\\u002fResort Hotel\\u002fDecember\",\"DEU\\u002fResort Hotel\\u002fDecember\",\"ESP\\u002fResort Hotel\\u002fFebruary\",\"FRA\\u002fCity Hotel\\u002fNovember\",\"GBR\\u002fResort Hotel\\u002fDecember\",\"DEU\\u002fResort Hotel\\u002fJanuary\",\"ESP\\u002fResort Hotel\\u002fMay\",\"ESP\\u002fResort Hotel\\u002fSeptember\",\"DEU\\u002fResort Hotel\\u002fAugust\",\"ESP\\u002fCity Hotel\\u002fOctober\",\"FRA\\u002fResort Hotel\\u002fAugust\",\"ESP\\u002fCity Hotel\\u002fNovember\",\"GBR\\u002fResort Hotel\\u002fNovember\",\"DEU\\u002fResort Hotel\\u002fFebruary\",\"GBR\\u002fResort Hotel\\u002fFebruary\",\"GBR\\u002fResort Hotel\\u002fMarch\",\"GBR\\u002fCity Hotel\\u002fDecember\",\"DEU\\u002fCity Hotel\\u002fNovember\",\"DEU\\u002fCity Hotel\\u002fFebruary\",\"GBR\\u002fCity Hotel\\u002fNovember\",\"ESP\\u002fCity Hotel\\u002fSeptember\",\"DEU\\u002fResort Hotel\\u002fJuly\",\"FRA\\u002fResort Hotel\\u002fJune\",\"DEU\\u002fResort Hotel\\u002fJune\",\"DEU\\u002fCity Hotel\\u002fDecember\",\"ESP\\u002fResort Hotel\\u002fJune\",\"DEU\\u002fCity Hotel\\u002fSeptember\",\"DEU\\u002fResort Hotel\\u002fSeptember\",\"FRA\\u002fCity Hotel\\u002fJanuary\",\"ESP\\u002fCity Hotel\\u002fJanuary\",\"GBR\\u002fCity Hotel\\u002fDecember\",\"DEU\\u002fResort Hotel\\u002fNovember\",\"ESP\\u002fCity Hotel\\u002fFebruary\",\"FRA\\u002fResort Hotel\\u002fJuly\",\"GBR\\u002fCity Hotel\\u002fOctober\",\"DEU\\u002fResort Hotel\\u002fOctober\",\"FRA\\u002fCity Hotel\\u002fDecember\",\"DEU\\u002fCity Hotel\\u002fOctober\",\"GBR\\u002fResort Hotel\\u002fJuly\",\"GBR\\u002fResort Hotel\\u002fOctober\",\"ESP\\u002fCity Hotel\\u002fMay\",\"FRA\\u002fResort Hotel\\u002fJanuary\",\"ESP\\u002fResort Hotel\\u002fOctober\",\"ESP\\u002fResort Hotel\\u002fApril\",\"DEU\\u002fCity Hotel\\u002fJune\",\"GBR\\u002fResort Hotel\\u002fAugust\",\"GBR\\u002fCity Hotel\\u002fFebruary\",\"ESP\\u002fCity Hotel\\u002fJune\",\"GBR\\u002fResort Hotel\\u002fApril\",\"GBR\\u002fResort Hotel\\u002fJune\",\"FRA\\u002fResort Hotel\\u002fFebruary\",\"GBR\\u002fCity Hotel\\u002fJanuary\",\"FRA\\u002fCity Hotel\\u002fSeptember\",\"FRA\\u002fResort Hotel\\u002fMarch\",\"GBR\\u002fCity Hotel\\u002fSeptember\",\"ESP\\u002fResort Hotel\\u002fJune\",\"FRA\\u002fResort Hotel\\u002fOctober\",\"ESP\\u002fResort Hotel\\u002fMay\",\"DEU\\u002fCity Hotel\\u002fMarch\",\"GBR\\u002fResort Hotel\\u002fMay\",\"GBR\\u002fResort Hotel\\u002fSeptember\",\"DEU\\u002fCity Hotel\\u002fJuly\",\"FRA\\u002fResort Hotel\\u002fDecember\",\"DEU\\u002fCity Hotel\\u002fDecember\",\"FRA\\u002fCity Hotel\\u002fFebruary\",\"FRA\\u002fResort Hotel\\u002fApril\",\"FRA\\u002fCity Hotel\\u002fMarch\",\"DEU\\u002fCity Hotel\\u002fAugust\",\"FRA\\u002fResort Hotel\\u002fMay\",\"DEU\\u002fCity Hotel\\u002fApril\",\"FRA\\u002fCity Hotel\\u002fOctober\",\"GBR\\u002fCity Hotel\\u002fMarch\",\"ESP\\u002fCity Hotel\\u002fMarch\",\"ESP\\u002fCity Hotel\\u002fJuly\",\"DEU\\u002fCity Hotel\\u002fJanuary\",\"ESP\\u002fResort Hotel\\u002fJuly\",\"ESP\\u002fCity Hotel\\u002fJune\",\"DEU\\u002fCity Hotel\\u002fMay\",\"FRA\\u002fResort Hotel\\u002fAugust\",\"ESP\\u002fCity Hotel\\u002fApril\",\"DEU\\u002fResort Hotel\\u002fMarch\",\"ESP\\u002fResort Hotel\\u002fSeptember\",\"FRA\\u002fResort Hotel\\u002fSeptember\",\"ESP\\u002fCity Hotel\\u002fMay\",\"FRA\\u002fCity Hotel\\u002fJune\",\"GBR\\u002fCity Hotel\\u002fApril\",\"ESP\\u002fCity Hotel\\u002fNovember\",\"FRA\\u002fCity Hotel\\u002fJuly\",\"DEU\\u002fCity Hotel\\u002fNovember\",\"GBR\\u002fCity Hotel\\u002fNovember\",\"FRA\\u002fResort Hotel\\u002fNovember\",\"ESP\\u002fResort Hotel\\u002fJanuary\",\"ESP\\u002fCity Hotel\\u002fApril\",\"DEU\\u002fCity Hotel\\u002fFebruary\",\"GBR\\u002fCity Hotel\\u002fJune\",\"DEU\\u002fResort Hotel\\u002fMay\",\"ESP\\u002fCity Hotel\\u002fDecember\",\"ESP\\u002fCity Hotel\\u002fJanuary\",\"FRA\\u002fCity Hotel\\u002fMay\",\"GBR\\u002fResort Hotel\\u002fJanuary\",\"PRT\\u002fResort Hotel\\u002fJanuary\",\"FRA\\u002fCity Hotel\\u002fApril\",\"ESP\\u002fResort Hotel\\u002fNovember\",\"GBR\\u002fCity Hotel\\u002fJuly\",\"ESP\\u002fResort Hotel\\u002fOctober\",\"GBR\\u002fCity Hotel\\u002fMay\",\"GBR\\u002fCity Hotel\\u002fAugust\",\"GBR\\u002fResort Hotel\\u002fDecember\",\"GBR\\u002fCity Hotel\\u002fFebruary\",\"ESP\\u002fCity Hotel\\u002fJuly\",\"ESP\\u002fResort Hotel\\u002fApril\",\"ESP\\u002fCity Hotel\\u002fOctober\",\"ESP\\u002fCity Hotel\\u002fAugust\",\"DEU\\u002fResort Hotel\\u002fApril\",\"ESP\\u002fResort Hotel\\u002fAugust\",\"GBR\\u002fResort Hotel\\u002fNovember\",\"FRA\\u002fCity Hotel\\u002fJanuary\",\"ESP\\u002fCity Hotel\\u002fFebruary\",\"ESP\\u002fCity Hotel\\u002fMarch\",\"GBR\\u002fCity Hotel\\u002fOctober\",\"FRA\\u002fCity Hotel\\u002fAugust\",\"ESP\\u002fResort Hotel\\u002fFebruary\",\"ESP\\u002fResort Hotel\\u002fMarch\",\"GBR\\u002fCity Hotel\\u002fApril\",\"GBR\\u002fCity Hotel\\u002fMarch\",\"PRT\\u002fResort Hotel\\u002fNovember\",\"ESP\\u002fCity Hotel\\u002fSeptember\",\"GBR\\u002fCity Hotel\\u002fSeptember\",\"ESP\\u002fResort Hotel\\u002fDecember\",\"ESP\\u002fCity Hotel\\u002fDecember\",\"ESP\\u002fResort Hotel\\u002fJuly\",\"DEU\\u002fCity Hotel\\u002fMarch\",\"FRA\\u002fCity Hotel\\u002fDecember\",\"GBR\\u002fResort Hotel\\u002fFebruary\",\"PRT\\u002fResort Hotel\\u002fSeptember\",\"GBR\\u002fCity Hotel\\u002fMay\",\"GBR\\u002fResort Hotel\\u002fAugust\",\"GBR\\u002fCity Hotel\\u002fAugust\",\"DEU\\u002fCity Hotel\\u002fSeptember\",\"GBR\\u002fResort Hotel\\u002fMarch\",\"GBR\\u002fCity Hotel\\u002fJune\",\"PRT\\u002fResort Hotel\\u002fDecember\",\"DEU\\u002fCity Hotel\\u002fApril\",\"FRA\\u002fCity Hotel\\u002fNovember\",\"GBR\\u002fResort Hotel\\u002fJuly\",\"PRT\\u002fResort Hotel\\u002fJune\",\"ESP\\u002fResort Hotel\\u002fAugust\",\"DEU\\u002fCity Hotel\\u002fMay\",\"FRA\\u002fCity Hotel\\u002fSeptember\",\"FRA\\u002fCity Hotel\\u002fJuly\",\"GBR\\u002fCity Hotel\\u002fJuly\",\"GBR\\u002fResort Hotel\\u002fApril\",\"FRA\\u002fCity Hotel\\u002fFebruary\",\"GBR\\u002fResort Hotel\\u002fSeptember\",\"PRT\\u002fResort Hotel\\u002fMay\",\"DEU\\u002fCity Hotel\\u002fOctober\",\"PRT\\u002fResort Hotel\\u002fOctober\",\"FRA\\u002fCity Hotel\\u002fJune\",\"GBR\\u002fResort Hotel\\u002fJune\",\"PRT\\u002fResort Hotel\\u002fJune\",\"PRT\\u002fResort Hotel\\u002fMarch\",\"PRT\\u002fResort Hotel\\u002fFebruary\",\"DEU\\u002fCity Hotel\\u002fJune\",\"PRT\\u002fCity Hotel\\u002fJanuary\",\"DEU\\u002fCity Hotel\\u002fJuly\",\"DEU\\u002fCity Hotel\\u002fAugust\",\"PRT\\u002fCity Hotel\\u002fDecember\",\"PRT\\u002fResort Hotel\\u002fMay\",\"PRT\\u002fResort Hotel\\u002fOctober\",\"FRA\\u002fCity Hotel\\u002fOctober\",\"ESP\\u002fCity Hotel\\u002fAugust\",\"PRT\\u002fResort Hotel\\u002fSeptember\",\"PRT\\u002fCity Hotel\\u002fApril\",\"PRT\\u002fCity Hotel\\u002fNovember\",\"PRT\\u002fResort Hotel\\u002fApril\",\"FRA\\u002fCity Hotel\\u002fApril\",\"FRA\\u002fCity Hotel\\u002fMarch\",\"PRT\\u002fResort Hotel\\u002fApril\",\"GBR\\u002fResort Hotel\\u002fMay\",\"FRA\\u002fCity Hotel\\u002fMay\",\"PRT\\u002fResort Hotel\\u002fNovember\",\"FRA\\u002fCity Hotel\\u002fAugust\",\"PRT\\u002fCity Hotel\\u002fJanuary\",\"PRT\\u002fCity Hotel\\u002fFebruary\",\"GBR\\u002fResort Hotel\\u002fOctober\",\"PRT\\u002fCity Hotel\\u002fMarch\",\"PRT\\u002fCity Hotel\\u002fMay\",\"PRT\\u002fResort Hotel\\u002fJuly\",\"PRT\\u002fResort Hotel\\u002fDecember\",\"PRT\\u002fCity Hotel\\u002fJune\",\"PRT\\u002fResort Hotel\\u002fJanuary\",\"PRT\\u002fCity Hotel\\u002fDecember\",\"PRT\\u002fResort Hotel\\u002fMarch\",\"PRT\\u002fResort Hotel\\u002fAugust\",\"PRT\\u002fCity Hotel\\u002fAugust\",\"PRT\\u002fResort Hotel\\u002fFebruary\",\"PRT\\u002fCity Hotel\\u002fFebruary\",\"PRT\\u002fResort Hotel\\u002fJuly\",\"PRT\\u002fCity Hotel\\u002fNovember\",\"PRT\\u002fCity Hotel\\u002fJuly\",\"PRT\\u002fCity Hotel\\u002fSeptember\",\"PRT\\u002fCity Hotel\\u002fOctober\",\"PRT\\u002fCity Hotel\\u002fMarch\",\"PRT\\u002fResort Hotel\\u002fAugust\",\"PRT\\u002fCity Hotel\\u002fJuly\",\"PRT\\u002fCity Hotel\\u002fAugust\",\"PRT\\u002fCity Hotel\\u002fApril\",\"PRT\\u002fCity Hotel\\u002fMay\",\"PRT\\u002fCity Hotel\\u002fJune\",\"PRT\\u002fCity Hotel\\u002fOctober\",\"PRT\\u002fCity Hotel\\u002fSeptember\",\"DEU\\u002fCity Hotel\",\"ESP\\u002fCity Hotel\",\"FRA\\u002fCity Hotel\",\"GBR\\u002fCity Hotel\",\"PRT\\u002fCity Hotel\",\"DEU\\u002fResort Hotel\",\"ESP\\u002fResort Hotel\",\"FRA\\u002fResort Hotel\",\"GBR\\u002fResort Hotel\",\"PRT\\u002fResort Hotel\",\"DEU\\u002fCity Hotel\",\"ESP\\u002fCity Hotel\",\"FRA\\u002fCity Hotel\",\"GBR\\u002fCity Hotel\",\"PRT\\u002fCity Hotel\",\"DEU\\u002fResort Hotel\",\"ESP\\u002fResort Hotel\",\"FRA\\u002fResort Hotel\",\"GBR\\u002fResort Hotel\",\"PRT\\u002fResort Hotel\",\"DEU\\u002fCity Hotel\",\"ESP\\u002fCity Hotel\",\"FRA\\u002fCity Hotel\",\"GBR\\u002fCity Hotel\",\"PRT\\u002fCity Hotel\",\"DEU\\u002fResort Hotel\",\"ESP\\u002fResort Hotel\",\"FRA\\u002fResort Hotel\",\"GBR\\u002fResort Hotel\",\"PRT\\u002fResort Hotel\",\"DEU\\u002fCity Hotel\",\"ESP\\u002fCity Hotel\",\"FRA\\u002fCity Hotel\",\"GBR\\u002fCity Hotel\",\"PRT\\u002fCity Hotel\",\"DEU\\u002fResort Hotel\",\"ESP\\u002fResort Hotel\",\"FRA\\u002fResort Hotel\",\"GBR\\u002fResort Hotel\",\"PRT\\u002fResort Hotel\",\"DEU\\u002fCity Hotel\",\"ESP\\u002fCity Hotel\",\"FRA\\u002fCity Hotel\",\"GBR\\u002fCity Hotel\",\"PRT\\u002fCity Hotel\",\"DEU\\u002fResort Hotel\",\"ESP\\u002fResort Hotel\",\"FRA\\u002fResort Hotel\",\"GBR\\u002fResort Hotel\",\"PRT\\u002fResort Hotel\",\"DEU\\u002fCity Hotel\",\"ESP\\u002fCity Hotel\",\"FRA\\u002fCity Hotel\",\"GBR\\u002fCity Hotel\",\"PRT\\u002fCity Hotel\",\"DEU\\u002fResort Hotel\",\"ESP\\u002fResort Hotel\",\"FRA\\u002fResort Hotel\",\"GBR\\u002fResort Hotel\",\"PRT\\u002fResort Hotel\",\"DEU\\u002fCity Hotel\",\"ESP\\u002fCity Hotel\",\"FRA\\u002fCity Hotel\",\"GBR\\u002fCity Hotel\",\"PRT\\u002fCity Hotel\",\"DEU\\u002fResort Hotel\",\"ESP\\u002fResort Hotel\",\"FRA\\u002fResort Hotel\",\"GBR\\u002fResort Hotel\",\"PRT\\u002fResort Hotel\",\"DEU\\u002fCity Hotel\",\"ESP\\u002fCity Hotel\",\"FRA\\u002fCity Hotel\",\"GBR\\u002fCity Hotel\",\"PRT\\u002fCity Hotel\",\"DEU\\u002fResort Hotel\",\"ESP\\u002fResort Hotel\",\"FRA\\u002fResort Hotel\",\"GBR\\u002fResort Hotel\",\"PRT\\u002fResort Hotel\",\"DEU\\u002fCity Hotel\",\"ESP\\u002fCity Hotel\",\"FRA\\u002fCity Hotel\",\"GBR\\u002fCity Hotel\",\"PRT\\u002fCity Hotel\",\"DEU\\u002fResort Hotel\",\"ESP\\u002fResort Hotel\",\"FRA\\u002fResort Hotel\",\"GBR\\u002fResort Hotel\",\"PRT\\u002fResort Hotel\",\"DEU\\u002fCity Hotel\",\"ESP\\u002fCity Hotel\",\"FRA\\u002fCity Hotel\",\"GBR\\u002fCity Hotel\",\"PRT\\u002fCity Hotel\",\"DEU\\u002fResort Hotel\",\"ESP\\u002fResort Hotel\",\"FRA\\u002fResort Hotel\",\"GBR\\u002fResort Hotel\",\"PRT\\u002fResort Hotel\",\"DEU\\u002fCity Hotel\",\"ESP\\u002fCity Hotel\",\"FRA\\u002fCity Hotel\",\"GBR\\u002fCity Hotel\",\"PRT\\u002fCity Hotel\",\"DEU\\u002fResort Hotel\",\"ESP\\u002fResort Hotel\",\"FRA\\u002fResort Hotel\",\"GBR\\u002fResort Hotel\",\"PRT\\u002fResort Hotel\",\"DEU\\u002fCity Hotel\",\"ESP\\u002fCity Hotel\",\"FRA\\u002fCity Hotel\",\"GBR\\u002fCity Hotel\",\"PRT\\u002fCity Hotel\",\"DEU\\u002fResort Hotel\",\"ESP\\u002fResort Hotel\",\"FRA\\u002fResort Hotel\",\"GBR\\u002fResort Hotel\",\"PRT\\u002fResort Hotel\",\"DEU\",\"ESP\",\"FRA\",\"GBR\",\"PRT\",\"DEU\",\"ESP\",\"FRA\",\"GBR\",\"PRT\",\"\",\"\",\"\",\"\",\"\"],\"values\":[1,1,1,1,1,1,1,1,1,1,1,1,1,1,1,1,1,1,1,1,1,1,1,1,1,1,1,1,1,1,1,1,1,1,1,1,1,1,1,1,1,1,1,1,1,1,1,1,1,1,1,1,1,1,1,1,1,1,1,1,1,1,1,1,1,1,1,1,1,1,1,1,1,1,1,1,1,1,1,1,1,1,1,1,1,1,1,1,1,1,1,1,1,1,1,1,1,1,1,1,1,1,1,1,1,1,1,1,1,1,1,1,1,1,1,1,1,1,1,1,1,1,1,1,1,1,1,1,1,1,1,1,1,1,1,1,1,1,1,1,1,1,1,1,1,1,1,1,1,1,1,1,1,1,1,1,1,1,1,1,1,1,1,1,1,1,1,1,1,1,1,1,1,1,1,1,1,1,1,1,1,1,1,1,1,1,1,1,1,1,1,1,1,1,1,1,1,1,1,1,1,1,1,1,1,1,1,1,1,1,1,1,1,1,1,1,1,1,1,1,1,1,1,1,1,1,1,1,1,1,1,1,1,1,1,1,1,1,1,1,2,2,2,2,2,2,2,2,2,2,2,2,2,2,2,2,2,2,2,2,2,2,2,2,2,2,2,2,2,2,2,2,2,2,2,2,2,2,2,2,2,2,2,2,2,2,2,2,2,2,2,2,2,2,2,2,2,2,2,2,2,2,2,2,2,2,2,2,2,2,2,2,2,2,2,2,2,2,2,2,2,2,2,2,2,2,2,2,2,2,2,2,2,2,2,2,2,2,2,2,2,2,2,2,2,2,2,2,2,2,2,2,2,2,2,2,2,2,2,2,24,24,24,24,24,24,24,24,24,24,48,48,48,48,48],\"type\":\"sunburst\"}],                        {\"template\":{\"data\":{\"histogram2dcontour\":[{\"type\":\"histogram2dcontour\",\"colorbar\":{\"outlinewidth\":0,\"ticks\":\"\"},\"colorscale\":[[0.0,\"#0d0887\"],[0.1111111111111111,\"#46039f\"],[0.2222222222222222,\"#7201a8\"],[0.3333333333333333,\"#9c179e\"],[0.4444444444444444,\"#bd3786\"],[0.5555555555555556,\"#d8576b\"],[0.6666666666666666,\"#ed7953\"],[0.7777777777777778,\"#fb9f3a\"],[0.8888888888888888,\"#fdca26\"],[1.0,\"#f0f921\"]]}],\"choropleth\":[{\"type\":\"choropleth\",\"colorbar\":{\"outlinewidth\":0,\"ticks\":\"\"}}],\"histogram2d\":[{\"type\":\"histogram2d\",\"colorbar\":{\"outlinewidth\":0,\"ticks\":\"\"},\"colorscale\":[[0.0,\"#0d0887\"],[0.1111111111111111,\"#46039f\"],[0.2222222222222222,\"#7201a8\"],[0.3333333333333333,\"#9c179e\"],[0.4444444444444444,\"#bd3786\"],[0.5555555555555556,\"#d8576b\"],[0.6666666666666666,\"#ed7953\"],[0.7777777777777778,\"#fb9f3a\"],[0.8888888888888888,\"#fdca26\"],[1.0,\"#f0f921\"]]}],\"heatmap\":[{\"type\":\"heatmap\",\"colorbar\":{\"outlinewidth\":0,\"ticks\":\"\"},\"colorscale\":[[0.0,\"#0d0887\"],[0.1111111111111111,\"#46039f\"],[0.2222222222222222,\"#7201a8\"],[0.3333333333333333,\"#9c179e\"],[0.4444444444444444,\"#bd3786\"],[0.5555555555555556,\"#d8576b\"],[0.6666666666666666,\"#ed7953\"],[0.7777777777777778,\"#fb9f3a\"],[0.8888888888888888,\"#fdca26\"],[1.0,\"#f0f921\"]]}],\"heatmapgl\":[{\"type\":\"heatmapgl\",\"colorbar\":{\"outlinewidth\":0,\"ticks\":\"\"},\"colorscale\":[[0.0,\"#0d0887\"],[0.1111111111111111,\"#46039f\"],[0.2222222222222222,\"#7201a8\"],[0.3333333333333333,\"#9c179e\"],[0.4444444444444444,\"#bd3786\"],[0.5555555555555556,\"#d8576b\"],[0.6666666666666666,\"#ed7953\"],[0.7777777777777778,\"#fb9f3a\"],[0.8888888888888888,\"#fdca26\"],[1.0,\"#f0f921\"]]}],\"contourcarpet\":[{\"type\":\"contourcarpet\",\"colorbar\":{\"outlinewidth\":0,\"ticks\":\"\"}}],\"contour\":[{\"type\":\"contour\",\"colorbar\":{\"outlinewidth\":0,\"ticks\":\"\"},\"colorscale\":[[0.0,\"#0d0887\"],[0.1111111111111111,\"#46039f\"],[0.2222222222222222,\"#7201a8\"],[0.3333333333333333,\"#9c179e\"],[0.4444444444444444,\"#bd3786\"],[0.5555555555555556,\"#d8576b\"],[0.6666666666666666,\"#ed7953\"],[0.7777777777777778,\"#fb9f3a\"],[0.8888888888888888,\"#fdca26\"],[1.0,\"#f0f921\"]]}],\"surface\":[{\"type\":\"surface\",\"colorbar\":{\"outlinewidth\":0,\"ticks\":\"\"},\"colorscale\":[[0.0,\"#0d0887\"],[0.1111111111111111,\"#46039f\"],[0.2222222222222222,\"#7201a8\"],[0.3333333333333333,\"#9c179e\"],[0.4444444444444444,\"#bd3786\"],[0.5555555555555556,\"#d8576b\"],[0.6666666666666666,\"#ed7953\"],[0.7777777777777778,\"#fb9f3a\"],[0.8888888888888888,\"#fdca26\"],[1.0,\"#f0f921\"]]}],\"mesh3d\":[{\"type\":\"mesh3d\",\"colorbar\":{\"outlinewidth\":0,\"ticks\":\"\"}}],\"scatter\":[{\"fillpattern\":{\"fillmode\":\"overlay\",\"size\":10,\"solidity\":0.2},\"type\":\"scatter\"}],\"parcoords\":[{\"type\":\"parcoords\",\"line\":{\"colorbar\":{\"outlinewidth\":0,\"ticks\":\"\"}}}],\"scatterpolargl\":[{\"type\":\"scatterpolargl\",\"marker\":{\"colorbar\":{\"outlinewidth\":0,\"ticks\":\"\"}}}],\"bar\":[{\"error_x\":{\"color\":\"#2a3f5f\"},\"error_y\":{\"color\":\"#2a3f5f\"},\"marker\":{\"line\":{\"color\":\"#E5ECF6\",\"width\":0.5},\"pattern\":{\"fillmode\":\"overlay\",\"size\":10,\"solidity\":0.2}},\"type\":\"bar\"}],\"scattergeo\":[{\"type\":\"scattergeo\",\"marker\":{\"colorbar\":{\"outlinewidth\":0,\"ticks\":\"\"}}}],\"scatterpolar\":[{\"type\":\"scatterpolar\",\"marker\":{\"colorbar\":{\"outlinewidth\":0,\"ticks\":\"\"}}}],\"histogram\":[{\"marker\":{\"pattern\":{\"fillmode\":\"overlay\",\"size\":10,\"solidity\":0.2}},\"type\":\"histogram\"}],\"scattergl\":[{\"type\":\"scattergl\",\"marker\":{\"colorbar\":{\"outlinewidth\":0,\"ticks\":\"\"}}}],\"scatter3d\":[{\"type\":\"scatter3d\",\"line\":{\"colorbar\":{\"outlinewidth\":0,\"ticks\":\"\"}},\"marker\":{\"colorbar\":{\"outlinewidth\":0,\"ticks\":\"\"}}}],\"scattermapbox\":[{\"type\":\"scattermapbox\",\"marker\":{\"colorbar\":{\"outlinewidth\":0,\"ticks\":\"\"}}}],\"scatterternary\":[{\"type\":\"scatterternary\",\"marker\":{\"colorbar\":{\"outlinewidth\":0,\"ticks\":\"\"}}}],\"scattercarpet\":[{\"type\":\"scattercarpet\",\"marker\":{\"colorbar\":{\"outlinewidth\":0,\"ticks\":\"\"}}}],\"carpet\":[{\"aaxis\":{\"endlinecolor\":\"#2a3f5f\",\"gridcolor\":\"white\",\"linecolor\":\"white\",\"minorgridcolor\":\"white\",\"startlinecolor\":\"#2a3f5f\"},\"baxis\":{\"endlinecolor\":\"#2a3f5f\",\"gridcolor\":\"white\",\"linecolor\":\"white\",\"minorgridcolor\":\"white\",\"startlinecolor\":\"#2a3f5f\"},\"type\":\"carpet\"}],\"table\":[{\"cells\":{\"fill\":{\"color\":\"#EBF0F8\"},\"line\":{\"color\":\"white\"}},\"header\":{\"fill\":{\"color\":\"#C8D4E3\"},\"line\":{\"color\":\"white\"}},\"type\":\"table\"}],\"barpolar\":[{\"marker\":{\"line\":{\"color\":\"#E5ECF6\",\"width\":0.5},\"pattern\":{\"fillmode\":\"overlay\",\"size\":10,\"solidity\":0.2}},\"type\":\"barpolar\"}],\"pie\":[{\"automargin\":true,\"type\":\"pie\"}]},\"layout\":{\"autotypenumbers\":\"strict\",\"colorway\":[\"#636efa\",\"#EF553B\",\"#00cc96\",\"#ab63fa\",\"#FFA15A\",\"#19d3f3\",\"#FF6692\",\"#B6E880\",\"#FF97FF\",\"#FECB52\"],\"font\":{\"color\":\"#2a3f5f\"},\"hovermode\":\"closest\",\"hoverlabel\":{\"align\":\"left\"},\"paper_bgcolor\":\"white\",\"plot_bgcolor\":\"#E5ECF6\",\"polar\":{\"bgcolor\":\"#E5ECF6\",\"angularaxis\":{\"gridcolor\":\"white\",\"linecolor\":\"white\",\"ticks\":\"\"},\"radialaxis\":{\"gridcolor\":\"white\",\"linecolor\":\"white\",\"ticks\":\"\"}},\"ternary\":{\"bgcolor\":\"#E5ECF6\",\"aaxis\":{\"gridcolor\":\"white\",\"linecolor\":\"white\",\"ticks\":\"\"},\"baxis\":{\"gridcolor\":\"white\",\"linecolor\":\"white\",\"ticks\":\"\"},\"caxis\":{\"gridcolor\":\"white\",\"linecolor\":\"white\",\"ticks\":\"\"}},\"coloraxis\":{\"colorbar\":{\"outlinewidth\":0,\"ticks\":\"\"}},\"colorscale\":{\"sequential\":[[0.0,\"#0d0887\"],[0.1111111111111111,\"#46039f\"],[0.2222222222222222,\"#7201a8\"],[0.3333333333333333,\"#9c179e\"],[0.4444444444444444,\"#bd3786\"],[0.5555555555555556,\"#d8576b\"],[0.6666666666666666,\"#ed7953\"],[0.7777777777777778,\"#fb9f3a\"],[0.8888888888888888,\"#fdca26\"],[1.0,\"#f0f921\"]],\"sequentialminus\":[[0.0,\"#0d0887\"],[0.1111111111111111,\"#46039f\"],[0.2222222222222222,\"#7201a8\"],[0.3333333333333333,\"#9c179e\"],[0.4444444444444444,\"#bd3786\"],[0.5555555555555556,\"#d8576b\"],[0.6666666666666666,\"#ed7953\"],[0.7777777777777778,\"#fb9f3a\"],[0.8888888888888888,\"#fdca26\"],[1.0,\"#f0f921\"]],\"diverging\":[[0,\"#8e0152\"],[0.1,\"#c51b7d\"],[0.2,\"#de77ae\"],[0.3,\"#f1b6da\"],[0.4,\"#fde0ef\"],[0.5,\"#f7f7f7\"],[0.6,\"#e6f5d0\"],[0.7,\"#b8e186\"],[0.8,\"#7fbc41\"],[0.9,\"#4d9221\"],[1,\"#276419\"]]},\"xaxis\":{\"gridcolor\":\"white\",\"linecolor\":\"white\",\"ticks\":\"\",\"title\":{\"standoff\":15},\"zerolinecolor\":\"white\",\"automargin\":true,\"zerolinewidth\":2},\"yaxis\":{\"gridcolor\":\"white\",\"linecolor\":\"white\",\"ticks\":\"\",\"title\":{\"standoff\":15},\"zerolinecolor\":\"white\",\"automargin\":true,\"zerolinewidth\":2},\"scene\":{\"xaxis\":{\"backgroundcolor\":\"#E5ECF6\",\"gridcolor\":\"white\",\"linecolor\":\"white\",\"showbackground\":true,\"ticks\":\"\",\"zerolinecolor\":\"white\",\"gridwidth\":2},\"yaxis\":{\"backgroundcolor\":\"#E5ECF6\",\"gridcolor\":\"white\",\"linecolor\":\"white\",\"showbackground\":true,\"ticks\":\"\",\"zerolinecolor\":\"white\",\"gridwidth\":2},\"zaxis\":{\"backgroundcolor\":\"#E5ECF6\",\"gridcolor\":\"white\",\"linecolor\":\"white\",\"showbackground\":true,\"ticks\":\"\",\"zerolinecolor\":\"white\",\"gridwidth\":2}},\"shapedefaults\":{\"line\":{\"color\":\"#2a3f5f\"}},\"annotationdefaults\":{\"arrowcolor\":\"#2a3f5f\",\"arrowhead\":0,\"arrowwidth\":1},\"geo\":{\"bgcolor\":\"white\",\"landcolor\":\"#E5ECF6\",\"subunitcolor\":\"white\",\"showland\":true,\"showlakes\":true,\"lakecolor\":\"white\"},\"title\":{\"x\":0.05},\"mapbox\":{\"style\":\"light\"}}},\"coloraxis\":{\"colorbar\":{\"title\":{\"text\":\"is_canceled\"}},\"colorscale\":[[0.0,\"#0d0887\"],[0.1111111111111111,\"#46039f\"],[0.2222222222222222,\"#7201a8\"],[0.3333333333333333,\"#9c179e\"],[0.4444444444444444,\"#bd3786\"],[0.5555555555555556,\"#d8576b\"],[0.6666666666666666,\"#ed7953\"],[0.7777777777777778,\"#fb9f3a\"],[0.8888888888888888,\"#fdca26\"],[1.0,\"#f0f921\"]]},\"legend\":{\"tracegroupgap\":0},\"margin\":{\"t\":60},\"hovermode\":false},                        {\"responsive\": true}                    ).then(function(){\n",
       "                            \n",
       "var gd = document.getElementById('869c2d95-df36-4367-a148-5b4d5440625a');\n",
       "var x = new MutationObserver(function (mutations, observer) {{\n",
       "        var display = window.getComputedStyle(gd).display;\n",
       "        if (!display || display === 'none') {{\n",
       "            console.log([gd, 'removed!']);\n",
       "            Plotly.purge(gd);\n",
       "            observer.disconnect();\n",
       "        }}\n",
       "}});\n",
       "\n",
       "// Listen for the removal of the full notebook cells\n",
       "var notebookContainer = gd.closest('#notebook-container');\n",
       "if (notebookContainer) {{\n",
       "    x.observe(notebookContainer, {childList: true});\n",
       "}}\n",
       "\n",
       "// Listen for the clearing of the current output cell\n",
       "var outputEl = gd.closest('.output');\n",
       "if (outputEl) {{\n",
       "    x.observe(outputEl, {childList: true});\n",
       "}}\n",
       "\n",
       "                        })                };                });            </script>        </div>"
      ]
     },
     "metadata": {},
     "output_type": "display_data"
    }
   ],
   "source": [
    "df=hd\n",
    "countries = pd.DataFrame(df['country'].value_counts().sort_values())\n",
    "countries['country_name'] = countries.index\n",
    "countries.reset_index(drop=True, inplace=True)\n",
    "\n",
    "top_countries = countries['country_name'].loc[countries.shape[0] - 5:].values\n",
    "\n",
    "\n",
    "agg_hd = df.groupby(['arrival_date_month', 'country', 'hotel', 'is_canceled']).size().reset_index(name='count'); agg_hd\n",
    "fig = px.sunburst(agg_hd[agg_hd['country'].isin(top_countries)], path=['country', 'hotel', 'arrival_date_month', 'count'], color='is_canceled')\n",
    "fig.update_layout(hovermode=False)\n",
    "fig.show()"
   ]
  },
  {
   "cell_type": "code",
   "execution_count": null,
   "id": "1c996d04-a987-4561-a5ea-192f53d60e25",
   "metadata": {},
   "outputs": [],
   "source": [
    "#  According to my sunburst chart my hypothesis was not confirmed, as Resort Hotels are in high demand mostly in the summer, but  City hotels remain popular in both warm and cold seasons.\n",
    "# For example: In France  Resort Hotels are queit popular August, at the same time City Hotels remain in demand both in June and December."
   ]
  }
 ],
 "metadata": {
  "kernelspec": {
   "display_name": "Python 3 (ipykernel)",
   "language": "python",
   "name": "python3"
  },
  "language_info": {
   "codemirror_mode": {
    "name": "ipython",
    "version": 3
   },
   "file_extension": ".py",
   "mimetype": "text/x-python",
   "name": "python",
   "nbconvert_exporter": "python",
   "pygments_lexer": "ipython3",
   "version": "3.10.11"
  }
 },
 "nbformat": 4,
 "nbformat_minor": 5
}
